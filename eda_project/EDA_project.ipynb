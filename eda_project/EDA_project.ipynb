{
 "cells": [
  {
   "cell_type": "markdown",
   "source": "[Kaggle](https://www.kaggle.com/imakash3011/customer-personality-analysis)\n\n#### Equipe:\n* Airton Carneiro\n* João Pedro do Nascimento Sandolin\n* Luís Eraldo Cassias Pereira\n* Tulio de Souza Freire\n\n### Dataset: Customer Personality",
   "metadata": {
    "cell_id": "eb0fc493-c1eb-4d6b-841b-2fa214d4ab1a",
    "tags": [],
    "deepnote_cell_type": "markdown"
   }
  },
  {
   "cell_type": "markdown",
   "source": "### **Content Attributes**\n\n##### People\n\n* ID: Customer's unique identifier\n* Year_Birth: Customer's birth year\n* Education: Customer's education level\n* Marital_Status: Customer's marital status\n* Income: Customer's yearly household income\n* Kidhome: Number of children in customer's household\n* Teenhome: Number of teenagers in customer's household\n* Dt_Customer: Date of customer's enrollment with the company\n* Recency: Number of days since customer's last purchase\n* Complain: 1 if the customer complained in the last 2 years, 0 otherwise\n\n##### Products\n\n* MntWines: Amount spent on wine in last 2 years\n* MntFruits: Amount spent on fruits in last 2 years\n* MntMeatProducts: Amount spent on meat in last 2 years\n* MntFishProducts: Amount spent on fish in last 2 years\n* MntSweetProducts: Amount spent on sweets in last 2 years\n* MntGoldProds: Amount spent on gold in last 2 years\n\n##### Promotion\n\n* NumDealsPurchases: Number of purchases made with a discount\n* AcceptedCmp1: 1 if customer accepted the offer in the 1st campaign, 0 otherwise\n* AcceptedCmp2: 1 if customer accepted the offer in the 2nd campaign, 0 otherwise\n* AcceptedCmp3: 1 if customer accepted the offer in the 3rd campaign, 0 otherwise\n* AcceptedCmp4: 1 if customer accepted the offer in the 4th campaign, 0 otherwise\n* AcceptedCmp5: 1 if customer accepted the offer in the 5th campaign, 0 otherwise\n* Response: 1 if customer accepted the offer in the last campaign, 0 otherwise\n\n##### Place\n\n* NumWebPurchases: Number of purchases made through the company’s website\n* NumCatalogPurchases: Number of purchases made using a catalogue\n* NumStorePurchases: Number of purchases made directly in stores\n* NumWebVisitsMonth: Number of visits to company’s website in the last month",
   "metadata": {
    "cell_id": "f480276f-8471-4050-b332-a853f584b6e2",
    "tags": [],
    "deepnote_cell_type": "markdown"
   }
  },
  {
   "cell_type": "markdown",
   "source": "#### Importação das bibliotecas utilizadas e confiurações.\n",
   "metadata": {
    "cell_id": "843738f5-cf08-42aa-bd06-0d0d4bd73303",
    "tags": [],
    "deepnote_cell_type": "markdown"
   }
  },
  {
   "cell_type": "code",
   "metadata": {
    "tags": [],
    "cell_id": "07ff8ec3-a136-40a3-9f02-173ffe64691c",
    "deepnote_to_be_reexecuted": false,
    "source_hash": "805344d",
    "execution_start": 1643669547334,
    "execution_millis": 1147,
    "deepnote_cell_type": "code"
   },
   "source": "import numpy as np\nimport pandas as pd\nfrom datetime import datetime, timedelta\nimport matplotlib.pyplot as plt\n\npd.options.display.float_format= \"{:,.2f}\".format",
   "execution_count": null,
   "outputs": []
  },
  {
   "cell_type": "markdown",
   "source": "### Carregando e ajustando o Dataset",
   "metadata": {
    "cell_id": "36853648-6854-4324-a088-056991b2ff79",
    "tags": [],
    "deepnote_cell_type": "markdown"
   }
  },
  {
   "cell_type": "markdown",
   "source": "#### Lendo o Dataset e exibindo algumas linhas para se ter uma ideia do que há nele.",
   "metadata": {
    "cell_id": "7645e16e-3e58-4cab-bd51-2d9614b5b590",
    "tags": [],
    "deepnote_cell_type": "markdown"
   }
  },
  {
   "cell_type": "code",
   "metadata": {
    "cell_id": "6bfd9926-7ccf-447e-9639-144ba6f02bdd",
    "tags": [],
    "deepnote_to_be_reexecuted": false,
    "source_hash": "2bea9041",
    "execution_start": 1643669548486,
    "execution_millis": 135,
    "deepnote_cell_type": "code"
   },
   "source": "df = pd.read_csv('marketing_campaign.csv', sep='\\t')\ndf.head(5)",
   "execution_count": null,
   "outputs": [
    {
     "output_type": "execute_result",
     "execution_count": 2,
     "data": {
      "application/vnd.deepnote.dataframe.v3+json": {
       "column_count": 29,
       "row_count": 5,
       "columns": [
        {
         "name": "ID",
         "dtype": "int64",
         "stats": {
          "unique_count": 5,
          "nan_count": 0,
          "min": "2174",
          "max": "6182",
          "histogram": [
           {
            "bin_start": 2174,
            "bin_end": 2574.8,
            "count": 1
           },
           {
            "bin_start": 2574.8,
            "bin_end": 2975.6,
            "count": 0
           },
           {
            "bin_start": 2975.6,
            "bin_end": 3376.4,
            "count": 0
           },
           {
            "bin_start": 3376.4,
            "bin_end": 3777.2,
            "count": 0
           },
           {
            "bin_start": 3777.2,
            "bin_end": 4178,
            "count": 1
           },
           {
            "bin_start": 4178,
            "bin_end": 4578.8,
            "count": 0
           },
           {
            "bin_start": 4578.8,
            "bin_end": 4979.6,
            "count": 0
           },
           {
            "bin_start": 4979.6,
            "bin_end": 5380.4,
            "count": 1
           },
           {
            "bin_start": 5380.4,
            "bin_end": 5781.200000000001,
            "count": 1
           },
           {
            "bin_start": 5781.200000000001,
            "bin_end": 6182,
            "count": 1
           }
          ]
         }
        },
        {
         "name": "Year_Birth",
         "dtype": "int64",
         "stats": {
          "unique_count": 5,
          "nan_count": 0,
          "min": "1954",
          "max": "1984",
          "histogram": [
           {
            "bin_start": 1954,
            "bin_end": 1957,
            "count": 1
           },
           {
            "bin_start": 1957,
            "bin_end": 1960,
            "count": 1
           },
           {
            "bin_start": 1960,
            "bin_end": 1963,
            "count": 0
           },
           {
            "bin_start": 1963,
            "bin_end": 1966,
            "count": 1
           },
           {
            "bin_start": 1966,
            "bin_end": 1969,
            "count": 0
           },
           {
            "bin_start": 1969,
            "bin_end": 1972,
            "count": 0
           },
           {
            "bin_start": 1972,
            "bin_end": 1975,
            "count": 0
           },
           {
            "bin_start": 1975,
            "bin_end": 1978,
            "count": 0
           },
           {
            "bin_start": 1978,
            "bin_end": 1981,
            "count": 0
           },
           {
            "bin_start": 1981,
            "bin_end": 1984,
            "count": 2
           }
          ]
         }
        },
        {
         "name": "Education",
         "dtype": "object",
         "stats": {
          "unique_count": 2,
          "nan_count": 0,
          "categories": [
           {
            "name": "Graduation",
            "count": 4
           },
           {
            "name": "PhD",
            "count": 1
           }
          ]
         }
        },
        {
         "name": "Marital_Status",
         "dtype": "object",
         "stats": {
          "unique_count": 3,
          "nan_count": 0,
          "categories": [
           {
            "name": "Single",
            "count": 2
           },
           {
            "name": "Together",
            "count": 2
           },
           {
            "name": "Married",
            "count": 1
           }
          ]
         }
        },
        {
         "name": "Income",
         "dtype": "float64",
         "stats": {
          "unique_count": 5,
          "nan_count": 0,
          "min": "26646.0",
          "max": "71613.0",
          "histogram": [
           {
            "bin_start": 26646,
            "bin_end": 31142.7,
            "count": 1
           },
           {
            "bin_start": 31142.7,
            "bin_end": 35639.4,
            "count": 0
           },
           {
            "bin_start": 35639.4,
            "bin_end": 40136.1,
            "count": 0
           },
           {
            "bin_start": 40136.1,
            "bin_end": 44632.8,
            "count": 0
           },
           {
            "bin_start": 44632.8,
            "bin_end": 49129.5,
            "count": 1
           },
           {
            "bin_start": 49129.5,
            "bin_end": 53626.2,
            "count": 0
           },
           {
            "bin_start": 53626.2,
            "bin_end": 58122.899999999994,
            "count": 0
           },
           {
            "bin_start": 58122.899999999994,
            "bin_end": 62619.6,
            "count": 2
           },
           {
            "bin_start": 62619.6,
            "bin_end": 67116.29999999999,
            "count": 0
           },
           {
            "bin_start": 67116.29999999999,
            "bin_end": 71613,
            "count": 1
           }
          ]
         }
        },
        {
         "name": "Kidhome",
         "dtype": "int64",
         "stats": {
          "unique_count": 2,
          "nan_count": 0,
          "min": "0",
          "max": "1",
          "histogram": [
           {
            "bin_start": 0,
            "bin_end": 0.1,
            "count": 2
           },
           {
            "bin_start": 0.1,
            "bin_end": 0.2,
            "count": 0
           },
           {
            "bin_start": 0.2,
            "bin_end": 0.30000000000000004,
            "count": 0
           },
           {
            "bin_start": 0.30000000000000004,
            "bin_end": 0.4,
            "count": 0
           },
           {
            "bin_start": 0.4,
            "bin_end": 0.5,
            "count": 0
           },
           {
            "bin_start": 0.5,
            "bin_end": 0.6000000000000001,
            "count": 0
           },
           {
            "bin_start": 0.6000000000000001,
            "bin_end": 0.7000000000000001,
            "count": 0
           },
           {
            "bin_start": 0.7000000000000001,
            "bin_end": 0.8,
            "count": 0
           },
           {
            "bin_start": 0.8,
            "bin_end": 0.9,
            "count": 0
           },
           {
            "bin_start": 0.9,
            "bin_end": 1,
            "count": 3
           }
          ]
         }
        },
        {
         "name": "Teenhome",
         "dtype": "int64",
         "stats": {
          "unique_count": 2,
          "nan_count": 0,
          "min": "0",
          "max": "1",
          "histogram": [
           {
            "bin_start": 0,
            "bin_end": 0.1,
            "count": 4
           },
           {
            "bin_start": 0.1,
            "bin_end": 0.2,
            "count": 0
           },
           {
            "bin_start": 0.2,
            "bin_end": 0.30000000000000004,
            "count": 0
           },
           {
            "bin_start": 0.30000000000000004,
            "bin_end": 0.4,
            "count": 0
           },
           {
            "bin_start": 0.4,
            "bin_end": 0.5,
            "count": 0
           },
           {
            "bin_start": 0.5,
            "bin_end": 0.6000000000000001,
            "count": 0
           },
           {
            "bin_start": 0.6000000000000001,
            "bin_end": 0.7000000000000001,
            "count": 0
           },
           {
            "bin_start": 0.7000000000000001,
            "bin_end": 0.8,
            "count": 0
           },
           {
            "bin_start": 0.8,
            "bin_end": 0.9,
            "count": 0
           },
           {
            "bin_start": 0.9,
            "bin_end": 1,
            "count": 1
           }
          ]
         }
        },
        {
         "name": "Dt_Customer",
         "dtype": "object",
         "stats": {
          "unique_count": 5,
          "nan_count": 0,
          "categories": [
           {
            "name": "04-09-2012",
            "count": 1
           },
           {
            "name": "08-03-2014",
            "count": 1
           },
           {
            "name": "3 others",
            "count": 3
           }
          ]
         }
        },
        {
         "name": "Recency",
         "dtype": "int64",
         "stats": {
          "unique_count": 4,
          "nan_count": 0,
          "min": "26",
          "max": "94",
          "histogram": [
           {
            "bin_start": 26,
            "bin_end": 32.8,
            "count": 2
           },
           {
            "bin_start": 32.8,
            "bin_end": 39.6,
            "count": 1
           },
           {
            "bin_start": 39.6,
            "bin_end": 46.4,
            "count": 0
           },
           {
            "bin_start": 46.4,
            "bin_end": 53.2,
            "count": 0
           },
           {
            "bin_start": 53.2,
            "bin_end": 60,
            "count": 1
           },
           {
            "bin_start": 60,
            "bin_end": 66.8,
            "count": 0
           },
           {
            "bin_start": 66.8,
            "bin_end": 73.6,
            "count": 0
           },
           {
            "bin_start": 73.6,
            "bin_end": 80.4,
            "count": 0
           },
           {
            "bin_start": 80.4,
            "bin_end": 87.19999999999999,
            "count": 0
           },
           {
            "bin_start": 87.19999999999999,
            "bin_end": 94,
            "count": 1
           }
          ]
         }
        },
        {
         "name": "MntWines",
         "dtype": "int64",
         "stats": {
          "unique_count": 4,
          "nan_count": 0,
          "min": "11",
          "max": "635",
          "histogram": [
           {
            "bin_start": 11,
            "bin_end": 73.4,
            "count": 2
           },
           {
            "bin_start": 73.4,
            "bin_end": 135.8,
            "count": 0
           },
           {
            "bin_start": 135.8,
            "bin_end": 198.2,
            "count": 1
           },
           {
            "bin_start": 198.2,
            "bin_end": 260.6,
            "count": 0
           },
           {
            "bin_start": 260.6,
            "bin_end": 323,
            "count": 0
           },
           {
            "bin_start": 323,
            "bin_end": 385.4,
            "count": 0
           },
           {
            "bin_start": 385.4,
            "bin_end": 447.8,
            "count": 1
           },
           {
            "bin_start": 447.8,
            "bin_end": 510.2,
            "count": 0
           },
           {
            "bin_start": 510.2,
            "bin_end": 572.6,
            "count": 0
           },
           {
            "bin_start": 572.6,
            "bin_end": 635,
            "count": 1
           }
          ]
         }
        },
        {
         "name": "MntFruits",
         "dtype": "int64",
         "stats": {
          "unique_count": 5,
          "nan_count": 0,
          "min": "1",
          "max": "88",
          "histogram": [
           {
            "bin_start": 1,
            "bin_end": 9.7,
            "count": 2
           },
           {
            "bin_start": 9.7,
            "bin_end": 18.4,
            "count": 0
           },
           {
            "bin_start": 18.4,
            "bin_end": 27.099999999999998,
            "count": 0
           },
           {
            "bin_start": 27.099999999999998,
            "bin_end": 35.8,
            "count": 0
           },
           {
            "bin_start": 35.8,
            "bin_end": 44.5,
            "count": 1
           },
           {
            "bin_start": 44.5,
            "bin_end": 53.199999999999996,
            "count": 1
           },
           {
            "bin_start": 53.199999999999996,
            "bin_end": 61.89999999999999,
            "count": 0
           },
           {
            "bin_start": 61.89999999999999,
            "bin_end": 70.6,
            "count": 0
           },
           {
            "bin_start": 70.6,
            "bin_end": 79.3,
            "count": 0
           },
           {
            "bin_start": 79.3,
            "bin_end": 88,
            "count": 1
           }
          ]
         }
        },
        {
         "name": "MntMeatProducts",
         "dtype": "int64",
         "stats": {
          "unique_count": 5,
          "nan_count": 0,
          "min": "6",
          "max": "546",
          "histogram": [
           {
            "bin_start": 6,
            "bin_end": 60,
            "count": 2
           },
           {
            "bin_start": 60,
            "bin_end": 114,
            "count": 0
           },
           {
            "bin_start": 114,
            "bin_end": 168,
            "count": 2
           },
           {
            "bin_start": 168,
            "bin_end": 222,
            "count": 0
           },
           {
            "bin_start": 222,
            "bin_end": 276,
            "count": 0
           },
           {
            "bin_start": 276,
            "bin_end": 330,
            "count": 0
           },
           {
            "bin_start": 330,
            "bin_end": 384,
            "count": 0
           },
           {
            "bin_start": 384,
            "bin_end": 438,
            "count": 0
           },
           {
            "bin_start": 438,
            "bin_end": 492,
            "count": 0
           },
           {
            "bin_start": 492,
            "bin_end": 546,
            "count": 1
           }
          ]
         }
        },
        {
         "name": "MntFishProducts",
         "dtype": "int64",
         "stats": {
          "unique_count": 5,
          "nan_count": 0,
          "min": "2",
          "max": "172",
          "histogram": [
           {
            "bin_start": 2,
            "bin_end": 19,
            "count": 2
           },
           {
            "bin_start": 19,
            "bin_end": 36,
            "count": 0
           },
           {
            "bin_start": 36,
            "bin_end": 53,
            "count": 1
           },
           {
            "bin_start": 53,
            "bin_end": 70,
            "count": 0
           },
           {
            "bin_start": 70,
            "bin_end": 87,
            "count": 0
           },
           {
            "bin_start": 87,
            "bin_end": 104,
            "count": 0
           },
           {
            "bin_start": 104,
            "bin_end": 121,
            "count": 1
           },
           {
            "bin_start": 121,
            "bin_end": 138,
            "count": 0
           },
           {
            "bin_start": 138,
            "bin_end": 155,
            "count": 0
           },
           {
            "bin_start": 155,
            "bin_end": 172,
            "count": 1
           }
          ]
         }
        },
        {
         "name": "MntSweetProducts",
         "dtype": "int64",
         "stats": {
          "unique_count": 5,
          "nan_count": 0,
          "min": "1",
          "max": "88",
          "histogram": [
           {
            "bin_start": 1,
            "bin_end": 9.7,
            "count": 2
           },
           {
            "bin_start": 9.7,
            "bin_end": 18.4,
            "count": 0
           },
           {
            "bin_start": 18.4,
            "bin_end": 27.099999999999998,
            "count": 2
           },
           {
            "bin_start": 27.099999999999998,
            "bin_end": 35.8,
            "count": 0
           },
           {
            "bin_start": 35.8,
            "bin_end": 44.5,
            "count": 0
           },
           {
            "bin_start": 44.5,
            "bin_end": 53.199999999999996,
            "count": 0
           },
           {
            "bin_start": 53.199999999999996,
            "bin_end": 61.89999999999999,
            "count": 0
           },
           {
            "bin_start": 61.89999999999999,
            "bin_end": 70.6,
            "count": 0
           },
           {
            "bin_start": 70.6,
            "bin_end": 79.3,
            "count": 0
           },
           {
            "bin_start": 79.3,
            "bin_end": 88,
            "count": 1
           }
          ]
         }
        },
        {
         "name": "MntGoldProds",
         "dtype": "int64",
         "stats": {
          "unique_count": 5,
          "nan_count": 0,
          "min": "5",
          "max": "88",
          "histogram": [
           {
            "bin_start": 5,
            "bin_end": 13.3,
            "count": 2
           },
           {
            "bin_start": 13.3,
            "bin_end": 21.6,
            "count": 1
           },
           {
            "bin_start": 21.6,
            "bin_end": 29.900000000000002,
            "count": 0
           },
           {
            "bin_start": 29.900000000000002,
            "bin_end": 38.2,
            "count": 0
           },
           {
            "bin_start": 38.2,
            "bin_end": 46.5,
            "count": 1
           },
           {
            "bin_start": 46.5,
            "bin_end": 54.800000000000004,
            "count": 0
           },
           {
            "bin_start": 54.800000000000004,
            "bin_end": 63.10000000000001,
            "count": 0
           },
           {
            "bin_start": 63.10000000000001,
            "bin_end": 71.4,
            "count": 0
           },
           {
            "bin_start": 71.4,
            "bin_end": 79.7,
            "count": 0
           },
           {
            "bin_start": 79.7,
            "bin_end": 88,
            "count": 1
           }
          ]
         }
        },
        {
         "name": "NumDealsPurchases",
         "dtype": "int64",
         "stats": {
          "unique_count": 4,
          "nan_count": 0,
          "min": "1",
          "max": "5",
          "histogram": [
           {
            "bin_start": 1,
            "bin_end": 1.4,
            "count": 1
           },
           {
            "bin_start": 1.4,
            "bin_end": 1.8,
            "count": 0
           },
           {
            "bin_start": 1.8,
            "bin_end": 2.2,
            "count": 2
           },
           {
            "bin_start": 2.2,
            "bin_end": 2.6,
            "count": 0
           },
           {
            "bin_start": 2.6,
            "bin_end": 3,
            "count": 0
           },
           {
            "bin_start": 3,
            "bin_end": 3.4000000000000004,
            "count": 1
           },
           {
            "bin_start": 3.4000000000000004,
            "bin_end": 3.8000000000000003,
            "count": 0
           },
           {
            "bin_start": 3.8000000000000003,
            "bin_end": 4.2,
            "count": 0
           },
           {
            "bin_start": 4.2,
            "bin_end": 4.6,
            "count": 0
           },
           {
            "bin_start": 4.6,
            "bin_end": 5,
            "count": 1
           }
          ]
         }
        },
        {
         "name": "NumWebPurchases",
         "dtype": "int64",
         "stats": {
          "unique_count": 4,
          "nan_count": 0,
          "min": "1",
          "max": "8",
          "histogram": [
           {
            "bin_start": 1,
            "bin_end": 1.7,
            "count": 1
           },
           {
            "bin_start": 1.7,
            "bin_end": 2.4,
            "count": 1
           },
           {
            "bin_start": 2.4,
            "bin_end": 3.0999999999999996,
            "count": 0
           },
           {
            "bin_start": 3.0999999999999996,
            "bin_end": 3.8,
            "count": 0
           },
           {
            "bin_start": 3.8,
            "bin_end": 4.5,
            "count": 0
           },
           {
            "bin_start": 4.5,
            "bin_end": 5.199999999999999,
            "count": 1
           },
           {
            "bin_start": 5.199999999999999,
            "bin_end": 5.8999999999999995,
            "count": 0
           },
           {
            "bin_start": 5.8999999999999995,
            "bin_end": 6.6,
            "count": 0
           },
           {
            "bin_start": 6.6,
            "bin_end": 7.3,
            "count": 0
           },
           {
            "bin_start": 7.3,
            "bin_end": 8,
            "count": 2
           }
          ]
         }
        },
        {
         "name": "NumCatalogPurchases",
         "dtype": "int64",
         "stats": {
          "unique_count": 5,
          "nan_count": 0,
          "min": "0",
          "max": "10",
          "histogram": [
           {
            "bin_start": 0,
            "bin_end": 1,
            "count": 1
           },
           {
            "bin_start": 1,
            "bin_end": 2,
            "count": 1
           },
           {
            "bin_start": 2,
            "bin_end": 3,
            "count": 1
           },
           {
            "bin_start": 3,
            "bin_end": 4,
            "count": 1
           },
           {
            "bin_start": 4,
            "bin_end": 5,
            "count": 0
           },
           {
            "bin_start": 5,
            "bin_end": 6,
            "count": 0
           },
           {
            "bin_start": 6,
            "bin_end": 7,
            "count": 0
           },
           {
            "bin_start": 7,
            "bin_end": 8,
            "count": 0
           },
           {
            "bin_start": 8,
            "bin_end": 9,
            "count": 0
           },
           {
            "bin_start": 9,
            "bin_end": 10,
            "count": 1
           }
          ]
         }
        },
        {
         "name": "NumStorePurchases",
         "dtype": "int64",
         "stats": {
          "unique_count": 4,
          "nan_count": 0,
          "min": "2",
          "max": "10",
          "histogram": [
           {
            "bin_start": 2,
            "bin_end": 2.8,
            "count": 1
           },
           {
            "bin_start": 2.8,
            "bin_end": 3.6,
            "count": 0
           },
           {
            "bin_start": 3.6,
            "bin_end": 4.4,
            "count": 2
           },
           {
            "bin_start": 4.4,
            "bin_end": 5.2,
            "count": 0
           },
           {
            "bin_start": 5.2,
            "bin_end": 6,
            "count": 0
           },
           {
            "bin_start": 6,
            "bin_end": 6.800000000000001,
            "count": 1
           },
           {
            "bin_start": 6.800000000000001,
            "bin_end": 7.6000000000000005,
            "count": 0
           },
           {
            "bin_start": 7.6000000000000005,
            "bin_end": 8.4,
            "count": 0
           },
           {
            "bin_start": 8.4,
            "bin_end": 9.2,
            "count": 0
           },
           {
            "bin_start": 9.2,
            "bin_end": 10,
            "count": 1
           }
          ]
         }
        },
        {
         "name": "NumWebVisitsMonth",
         "dtype": "int64",
         "stats": {
          "unique_count": 4,
          "nan_count": 0,
          "min": "4",
          "max": "7",
          "histogram": [
           {
            "bin_start": 4,
            "bin_end": 4.3,
            "count": 1
           },
           {
            "bin_start": 4.3,
            "bin_end": 4.6,
            "count": 0
           },
           {
            "bin_start": 4.6,
            "bin_end": 4.9,
            "count": 0
           },
           {
            "bin_start": 4.9,
            "bin_end": 5.2,
            "count": 2
           },
           {
            "bin_start": 5.2,
            "bin_end": 5.5,
            "count": 0
           },
           {
            "bin_start": 5.5,
            "bin_end": 5.8,
            "count": 0
           },
           {
            "bin_start": 5.8,
            "bin_end": 6.1,
            "count": 1
           },
           {
            "bin_start": 6.1,
            "bin_end": 6.4,
            "count": 0
           },
           {
            "bin_start": 6.4,
            "bin_end": 6.699999999999999,
            "count": 0
           },
           {
            "bin_start": 6.699999999999999,
            "bin_end": 7,
            "count": 1
           }
          ]
         }
        },
        {
         "name": "AcceptedCmp3",
         "dtype": "int64",
         "stats": {
          "unique_count": 1,
          "nan_count": 0,
          "min": "0",
          "max": "0",
          "histogram": [
           {
            "bin_start": -0.5,
            "bin_end": -0.4,
            "count": 0
           },
           {
            "bin_start": -0.4,
            "bin_end": -0.3,
            "count": 0
           },
           {
            "bin_start": -0.3,
            "bin_end": -0.19999999999999996,
            "count": 0
           },
           {
            "bin_start": -0.19999999999999996,
            "bin_end": -0.09999999999999998,
            "count": 0
           },
           {
            "bin_start": -0.09999999999999998,
            "bin_end": 0,
            "count": 0
           },
           {
            "bin_start": 0,
            "bin_end": 0.10000000000000009,
            "count": 5
           },
           {
            "bin_start": 0.10000000000000009,
            "bin_end": 0.20000000000000007,
            "count": 0
           },
           {
            "bin_start": 0.20000000000000007,
            "bin_end": 0.30000000000000004,
            "count": 0
           },
           {
            "bin_start": 0.30000000000000004,
            "bin_end": 0.4,
            "count": 0
           },
           {
            "bin_start": 0.4,
            "bin_end": 0.5,
            "count": 0
           }
          ]
         }
        },
        {
         "name": "AcceptedCmp4",
         "dtype": "int64",
         "stats": {
          "unique_count": 1,
          "nan_count": 0,
          "min": "0",
          "max": "0",
          "histogram": [
           {
            "bin_start": -0.5,
            "bin_end": -0.4,
            "count": 0
           },
           {
            "bin_start": -0.4,
            "bin_end": -0.3,
            "count": 0
           },
           {
            "bin_start": -0.3,
            "bin_end": -0.19999999999999996,
            "count": 0
           },
           {
            "bin_start": -0.19999999999999996,
            "bin_end": -0.09999999999999998,
            "count": 0
           },
           {
            "bin_start": -0.09999999999999998,
            "bin_end": 0,
            "count": 0
           },
           {
            "bin_start": 0,
            "bin_end": 0.10000000000000009,
            "count": 5
           },
           {
            "bin_start": 0.10000000000000009,
            "bin_end": 0.20000000000000007,
            "count": 0
           },
           {
            "bin_start": 0.20000000000000007,
            "bin_end": 0.30000000000000004,
            "count": 0
           },
           {
            "bin_start": 0.30000000000000004,
            "bin_end": 0.4,
            "count": 0
           },
           {
            "bin_start": 0.4,
            "bin_end": 0.5,
            "count": 0
           }
          ]
         }
        },
        {
         "name": "AcceptedCmp5",
         "dtype": "int64",
         "stats": {
          "unique_count": 1,
          "nan_count": 0,
          "min": "0",
          "max": "0",
          "histogram": [
           {
            "bin_start": -0.5,
            "bin_end": -0.4,
            "count": 0
           },
           {
            "bin_start": -0.4,
            "bin_end": -0.3,
            "count": 0
           },
           {
            "bin_start": -0.3,
            "bin_end": -0.19999999999999996,
            "count": 0
           },
           {
            "bin_start": -0.19999999999999996,
            "bin_end": -0.09999999999999998,
            "count": 0
           },
           {
            "bin_start": -0.09999999999999998,
            "bin_end": 0,
            "count": 0
           },
           {
            "bin_start": 0,
            "bin_end": 0.10000000000000009,
            "count": 5
           },
           {
            "bin_start": 0.10000000000000009,
            "bin_end": 0.20000000000000007,
            "count": 0
           },
           {
            "bin_start": 0.20000000000000007,
            "bin_end": 0.30000000000000004,
            "count": 0
           },
           {
            "bin_start": 0.30000000000000004,
            "bin_end": 0.4,
            "count": 0
           },
           {
            "bin_start": 0.4,
            "bin_end": 0.5,
            "count": 0
           }
          ]
         }
        },
        {
         "name": "AcceptedCmp1",
         "dtype": "int64",
         "stats": {
          "unique_count": 1,
          "nan_count": 0,
          "min": "0",
          "max": "0",
          "histogram": [
           {
            "bin_start": -0.5,
            "bin_end": -0.4,
            "count": 0
           },
           {
            "bin_start": -0.4,
            "bin_end": -0.3,
            "count": 0
           },
           {
            "bin_start": -0.3,
            "bin_end": -0.19999999999999996,
            "count": 0
           },
           {
            "bin_start": -0.19999999999999996,
            "bin_end": -0.09999999999999998,
            "count": 0
           },
           {
            "bin_start": -0.09999999999999998,
            "bin_end": 0,
            "count": 0
           },
           {
            "bin_start": 0,
            "bin_end": 0.10000000000000009,
            "count": 5
           },
           {
            "bin_start": 0.10000000000000009,
            "bin_end": 0.20000000000000007,
            "count": 0
           },
           {
            "bin_start": 0.20000000000000007,
            "bin_end": 0.30000000000000004,
            "count": 0
           },
           {
            "bin_start": 0.30000000000000004,
            "bin_end": 0.4,
            "count": 0
           },
           {
            "bin_start": 0.4,
            "bin_end": 0.5,
            "count": 0
           }
          ]
         }
        },
        {
         "name": "AcceptedCmp2",
         "dtype": "int64",
         "stats": {
          "unique_count": 1,
          "nan_count": 0,
          "min": "0",
          "max": "0",
          "histogram": [
           {
            "bin_start": -0.5,
            "bin_end": -0.4,
            "count": 0
           },
           {
            "bin_start": -0.4,
            "bin_end": -0.3,
            "count": 0
           },
           {
            "bin_start": -0.3,
            "bin_end": -0.19999999999999996,
            "count": 0
           },
           {
            "bin_start": -0.19999999999999996,
            "bin_end": -0.09999999999999998,
            "count": 0
           },
           {
            "bin_start": -0.09999999999999998,
            "bin_end": 0,
            "count": 0
           },
           {
            "bin_start": 0,
            "bin_end": 0.10000000000000009,
            "count": 5
           },
           {
            "bin_start": 0.10000000000000009,
            "bin_end": 0.20000000000000007,
            "count": 0
           },
           {
            "bin_start": 0.20000000000000007,
            "bin_end": 0.30000000000000004,
            "count": 0
           },
           {
            "bin_start": 0.30000000000000004,
            "bin_end": 0.4,
            "count": 0
           },
           {
            "bin_start": 0.4,
            "bin_end": 0.5,
            "count": 0
           }
          ]
         }
        },
        {
         "name": "Complain",
         "dtype": "int64",
         "stats": {
          "unique_count": 1,
          "nan_count": 0,
          "min": "0",
          "max": "0",
          "histogram": [
           {
            "bin_start": -0.5,
            "bin_end": -0.4,
            "count": 0
           },
           {
            "bin_start": -0.4,
            "bin_end": -0.3,
            "count": 0
           },
           {
            "bin_start": -0.3,
            "bin_end": -0.19999999999999996,
            "count": 0
           },
           {
            "bin_start": -0.19999999999999996,
            "bin_end": -0.09999999999999998,
            "count": 0
           },
           {
            "bin_start": -0.09999999999999998,
            "bin_end": 0,
            "count": 0
           },
           {
            "bin_start": 0,
            "bin_end": 0.10000000000000009,
            "count": 5
           },
           {
            "bin_start": 0.10000000000000009,
            "bin_end": 0.20000000000000007,
            "count": 0
           },
           {
            "bin_start": 0.20000000000000007,
            "bin_end": 0.30000000000000004,
            "count": 0
           },
           {
            "bin_start": 0.30000000000000004,
            "bin_end": 0.4,
            "count": 0
           },
           {
            "bin_start": 0.4,
            "bin_end": 0.5,
            "count": 0
           }
          ]
         }
        },
        {
         "name": "Z_CostContact",
         "dtype": "int64",
         "stats": {
          "unique_count": 1,
          "nan_count": 0,
          "min": "3",
          "max": "3",
          "histogram": [
           {
            "bin_start": 2.5,
            "bin_end": 2.6,
            "count": 0
           },
           {
            "bin_start": 2.6,
            "bin_end": 2.7,
            "count": 0
           },
           {
            "bin_start": 2.7,
            "bin_end": 2.8,
            "count": 0
           },
           {
            "bin_start": 2.8,
            "bin_end": 2.9,
            "count": 0
           },
           {
            "bin_start": 2.9,
            "bin_end": 3,
            "count": 0
           },
           {
            "bin_start": 3,
            "bin_end": 3.1,
            "count": 5
           },
           {
            "bin_start": 3.1,
            "bin_end": 3.2,
            "count": 0
           },
           {
            "bin_start": 3.2,
            "bin_end": 3.3,
            "count": 0
           },
           {
            "bin_start": 3.3,
            "bin_end": 3.4,
            "count": 0
           },
           {
            "bin_start": 3.4,
            "bin_end": 3.5,
            "count": 0
           }
          ]
         }
        },
        {
         "name": "Z_Revenue",
         "dtype": "int64",
         "stats": {
          "unique_count": 1,
          "nan_count": 0,
          "min": "11",
          "max": "11",
          "histogram": [
           {
            "bin_start": 10.5,
            "bin_end": 10.6,
            "count": 0
           },
           {
            "bin_start": 10.6,
            "bin_end": 10.7,
            "count": 0
           },
           {
            "bin_start": 10.7,
            "bin_end": 10.8,
            "count": 0
           },
           {
            "bin_start": 10.8,
            "bin_end": 10.9,
            "count": 0
           },
           {
            "bin_start": 10.9,
            "bin_end": 11,
            "count": 0
           },
           {
            "bin_start": 11,
            "bin_end": 11.1,
            "count": 5
           },
           {
            "bin_start": 11.1,
            "bin_end": 11.2,
            "count": 0
           },
           {
            "bin_start": 11.2,
            "bin_end": 11.3,
            "count": 0
           },
           {
            "bin_start": 11.3,
            "bin_end": 11.4,
            "count": 0
           },
           {
            "bin_start": 11.4,
            "bin_end": 11.5,
            "count": 0
           }
          ]
         }
        },
        {
         "name": "Response",
         "dtype": "int64",
         "stats": {
          "unique_count": 2,
          "nan_count": 0,
          "min": "0",
          "max": "1",
          "histogram": [
           {
            "bin_start": 0,
            "bin_end": 0.1,
            "count": 4
           },
           {
            "bin_start": 0.1,
            "bin_end": 0.2,
            "count": 0
           },
           {
            "bin_start": 0.2,
            "bin_end": 0.30000000000000004,
            "count": 0
           },
           {
            "bin_start": 0.30000000000000004,
            "bin_end": 0.4,
            "count": 0
           },
           {
            "bin_start": 0.4,
            "bin_end": 0.5,
            "count": 0
           },
           {
            "bin_start": 0.5,
            "bin_end": 0.6000000000000001,
            "count": 0
           },
           {
            "bin_start": 0.6000000000000001,
            "bin_end": 0.7000000000000001,
            "count": 0
           },
           {
            "bin_start": 0.7000000000000001,
            "bin_end": 0.8,
            "count": 0
           },
           {
            "bin_start": 0.8,
            "bin_end": 0.9,
            "count": 0
           },
           {
            "bin_start": 0.9,
            "bin_end": 1,
            "count": 1
           }
          ]
         }
        },
        {
         "name": "_deepnote_index_column",
         "dtype": "int64"
        }
       ],
       "rows": [
        {
         "ID": 5524,
         "Year_Birth": 1957,
         "Education": "Graduation",
         "Marital_Status": "Single",
         "Income": 58138,
         "Kidhome": 0,
         "Teenhome": 0,
         "Dt_Customer": "04-09-2012",
         "Recency": 58,
         "MntWines": 635,
         "MntFruits": 88,
         "MntMeatProducts": 546,
         "MntFishProducts": 172,
         "MntSweetProducts": 88,
         "MntGoldProds": 88,
         "NumDealsPurchases": 3,
         "NumWebPurchases": 8,
         "NumCatalogPurchases": 10,
         "NumStorePurchases": 4,
         "NumWebVisitsMonth": 7,
         "AcceptedCmp3": 0,
         "AcceptedCmp4": 0,
         "AcceptedCmp5": 0,
         "AcceptedCmp1": 0,
         "AcceptedCmp2": 0,
         "Complain": 0,
         "Z_CostContact": 3,
         "Z_Revenue": 11,
         "Response": 1,
         "_deepnote_index_column": 0
        },
        {
         "ID": 2174,
         "Year_Birth": 1954,
         "Education": "Graduation",
         "Marital_Status": "Single",
         "Income": 46344,
         "Kidhome": 1,
         "Teenhome": 1,
         "Dt_Customer": "08-03-2014",
         "Recency": 38,
         "MntWines": 11,
         "MntFruits": 1,
         "MntMeatProducts": 6,
         "MntFishProducts": 2,
         "MntSweetProducts": 1,
         "MntGoldProds": 6,
         "NumDealsPurchases": 2,
         "NumWebPurchases": 1,
         "NumCatalogPurchases": 1,
         "NumStorePurchases": 2,
         "NumWebVisitsMonth": 5,
         "AcceptedCmp3": 0,
         "AcceptedCmp4": 0,
         "AcceptedCmp5": 0,
         "AcceptedCmp1": 0,
         "AcceptedCmp2": 0,
         "Complain": 0,
         "Z_CostContact": 3,
         "Z_Revenue": 11,
         "Response": 0,
         "_deepnote_index_column": 1
        },
        {
         "ID": 4141,
         "Year_Birth": 1965,
         "Education": "Graduation",
         "Marital_Status": "Together",
         "Income": 71613,
         "Kidhome": 0,
         "Teenhome": 0,
         "Dt_Customer": "21-08-2013",
         "Recency": 26,
         "MntWines": 426,
         "MntFruits": 49,
         "MntMeatProducts": 127,
         "MntFishProducts": 111,
         "MntSweetProducts": 21,
         "MntGoldProds": 42,
         "NumDealsPurchases": 1,
         "NumWebPurchases": 8,
         "NumCatalogPurchases": 2,
         "NumStorePurchases": 10,
         "NumWebVisitsMonth": 4,
         "AcceptedCmp3": 0,
         "AcceptedCmp4": 0,
         "AcceptedCmp5": 0,
         "AcceptedCmp1": 0,
         "AcceptedCmp2": 0,
         "Complain": 0,
         "Z_CostContact": 3,
         "Z_Revenue": 11,
         "Response": 0,
         "_deepnote_index_column": 2
        },
        {
         "ID": 6182,
         "Year_Birth": 1984,
         "Education": "Graduation",
         "Marital_Status": "Together",
         "Income": 26646,
         "Kidhome": 1,
         "Teenhome": 0,
         "Dt_Customer": "10-02-2014",
         "Recency": 26,
         "MntWines": 11,
         "MntFruits": 4,
         "MntMeatProducts": 20,
         "MntFishProducts": 10,
         "MntSweetProducts": 3,
         "MntGoldProds": 5,
         "NumDealsPurchases": 2,
         "NumWebPurchases": 2,
         "NumCatalogPurchases": 0,
         "NumStorePurchases": 4,
         "NumWebVisitsMonth": 6,
         "AcceptedCmp3": 0,
         "AcceptedCmp4": 0,
         "AcceptedCmp5": 0,
         "AcceptedCmp1": 0,
         "AcceptedCmp2": 0,
         "Complain": 0,
         "Z_CostContact": 3,
         "Z_Revenue": 11,
         "Response": 0,
         "_deepnote_index_column": 3
        },
        {
         "ID": 5324,
         "Year_Birth": 1981,
         "Education": "PhD",
         "Marital_Status": "Married",
         "Income": 58293,
         "Kidhome": 1,
         "Teenhome": 0,
         "Dt_Customer": "19-01-2014",
         "Recency": 94,
         "MntWines": 173,
         "MntFruits": 43,
         "MntMeatProducts": 118,
         "MntFishProducts": 46,
         "MntSweetProducts": 27,
         "MntGoldProds": 15,
         "NumDealsPurchases": 5,
         "NumWebPurchases": 5,
         "NumCatalogPurchases": 3,
         "NumStorePurchases": 6,
         "NumWebVisitsMonth": 5,
         "AcceptedCmp3": 0,
         "AcceptedCmp4": 0,
         "AcceptedCmp5": 0,
         "AcceptedCmp1": 0,
         "AcceptedCmp2": 0,
         "Complain": 0,
         "Z_CostContact": 3,
         "Z_Revenue": 11,
         "Response": 0,
         "_deepnote_index_column": 4
        }
       ]
      },
      "text/plain": "     ID  Year_Birth   Education Marital_Status    Income  Kidhome  Teenhome  \\\n0  5524        1957  Graduation         Single 58,138.00        0         0   \n1  2174        1954  Graduation         Single 46,344.00        1         1   \n2  4141        1965  Graduation       Together 71,613.00        0         0   \n3  6182        1984  Graduation       Together 26,646.00        1         0   \n4  5324        1981         PhD        Married 58,293.00        1         0   \n\n  Dt_Customer  Recency  MntWines  ...  NumWebVisitsMonth  AcceptedCmp3  \\\n0  04-09-2012       58       635  ...                  7             0   \n1  08-03-2014       38        11  ...                  5             0   \n2  21-08-2013       26       426  ...                  4             0   \n3  10-02-2014       26        11  ...                  6             0   \n4  19-01-2014       94       173  ...                  5             0   \n\n   AcceptedCmp4  AcceptedCmp5  AcceptedCmp1  AcceptedCmp2  Complain  \\\n0             0             0             0             0         0   \n1             0             0             0             0         0   \n2             0             0             0             0         0   \n3             0             0             0             0         0   \n4             0             0             0             0         0   \n\n   Z_CostContact  Z_Revenue  Response  \n0              3         11         1  \n1              3         11         0  \n2              3         11         0  \n3              3         11         0  \n4              3         11         0  \n\n[5 rows x 29 columns]",
      "text/html": "<div>\n<style scoped>\n    .dataframe tbody tr th:only-of-type {\n        vertical-align: middle;\n    }\n\n    .dataframe tbody tr th {\n        vertical-align: top;\n    }\n\n    .dataframe thead th {\n        text-align: right;\n    }\n</style>\n<table border=\"1\" class=\"dataframe\">\n  <thead>\n    <tr style=\"text-align: right;\">\n      <th></th>\n      <th>ID</th>\n      <th>Year_Birth</th>\n      <th>Education</th>\n      <th>Marital_Status</th>\n      <th>Income</th>\n      <th>Kidhome</th>\n      <th>Teenhome</th>\n      <th>Dt_Customer</th>\n      <th>Recency</th>\n      <th>MntWines</th>\n      <th>...</th>\n      <th>NumWebVisitsMonth</th>\n      <th>AcceptedCmp3</th>\n      <th>AcceptedCmp4</th>\n      <th>AcceptedCmp5</th>\n      <th>AcceptedCmp1</th>\n      <th>AcceptedCmp2</th>\n      <th>Complain</th>\n      <th>Z_CostContact</th>\n      <th>Z_Revenue</th>\n      <th>Response</th>\n    </tr>\n  </thead>\n  <tbody>\n    <tr>\n      <th>0</th>\n      <td>5524</td>\n      <td>1957</td>\n      <td>Graduation</td>\n      <td>Single</td>\n      <td>58,138.00</td>\n      <td>0</td>\n      <td>0</td>\n      <td>04-09-2012</td>\n      <td>58</td>\n      <td>635</td>\n      <td>...</td>\n      <td>7</td>\n      <td>0</td>\n      <td>0</td>\n      <td>0</td>\n      <td>0</td>\n      <td>0</td>\n      <td>0</td>\n      <td>3</td>\n      <td>11</td>\n      <td>1</td>\n    </tr>\n    <tr>\n      <th>1</th>\n      <td>2174</td>\n      <td>1954</td>\n      <td>Graduation</td>\n      <td>Single</td>\n      <td>46,344.00</td>\n      <td>1</td>\n      <td>1</td>\n      <td>08-03-2014</td>\n      <td>38</td>\n      <td>11</td>\n      <td>...</td>\n      <td>5</td>\n      <td>0</td>\n      <td>0</td>\n      <td>0</td>\n      <td>0</td>\n      <td>0</td>\n      <td>0</td>\n      <td>3</td>\n      <td>11</td>\n      <td>0</td>\n    </tr>\n    <tr>\n      <th>2</th>\n      <td>4141</td>\n      <td>1965</td>\n      <td>Graduation</td>\n      <td>Together</td>\n      <td>71,613.00</td>\n      <td>0</td>\n      <td>0</td>\n      <td>21-08-2013</td>\n      <td>26</td>\n      <td>426</td>\n      <td>...</td>\n      <td>4</td>\n      <td>0</td>\n      <td>0</td>\n      <td>0</td>\n      <td>0</td>\n      <td>0</td>\n      <td>0</td>\n      <td>3</td>\n      <td>11</td>\n      <td>0</td>\n    </tr>\n    <tr>\n      <th>3</th>\n      <td>6182</td>\n      <td>1984</td>\n      <td>Graduation</td>\n      <td>Together</td>\n      <td>26,646.00</td>\n      <td>1</td>\n      <td>0</td>\n      <td>10-02-2014</td>\n      <td>26</td>\n      <td>11</td>\n      <td>...</td>\n      <td>6</td>\n      <td>0</td>\n      <td>0</td>\n      <td>0</td>\n      <td>0</td>\n      <td>0</td>\n      <td>0</td>\n      <td>3</td>\n      <td>11</td>\n      <td>0</td>\n    </tr>\n    <tr>\n      <th>4</th>\n      <td>5324</td>\n      <td>1981</td>\n      <td>PhD</td>\n      <td>Married</td>\n      <td>58,293.00</td>\n      <td>1</td>\n      <td>0</td>\n      <td>19-01-2014</td>\n      <td>94</td>\n      <td>173</td>\n      <td>...</td>\n      <td>5</td>\n      <td>0</td>\n      <td>0</td>\n      <td>0</td>\n      <td>0</td>\n      <td>0</td>\n      <td>0</td>\n      <td>3</td>\n      <td>11</td>\n      <td>0</td>\n    </tr>\n  </tbody>\n</table>\n<p>5 rows × 29 columns</p>\n</div>"
     },
     "metadata": {}
    }
   ]
  },
  {
   "cell_type": "markdown",
   "source": "#### Ao analisar o Dataset exibido acima, verificamos que as colunas não estão na mesma ordem da descrição e que existem duas colunas não descritas.\n\n#### Para tornar a interpretação mais fácil,  as colunas foram renomeadas para o português.",
   "metadata": {
    "cell_id": "f2127d10-a6b4-4fd6-9d78-e8835f1afaea",
    "tags": [],
    "deepnote_cell_type": "markdown"
   }
  },
  {
   "cell_type": "code",
   "metadata": {
    "cell_id": "e4e31891-52cf-4b79-a19a-0dd9790f00aa",
    "tags": [],
    "deepnote_to_be_reexecuted": false,
    "source_hash": "9e757848",
    "execution_start": 1643669548627,
    "execution_millis": 120,
    "deepnote_table_state": {
     "pageSize": 10,
     "pageIndex": 0,
     "filters": [],
     "sortBy": []
    },
    "deepnote_table_loading": false,
    "deepnote_cell_type": "code"
   },
   "source": "\nnovos_nomes_das_cols = [\n    'ID',                            'Ano_Nasc',\n    'Escolaridade',                  'Estado_Civil',\n    'Renda_Familiar_Anual',          'Qtd_Criancas',\n    'Qtd_Adolesc',                   'Dt_Cadastro', \n    'Ult_Compra_EmDias',             'Gastos_Em_Vinho_Ult2Anos',\n    'Gastos_Em_Frutas_Ult2Anos',     'Gastos_Em_Carnet2Ano',\n    'Gastos_Em_Pescados_Ult2Anos',   'Gastos_Em_Doces_Ult2Anos',\n    'Gastos_Em_Prod_Ouro_Ult2Anos',  'Qtd_Compras_ComDesconto',\n    'Qtd_Compras_OnLine',            'Qtd_Compras_Catalogo',\n    'Qtd_Compras_Loja',              'Qtd_Acessos_AoSite_UltMes',\n    'Oferta_Aceita_3aCamp',          'Oferta_Aceita_4aCamp',\n    'Oferta_Aceita_5aCamp',          'Oferta_Aceita_1aCamp',\n    'Oferta_Aceita_2aCamp',          'Cat_Cliente_Reclamou_Ult2Anos',\n    'Col_nao_descrita01',            'Col_nao_descrita02',\n    'Oferta_Aceita_UltCamp'                 \n    ]\n\ndf.columns = novos_nomes_das_cols\ndf.head()",
   "execution_count": null,
   "outputs": [
    {
     "output_type": "execute_result",
     "execution_count": 3,
     "data": {
      "application/vnd.deepnote.dataframe.v3+json": {
       "column_count": 29,
       "row_count": 5,
       "columns": [
        {
         "name": "ID",
         "dtype": "int64",
         "stats": {
          "unique_count": 5,
          "nan_count": 0,
          "min": "2174",
          "max": "6182",
          "histogram": [
           {
            "bin_start": 2174,
            "bin_end": 2574.8,
            "count": 1
           },
           {
            "bin_start": 2574.8,
            "bin_end": 2975.6,
            "count": 0
           },
           {
            "bin_start": 2975.6,
            "bin_end": 3376.4,
            "count": 0
           },
           {
            "bin_start": 3376.4,
            "bin_end": 3777.2,
            "count": 0
           },
           {
            "bin_start": 3777.2,
            "bin_end": 4178,
            "count": 1
           },
           {
            "bin_start": 4178,
            "bin_end": 4578.8,
            "count": 0
           },
           {
            "bin_start": 4578.8,
            "bin_end": 4979.6,
            "count": 0
           },
           {
            "bin_start": 4979.6,
            "bin_end": 5380.4,
            "count": 1
           },
           {
            "bin_start": 5380.4,
            "bin_end": 5781.200000000001,
            "count": 1
           },
           {
            "bin_start": 5781.200000000001,
            "bin_end": 6182,
            "count": 1
           }
          ]
         }
        },
        {
         "name": "Ano_Nasc",
         "dtype": "int64",
         "stats": {
          "unique_count": 5,
          "nan_count": 0,
          "min": "1954",
          "max": "1984",
          "histogram": [
           {
            "bin_start": 1954,
            "bin_end": 1957,
            "count": 1
           },
           {
            "bin_start": 1957,
            "bin_end": 1960,
            "count": 1
           },
           {
            "bin_start": 1960,
            "bin_end": 1963,
            "count": 0
           },
           {
            "bin_start": 1963,
            "bin_end": 1966,
            "count": 1
           },
           {
            "bin_start": 1966,
            "bin_end": 1969,
            "count": 0
           },
           {
            "bin_start": 1969,
            "bin_end": 1972,
            "count": 0
           },
           {
            "bin_start": 1972,
            "bin_end": 1975,
            "count": 0
           },
           {
            "bin_start": 1975,
            "bin_end": 1978,
            "count": 0
           },
           {
            "bin_start": 1978,
            "bin_end": 1981,
            "count": 0
           },
           {
            "bin_start": 1981,
            "bin_end": 1984,
            "count": 2
           }
          ]
         }
        },
        {
         "name": "Escolaridade",
         "dtype": "object",
         "stats": {
          "unique_count": 2,
          "nan_count": 0,
          "categories": [
           {
            "name": "Graduation",
            "count": 4
           },
           {
            "name": "PhD",
            "count": 1
           }
          ]
         }
        },
        {
         "name": "Estado_Civil",
         "dtype": "object",
         "stats": {
          "unique_count": 3,
          "nan_count": 0,
          "categories": [
           {
            "name": "Single",
            "count": 2
           },
           {
            "name": "Together",
            "count": 2
           },
           {
            "name": "Married",
            "count": 1
           }
          ]
         }
        },
        {
         "name": "Renda_Familiar_Anual",
         "dtype": "float64",
         "stats": {
          "unique_count": 5,
          "nan_count": 0,
          "min": "26646.0",
          "max": "71613.0",
          "histogram": [
           {
            "bin_start": 26646,
            "bin_end": 31142.7,
            "count": 1
           },
           {
            "bin_start": 31142.7,
            "bin_end": 35639.4,
            "count": 0
           },
           {
            "bin_start": 35639.4,
            "bin_end": 40136.1,
            "count": 0
           },
           {
            "bin_start": 40136.1,
            "bin_end": 44632.8,
            "count": 0
           },
           {
            "bin_start": 44632.8,
            "bin_end": 49129.5,
            "count": 1
           },
           {
            "bin_start": 49129.5,
            "bin_end": 53626.2,
            "count": 0
           },
           {
            "bin_start": 53626.2,
            "bin_end": 58122.899999999994,
            "count": 0
           },
           {
            "bin_start": 58122.899999999994,
            "bin_end": 62619.6,
            "count": 2
           },
           {
            "bin_start": 62619.6,
            "bin_end": 67116.29999999999,
            "count": 0
           },
           {
            "bin_start": 67116.29999999999,
            "bin_end": 71613,
            "count": 1
           }
          ]
         }
        },
        {
         "name": "Qtd_Criancas",
         "dtype": "int64",
         "stats": {
          "unique_count": 2,
          "nan_count": 0,
          "min": "0",
          "max": "1",
          "histogram": [
           {
            "bin_start": 0,
            "bin_end": 0.1,
            "count": 2
           },
           {
            "bin_start": 0.1,
            "bin_end": 0.2,
            "count": 0
           },
           {
            "bin_start": 0.2,
            "bin_end": 0.30000000000000004,
            "count": 0
           },
           {
            "bin_start": 0.30000000000000004,
            "bin_end": 0.4,
            "count": 0
           },
           {
            "bin_start": 0.4,
            "bin_end": 0.5,
            "count": 0
           },
           {
            "bin_start": 0.5,
            "bin_end": 0.6000000000000001,
            "count": 0
           },
           {
            "bin_start": 0.6000000000000001,
            "bin_end": 0.7000000000000001,
            "count": 0
           },
           {
            "bin_start": 0.7000000000000001,
            "bin_end": 0.8,
            "count": 0
           },
           {
            "bin_start": 0.8,
            "bin_end": 0.9,
            "count": 0
           },
           {
            "bin_start": 0.9,
            "bin_end": 1,
            "count": 3
           }
          ]
         }
        },
        {
         "name": "Qtd_Adolesc",
         "dtype": "int64",
         "stats": {
          "unique_count": 2,
          "nan_count": 0,
          "min": "0",
          "max": "1",
          "histogram": [
           {
            "bin_start": 0,
            "bin_end": 0.1,
            "count": 4
           },
           {
            "bin_start": 0.1,
            "bin_end": 0.2,
            "count": 0
           },
           {
            "bin_start": 0.2,
            "bin_end": 0.30000000000000004,
            "count": 0
           },
           {
            "bin_start": 0.30000000000000004,
            "bin_end": 0.4,
            "count": 0
           },
           {
            "bin_start": 0.4,
            "bin_end": 0.5,
            "count": 0
           },
           {
            "bin_start": 0.5,
            "bin_end": 0.6000000000000001,
            "count": 0
           },
           {
            "bin_start": 0.6000000000000001,
            "bin_end": 0.7000000000000001,
            "count": 0
           },
           {
            "bin_start": 0.7000000000000001,
            "bin_end": 0.8,
            "count": 0
           },
           {
            "bin_start": 0.8,
            "bin_end": 0.9,
            "count": 0
           },
           {
            "bin_start": 0.9,
            "bin_end": 1,
            "count": 1
           }
          ]
         }
        },
        {
         "name": "Dt_Cadastro",
         "dtype": "object",
         "stats": {
          "unique_count": 5,
          "nan_count": 0,
          "categories": [
           {
            "name": "04-09-2012",
            "count": 1
           },
           {
            "name": "08-03-2014",
            "count": 1
           },
           {
            "name": "3 others",
            "count": 3
           }
          ]
         }
        },
        {
         "name": "Ult_Compra_EmDias",
         "dtype": "int64",
         "stats": {
          "unique_count": 4,
          "nan_count": 0,
          "min": "26",
          "max": "94",
          "histogram": [
           {
            "bin_start": 26,
            "bin_end": 32.8,
            "count": 2
           },
           {
            "bin_start": 32.8,
            "bin_end": 39.6,
            "count": 1
           },
           {
            "bin_start": 39.6,
            "bin_end": 46.4,
            "count": 0
           },
           {
            "bin_start": 46.4,
            "bin_end": 53.2,
            "count": 0
           },
           {
            "bin_start": 53.2,
            "bin_end": 60,
            "count": 1
           },
           {
            "bin_start": 60,
            "bin_end": 66.8,
            "count": 0
           },
           {
            "bin_start": 66.8,
            "bin_end": 73.6,
            "count": 0
           },
           {
            "bin_start": 73.6,
            "bin_end": 80.4,
            "count": 0
           },
           {
            "bin_start": 80.4,
            "bin_end": 87.19999999999999,
            "count": 0
           },
           {
            "bin_start": 87.19999999999999,
            "bin_end": 94,
            "count": 1
           }
          ]
         }
        },
        {
         "name": "Gastos_Em_Vinho_Ult2Anos",
         "dtype": "int64",
         "stats": {
          "unique_count": 4,
          "nan_count": 0,
          "min": "11",
          "max": "635",
          "histogram": [
           {
            "bin_start": 11,
            "bin_end": 73.4,
            "count": 2
           },
           {
            "bin_start": 73.4,
            "bin_end": 135.8,
            "count": 0
           },
           {
            "bin_start": 135.8,
            "bin_end": 198.2,
            "count": 1
           },
           {
            "bin_start": 198.2,
            "bin_end": 260.6,
            "count": 0
           },
           {
            "bin_start": 260.6,
            "bin_end": 323,
            "count": 0
           },
           {
            "bin_start": 323,
            "bin_end": 385.4,
            "count": 0
           },
           {
            "bin_start": 385.4,
            "bin_end": 447.8,
            "count": 1
           },
           {
            "bin_start": 447.8,
            "bin_end": 510.2,
            "count": 0
           },
           {
            "bin_start": 510.2,
            "bin_end": 572.6,
            "count": 0
           },
           {
            "bin_start": 572.6,
            "bin_end": 635,
            "count": 1
           }
          ]
         }
        },
        {
         "name": "Gastos_Em_Frutas_Ult2Anos",
         "dtype": "int64",
         "stats": {
          "unique_count": 5,
          "nan_count": 0,
          "min": "1",
          "max": "88",
          "histogram": [
           {
            "bin_start": 1,
            "bin_end": 9.7,
            "count": 2
           },
           {
            "bin_start": 9.7,
            "bin_end": 18.4,
            "count": 0
           },
           {
            "bin_start": 18.4,
            "bin_end": 27.099999999999998,
            "count": 0
           },
           {
            "bin_start": 27.099999999999998,
            "bin_end": 35.8,
            "count": 0
           },
           {
            "bin_start": 35.8,
            "bin_end": 44.5,
            "count": 1
           },
           {
            "bin_start": 44.5,
            "bin_end": 53.199999999999996,
            "count": 1
           },
           {
            "bin_start": 53.199999999999996,
            "bin_end": 61.89999999999999,
            "count": 0
           },
           {
            "bin_start": 61.89999999999999,
            "bin_end": 70.6,
            "count": 0
           },
           {
            "bin_start": 70.6,
            "bin_end": 79.3,
            "count": 0
           },
           {
            "bin_start": 79.3,
            "bin_end": 88,
            "count": 1
           }
          ]
         }
        },
        {
         "name": "Gastos_Em_Carnet2Ano",
         "dtype": "int64",
         "stats": {
          "unique_count": 5,
          "nan_count": 0,
          "min": "6",
          "max": "546",
          "histogram": [
           {
            "bin_start": 6,
            "bin_end": 60,
            "count": 2
           },
           {
            "bin_start": 60,
            "bin_end": 114,
            "count": 0
           },
           {
            "bin_start": 114,
            "bin_end": 168,
            "count": 2
           },
           {
            "bin_start": 168,
            "bin_end": 222,
            "count": 0
           },
           {
            "bin_start": 222,
            "bin_end": 276,
            "count": 0
           },
           {
            "bin_start": 276,
            "bin_end": 330,
            "count": 0
           },
           {
            "bin_start": 330,
            "bin_end": 384,
            "count": 0
           },
           {
            "bin_start": 384,
            "bin_end": 438,
            "count": 0
           },
           {
            "bin_start": 438,
            "bin_end": 492,
            "count": 0
           },
           {
            "bin_start": 492,
            "bin_end": 546,
            "count": 1
           }
          ]
         }
        },
        {
         "name": "Gastos_Em_Pescados_Ult2Anos",
         "dtype": "int64",
         "stats": {
          "unique_count": 5,
          "nan_count": 0,
          "min": "2",
          "max": "172",
          "histogram": [
           {
            "bin_start": 2,
            "bin_end": 19,
            "count": 2
           },
           {
            "bin_start": 19,
            "bin_end": 36,
            "count": 0
           },
           {
            "bin_start": 36,
            "bin_end": 53,
            "count": 1
           },
           {
            "bin_start": 53,
            "bin_end": 70,
            "count": 0
           },
           {
            "bin_start": 70,
            "bin_end": 87,
            "count": 0
           },
           {
            "bin_start": 87,
            "bin_end": 104,
            "count": 0
           },
           {
            "bin_start": 104,
            "bin_end": 121,
            "count": 1
           },
           {
            "bin_start": 121,
            "bin_end": 138,
            "count": 0
           },
           {
            "bin_start": 138,
            "bin_end": 155,
            "count": 0
           },
           {
            "bin_start": 155,
            "bin_end": 172,
            "count": 1
           }
          ]
         }
        },
        {
         "name": "Gastos_Em_Doces_Ult2Anos",
         "dtype": "int64",
         "stats": {
          "unique_count": 5,
          "nan_count": 0,
          "min": "1",
          "max": "88",
          "histogram": [
           {
            "bin_start": 1,
            "bin_end": 9.7,
            "count": 2
           },
           {
            "bin_start": 9.7,
            "bin_end": 18.4,
            "count": 0
           },
           {
            "bin_start": 18.4,
            "bin_end": 27.099999999999998,
            "count": 2
           },
           {
            "bin_start": 27.099999999999998,
            "bin_end": 35.8,
            "count": 0
           },
           {
            "bin_start": 35.8,
            "bin_end": 44.5,
            "count": 0
           },
           {
            "bin_start": 44.5,
            "bin_end": 53.199999999999996,
            "count": 0
           },
           {
            "bin_start": 53.199999999999996,
            "bin_end": 61.89999999999999,
            "count": 0
           },
           {
            "bin_start": 61.89999999999999,
            "bin_end": 70.6,
            "count": 0
           },
           {
            "bin_start": 70.6,
            "bin_end": 79.3,
            "count": 0
           },
           {
            "bin_start": 79.3,
            "bin_end": 88,
            "count": 1
           }
          ]
         }
        },
        {
         "name": "Gastos_Em_Prod_Ouro_Ult2Anos",
         "dtype": "int64",
         "stats": {
          "unique_count": 5,
          "nan_count": 0,
          "min": "5",
          "max": "88",
          "histogram": [
           {
            "bin_start": 5,
            "bin_end": 13.3,
            "count": 2
           },
           {
            "bin_start": 13.3,
            "bin_end": 21.6,
            "count": 1
           },
           {
            "bin_start": 21.6,
            "bin_end": 29.900000000000002,
            "count": 0
           },
           {
            "bin_start": 29.900000000000002,
            "bin_end": 38.2,
            "count": 0
           },
           {
            "bin_start": 38.2,
            "bin_end": 46.5,
            "count": 1
           },
           {
            "bin_start": 46.5,
            "bin_end": 54.800000000000004,
            "count": 0
           },
           {
            "bin_start": 54.800000000000004,
            "bin_end": 63.10000000000001,
            "count": 0
           },
           {
            "bin_start": 63.10000000000001,
            "bin_end": 71.4,
            "count": 0
           },
           {
            "bin_start": 71.4,
            "bin_end": 79.7,
            "count": 0
           },
           {
            "bin_start": 79.7,
            "bin_end": 88,
            "count": 1
           }
          ]
         }
        },
        {
         "name": "Qtd_Compras_ComDesconto",
         "dtype": "int64",
         "stats": {
          "unique_count": 4,
          "nan_count": 0,
          "min": "1",
          "max": "5",
          "histogram": [
           {
            "bin_start": 1,
            "bin_end": 1.4,
            "count": 1
           },
           {
            "bin_start": 1.4,
            "bin_end": 1.8,
            "count": 0
           },
           {
            "bin_start": 1.8,
            "bin_end": 2.2,
            "count": 2
           },
           {
            "bin_start": 2.2,
            "bin_end": 2.6,
            "count": 0
           },
           {
            "bin_start": 2.6,
            "bin_end": 3,
            "count": 0
           },
           {
            "bin_start": 3,
            "bin_end": 3.4000000000000004,
            "count": 1
           },
           {
            "bin_start": 3.4000000000000004,
            "bin_end": 3.8000000000000003,
            "count": 0
           },
           {
            "bin_start": 3.8000000000000003,
            "bin_end": 4.2,
            "count": 0
           },
           {
            "bin_start": 4.2,
            "bin_end": 4.6,
            "count": 0
           },
           {
            "bin_start": 4.6,
            "bin_end": 5,
            "count": 1
           }
          ]
         }
        },
        {
         "name": "Qtd_Compras_OnLine",
         "dtype": "int64",
         "stats": {
          "unique_count": 4,
          "nan_count": 0,
          "min": "1",
          "max": "8",
          "histogram": [
           {
            "bin_start": 1,
            "bin_end": 1.7,
            "count": 1
           },
           {
            "bin_start": 1.7,
            "bin_end": 2.4,
            "count": 1
           },
           {
            "bin_start": 2.4,
            "bin_end": 3.0999999999999996,
            "count": 0
           },
           {
            "bin_start": 3.0999999999999996,
            "bin_end": 3.8,
            "count": 0
           },
           {
            "bin_start": 3.8,
            "bin_end": 4.5,
            "count": 0
           },
           {
            "bin_start": 4.5,
            "bin_end": 5.199999999999999,
            "count": 1
           },
           {
            "bin_start": 5.199999999999999,
            "bin_end": 5.8999999999999995,
            "count": 0
           },
           {
            "bin_start": 5.8999999999999995,
            "bin_end": 6.6,
            "count": 0
           },
           {
            "bin_start": 6.6,
            "bin_end": 7.3,
            "count": 0
           },
           {
            "bin_start": 7.3,
            "bin_end": 8,
            "count": 2
           }
          ]
         }
        },
        {
         "name": "Qtd_Compras_Catalogo",
         "dtype": "int64",
         "stats": {
          "unique_count": 5,
          "nan_count": 0,
          "min": "0",
          "max": "10",
          "histogram": [
           {
            "bin_start": 0,
            "bin_end": 1,
            "count": 1
           },
           {
            "bin_start": 1,
            "bin_end": 2,
            "count": 1
           },
           {
            "bin_start": 2,
            "bin_end": 3,
            "count": 1
           },
           {
            "bin_start": 3,
            "bin_end": 4,
            "count": 1
           },
           {
            "bin_start": 4,
            "bin_end": 5,
            "count": 0
           },
           {
            "bin_start": 5,
            "bin_end": 6,
            "count": 0
           },
           {
            "bin_start": 6,
            "bin_end": 7,
            "count": 0
           },
           {
            "bin_start": 7,
            "bin_end": 8,
            "count": 0
           },
           {
            "bin_start": 8,
            "bin_end": 9,
            "count": 0
           },
           {
            "bin_start": 9,
            "bin_end": 10,
            "count": 1
           }
          ]
         }
        },
        {
         "name": "Qtd_Compras_Loja",
         "dtype": "int64",
         "stats": {
          "unique_count": 4,
          "nan_count": 0,
          "min": "2",
          "max": "10",
          "histogram": [
           {
            "bin_start": 2,
            "bin_end": 2.8,
            "count": 1
           },
           {
            "bin_start": 2.8,
            "bin_end": 3.6,
            "count": 0
           },
           {
            "bin_start": 3.6,
            "bin_end": 4.4,
            "count": 2
           },
           {
            "bin_start": 4.4,
            "bin_end": 5.2,
            "count": 0
           },
           {
            "bin_start": 5.2,
            "bin_end": 6,
            "count": 0
           },
           {
            "bin_start": 6,
            "bin_end": 6.800000000000001,
            "count": 1
           },
           {
            "bin_start": 6.800000000000001,
            "bin_end": 7.6000000000000005,
            "count": 0
           },
           {
            "bin_start": 7.6000000000000005,
            "bin_end": 8.4,
            "count": 0
           },
           {
            "bin_start": 8.4,
            "bin_end": 9.2,
            "count": 0
           },
           {
            "bin_start": 9.2,
            "bin_end": 10,
            "count": 1
           }
          ]
         }
        },
        {
         "name": "Qtd_Acessos_AoSite_UltMes",
         "dtype": "int64",
         "stats": {
          "unique_count": 4,
          "nan_count": 0,
          "min": "4",
          "max": "7",
          "histogram": [
           {
            "bin_start": 4,
            "bin_end": 4.3,
            "count": 1
           },
           {
            "bin_start": 4.3,
            "bin_end": 4.6,
            "count": 0
           },
           {
            "bin_start": 4.6,
            "bin_end": 4.9,
            "count": 0
           },
           {
            "bin_start": 4.9,
            "bin_end": 5.2,
            "count": 2
           },
           {
            "bin_start": 5.2,
            "bin_end": 5.5,
            "count": 0
           },
           {
            "bin_start": 5.5,
            "bin_end": 5.8,
            "count": 0
           },
           {
            "bin_start": 5.8,
            "bin_end": 6.1,
            "count": 1
           },
           {
            "bin_start": 6.1,
            "bin_end": 6.4,
            "count": 0
           },
           {
            "bin_start": 6.4,
            "bin_end": 6.699999999999999,
            "count": 0
           },
           {
            "bin_start": 6.699999999999999,
            "bin_end": 7,
            "count": 1
           }
          ]
         }
        },
        {
         "name": "Oferta_Aceita_3aCamp",
         "dtype": "int64",
         "stats": {
          "unique_count": 1,
          "nan_count": 0,
          "min": "0",
          "max": "0",
          "histogram": [
           {
            "bin_start": -0.5,
            "bin_end": -0.4,
            "count": 0
           },
           {
            "bin_start": -0.4,
            "bin_end": -0.3,
            "count": 0
           },
           {
            "bin_start": -0.3,
            "bin_end": -0.19999999999999996,
            "count": 0
           },
           {
            "bin_start": -0.19999999999999996,
            "bin_end": -0.09999999999999998,
            "count": 0
           },
           {
            "bin_start": -0.09999999999999998,
            "bin_end": 0,
            "count": 0
           },
           {
            "bin_start": 0,
            "bin_end": 0.10000000000000009,
            "count": 5
           },
           {
            "bin_start": 0.10000000000000009,
            "bin_end": 0.20000000000000007,
            "count": 0
           },
           {
            "bin_start": 0.20000000000000007,
            "bin_end": 0.30000000000000004,
            "count": 0
           },
           {
            "bin_start": 0.30000000000000004,
            "bin_end": 0.4,
            "count": 0
           },
           {
            "bin_start": 0.4,
            "bin_end": 0.5,
            "count": 0
           }
          ]
         }
        },
        {
         "name": "Oferta_Aceita_4aCamp",
         "dtype": "int64",
         "stats": {
          "unique_count": 1,
          "nan_count": 0,
          "min": "0",
          "max": "0",
          "histogram": [
           {
            "bin_start": -0.5,
            "bin_end": -0.4,
            "count": 0
           },
           {
            "bin_start": -0.4,
            "bin_end": -0.3,
            "count": 0
           },
           {
            "bin_start": -0.3,
            "bin_end": -0.19999999999999996,
            "count": 0
           },
           {
            "bin_start": -0.19999999999999996,
            "bin_end": -0.09999999999999998,
            "count": 0
           },
           {
            "bin_start": -0.09999999999999998,
            "bin_end": 0,
            "count": 0
           },
           {
            "bin_start": 0,
            "bin_end": 0.10000000000000009,
            "count": 5
           },
           {
            "bin_start": 0.10000000000000009,
            "bin_end": 0.20000000000000007,
            "count": 0
           },
           {
            "bin_start": 0.20000000000000007,
            "bin_end": 0.30000000000000004,
            "count": 0
           },
           {
            "bin_start": 0.30000000000000004,
            "bin_end": 0.4,
            "count": 0
           },
           {
            "bin_start": 0.4,
            "bin_end": 0.5,
            "count": 0
           }
          ]
         }
        },
        {
         "name": "Oferta_Aceita_5aCamp",
         "dtype": "int64",
         "stats": {
          "unique_count": 1,
          "nan_count": 0,
          "min": "0",
          "max": "0",
          "histogram": [
           {
            "bin_start": -0.5,
            "bin_end": -0.4,
            "count": 0
           },
           {
            "bin_start": -0.4,
            "bin_end": -0.3,
            "count": 0
           },
           {
            "bin_start": -0.3,
            "bin_end": -0.19999999999999996,
            "count": 0
           },
           {
            "bin_start": -0.19999999999999996,
            "bin_end": -0.09999999999999998,
            "count": 0
           },
           {
            "bin_start": -0.09999999999999998,
            "bin_end": 0,
            "count": 0
           },
           {
            "bin_start": 0,
            "bin_end": 0.10000000000000009,
            "count": 5
           },
           {
            "bin_start": 0.10000000000000009,
            "bin_end": 0.20000000000000007,
            "count": 0
           },
           {
            "bin_start": 0.20000000000000007,
            "bin_end": 0.30000000000000004,
            "count": 0
           },
           {
            "bin_start": 0.30000000000000004,
            "bin_end": 0.4,
            "count": 0
           },
           {
            "bin_start": 0.4,
            "bin_end": 0.5,
            "count": 0
           }
          ]
         }
        },
        {
         "name": "Oferta_Aceita_1aCamp",
         "dtype": "int64",
         "stats": {
          "unique_count": 1,
          "nan_count": 0,
          "min": "0",
          "max": "0",
          "histogram": [
           {
            "bin_start": -0.5,
            "bin_end": -0.4,
            "count": 0
           },
           {
            "bin_start": -0.4,
            "bin_end": -0.3,
            "count": 0
           },
           {
            "bin_start": -0.3,
            "bin_end": -0.19999999999999996,
            "count": 0
           },
           {
            "bin_start": -0.19999999999999996,
            "bin_end": -0.09999999999999998,
            "count": 0
           },
           {
            "bin_start": -0.09999999999999998,
            "bin_end": 0,
            "count": 0
           },
           {
            "bin_start": 0,
            "bin_end": 0.10000000000000009,
            "count": 5
           },
           {
            "bin_start": 0.10000000000000009,
            "bin_end": 0.20000000000000007,
            "count": 0
           },
           {
            "bin_start": 0.20000000000000007,
            "bin_end": 0.30000000000000004,
            "count": 0
           },
           {
            "bin_start": 0.30000000000000004,
            "bin_end": 0.4,
            "count": 0
           },
           {
            "bin_start": 0.4,
            "bin_end": 0.5,
            "count": 0
           }
          ]
         }
        },
        {
         "name": "Oferta_Aceita_2aCamp",
         "dtype": "int64",
         "stats": {
          "unique_count": 1,
          "nan_count": 0,
          "min": "0",
          "max": "0",
          "histogram": [
           {
            "bin_start": -0.5,
            "bin_end": -0.4,
            "count": 0
           },
           {
            "bin_start": -0.4,
            "bin_end": -0.3,
            "count": 0
           },
           {
            "bin_start": -0.3,
            "bin_end": -0.19999999999999996,
            "count": 0
           },
           {
            "bin_start": -0.19999999999999996,
            "bin_end": -0.09999999999999998,
            "count": 0
           },
           {
            "bin_start": -0.09999999999999998,
            "bin_end": 0,
            "count": 0
           },
           {
            "bin_start": 0,
            "bin_end": 0.10000000000000009,
            "count": 5
           },
           {
            "bin_start": 0.10000000000000009,
            "bin_end": 0.20000000000000007,
            "count": 0
           },
           {
            "bin_start": 0.20000000000000007,
            "bin_end": 0.30000000000000004,
            "count": 0
           },
           {
            "bin_start": 0.30000000000000004,
            "bin_end": 0.4,
            "count": 0
           },
           {
            "bin_start": 0.4,
            "bin_end": 0.5,
            "count": 0
           }
          ]
         }
        },
        {
         "name": "Cat_Cliente_Reclamou_Ult2Anos",
         "dtype": "int64",
         "stats": {
          "unique_count": 1,
          "nan_count": 0,
          "min": "0",
          "max": "0",
          "histogram": [
           {
            "bin_start": -0.5,
            "bin_end": -0.4,
            "count": 0
           },
           {
            "bin_start": -0.4,
            "bin_end": -0.3,
            "count": 0
           },
           {
            "bin_start": -0.3,
            "bin_end": -0.19999999999999996,
            "count": 0
           },
           {
            "bin_start": -0.19999999999999996,
            "bin_end": -0.09999999999999998,
            "count": 0
           },
           {
            "bin_start": -0.09999999999999998,
            "bin_end": 0,
            "count": 0
           },
           {
            "bin_start": 0,
            "bin_end": 0.10000000000000009,
            "count": 5
           },
           {
            "bin_start": 0.10000000000000009,
            "bin_end": 0.20000000000000007,
            "count": 0
           },
           {
            "bin_start": 0.20000000000000007,
            "bin_end": 0.30000000000000004,
            "count": 0
           },
           {
            "bin_start": 0.30000000000000004,
            "bin_end": 0.4,
            "count": 0
           },
           {
            "bin_start": 0.4,
            "bin_end": 0.5,
            "count": 0
           }
          ]
         }
        },
        {
         "name": "Col_nao_descrita01",
         "dtype": "int64",
         "stats": {
          "unique_count": 1,
          "nan_count": 0,
          "min": "3",
          "max": "3",
          "histogram": [
           {
            "bin_start": 2.5,
            "bin_end": 2.6,
            "count": 0
           },
           {
            "bin_start": 2.6,
            "bin_end": 2.7,
            "count": 0
           },
           {
            "bin_start": 2.7,
            "bin_end": 2.8,
            "count": 0
           },
           {
            "bin_start": 2.8,
            "bin_end": 2.9,
            "count": 0
           },
           {
            "bin_start": 2.9,
            "bin_end": 3,
            "count": 0
           },
           {
            "bin_start": 3,
            "bin_end": 3.1,
            "count": 5
           },
           {
            "bin_start": 3.1,
            "bin_end": 3.2,
            "count": 0
           },
           {
            "bin_start": 3.2,
            "bin_end": 3.3,
            "count": 0
           },
           {
            "bin_start": 3.3,
            "bin_end": 3.4,
            "count": 0
           },
           {
            "bin_start": 3.4,
            "bin_end": 3.5,
            "count": 0
           }
          ]
         }
        },
        {
         "name": "Col_nao_descrita02",
         "dtype": "int64",
         "stats": {
          "unique_count": 1,
          "nan_count": 0,
          "min": "11",
          "max": "11",
          "histogram": [
           {
            "bin_start": 10.5,
            "bin_end": 10.6,
            "count": 0
           },
           {
            "bin_start": 10.6,
            "bin_end": 10.7,
            "count": 0
           },
           {
            "bin_start": 10.7,
            "bin_end": 10.8,
            "count": 0
           },
           {
            "bin_start": 10.8,
            "bin_end": 10.9,
            "count": 0
           },
           {
            "bin_start": 10.9,
            "bin_end": 11,
            "count": 0
           },
           {
            "bin_start": 11,
            "bin_end": 11.1,
            "count": 5
           },
           {
            "bin_start": 11.1,
            "bin_end": 11.2,
            "count": 0
           },
           {
            "bin_start": 11.2,
            "bin_end": 11.3,
            "count": 0
           },
           {
            "bin_start": 11.3,
            "bin_end": 11.4,
            "count": 0
           },
           {
            "bin_start": 11.4,
            "bin_end": 11.5,
            "count": 0
           }
          ]
         }
        },
        {
         "name": "Oferta_Aceita_UltCamp",
         "dtype": "int64",
         "stats": {
          "unique_count": 2,
          "nan_count": 0,
          "min": "0",
          "max": "1",
          "histogram": [
           {
            "bin_start": 0,
            "bin_end": 0.1,
            "count": 4
           },
           {
            "bin_start": 0.1,
            "bin_end": 0.2,
            "count": 0
           },
           {
            "bin_start": 0.2,
            "bin_end": 0.30000000000000004,
            "count": 0
           },
           {
            "bin_start": 0.30000000000000004,
            "bin_end": 0.4,
            "count": 0
           },
           {
            "bin_start": 0.4,
            "bin_end": 0.5,
            "count": 0
           },
           {
            "bin_start": 0.5,
            "bin_end": 0.6000000000000001,
            "count": 0
           },
           {
            "bin_start": 0.6000000000000001,
            "bin_end": 0.7000000000000001,
            "count": 0
           },
           {
            "bin_start": 0.7000000000000001,
            "bin_end": 0.8,
            "count": 0
           },
           {
            "bin_start": 0.8,
            "bin_end": 0.9,
            "count": 0
           },
           {
            "bin_start": 0.9,
            "bin_end": 1,
            "count": 1
           }
          ]
         }
        },
        {
         "name": "_deepnote_index_column",
         "dtype": "int64"
        }
       ],
       "rows": [
        {
         "ID": 5524,
         "Ano_Nasc": 1957,
         "Escolaridade": "Graduation",
         "Estado_Civil": "Single",
         "Renda_Familiar_Anual": 58138,
         "Qtd_Criancas": 0,
         "Qtd_Adolesc": 0,
         "Dt_Cadastro": "04-09-2012",
         "Ult_Compra_EmDias": 58,
         "Gastos_Em_Vinho_Ult2Anos": 635,
         "Gastos_Em_Frutas_Ult2Anos": 88,
         "Gastos_Em_Carnet2Ano": 546,
         "Gastos_Em_Pescados_Ult2Anos": 172,
         "Gastos_Em_Doces_Ult2Anos": 88,
         "Gastos_Em_Prod_Ouro_Ult2Anos": 88,
         "Qtd_Compras_ComDesconto": 3,
         "Qtd_Compras_OnLine": 8,
         "Qtd_Compras_Catalogo": 10,
         "Qtd_Compras_Loja": 4,
         "Qtd_Acessos_AoSite_UltMes": 7,
         "Oferta_Aceita_3aCamp": 0,
         "Oferta_Aceita_4aCamp": 0,
         "Oferta_Aceita_5aCamp": 0,
         "Oferta_Aceita_1aCamp": 0,
         "Oferta_Aceita_2aCamp": 0,
         "Cat_Cliente_Reclamou_Ult2Anos": 0,
         "Col_nao_descrita01": 3,
         "Col_nao_descrita02": 11,
         "Oferta_Aceita_UltCamp": 1,
         "_deepnote_index_column": 0
        },
        {
         "ID": 2174,
         "Ano_Nasc": 1954,
         "Escolaridade": "Graduation",
         "Estado_Civil": "Single",
         "Renda_Familiar_Anual": 46344,
         "Qtd_Criancas": 1,
         "Qtd_Adolesc": 1,
         "Dt_Cadastro": "08-03-2014",
         "Ult_Compra_EmDias": 38,
         "Gastos_Em_Vinho_Ult2Anos": 11,
         "Gastos_Em_Frutas_Ult2Anos": 1,
         "Gastos_Em_Carnet2Ano": 6,
         "Gastos_Em_Pescados_Ult2Anos": 2,
         "Gastos_Em_Doces_Ult2Anos": 1,
         "Gastos_Em_Prod_Ouro_Ult2Anos": 6,
         "Qtd_Compras_ComDesconto": 2,
         "Qtd_Compras_OnLine": 1,
         "Qtd_Compras_Catalogo": 1,
         "Qtd_Compras_Loja": 2,
         "Qtd_Acessos_AoSite_UltMes": 5,
         "Oferta_Aceita_3aCamp": 0,
         "Oferta_Aceita_4aCamp": 0,
         "Oferta_Aceita_5aCamp": 0,
         "Oferta_Aceita_1aCamp": 0,
         "Oferta_Aceita_2aCamp": 0,
         "Cat_Cliente_Reclamou_Ult2Anos": 0,
         "Col_nao_descrita01": 3,
         "Col_nao_descrita02": 11,
         "Oferta_Aceita_UltCamp": 0,
         "_deepnote_index_column": 1
        },
        {
         "ID": 4141,
         "Ano_Nasc": 1965,
         "Escolaridade": "Graduation",
         "Estado_Civil": "Together",
         "Renda_Familiar_Anual": 71613,
         "Qtd_Criancas": 0,
         "Qtd_Adolesc": 0,
         "Dt_Cadastro": "21-08-2013",
         "Ult_Compra_EmDias": 26,
         "Gastos_Em_Vinho_Ult2Anos": 426,
         "Gastos_Em_Frutas_Ult2Anos": 49,
         "Gastos_Em_Carnet2Ano": 127,
         "Gastos_Em_Pescados_Ult2Anos": 111,
         "Gastos_Em_Doces_Ult2Anos": 21,
         "Gastos_Em_Prod_Ouro_Ult2Anos": 42,
         "Qtd_Compras_ComDesconto": 1,
         "Qtd_Compras_OnLine": 8,
         "Qtd_Compras_Catalogo": 2,
         "Qtd_Compras_Loja": 10,
         "Qtd_Acessos_AoSite_UltMes": 4,
         "Oferta_Aceita_3aCamp": 0,
         "Oferta_Aceita_4aCamp": 0,
         "Oferta_Aceita_5aCamp": 0,
         "Oferta_Aceita_1aCamp": 0,
         "Oferta_Aceita_2aCamp": 0,
         "Cat_Cliente_Reclamou_Ult2Anos": 0,
         "Col_nao_descrita01": 3,
         "Col_nao_descrita02": 11,
         "Oferta_Aceita_UltCamp": 0,
         "_deepnote_index_column": 2
        },
        {
         "ID": 6182,
         "Ano_Nasc": 1984,
         "Escolaridade": "Graduation",
         "Estado_Civil": "Together",
         "Renda_Familiar_Anual": 26646,
         "Qtd_Criancas": 1,
         "Qtd_Adolesc": 0,
         "Dt_Cadastro": "10-02-2014",
         "Ult_Compra_EmDias": 26,
         "Gastos_Em_Vinho_Ult2Anos": 11,
         "Gastos_Em_Frutas_Ult2Anos": 4,
         "Gastos_Em_Carnet2Ano": 20,
         "Gastos_Em_Pescados_Ult2Anos": 10,
         "Gastos_Em_Doces_Ult2Anos": 3,
         "Gastos_Em_Prod_Ouro_Ult2Anos": 5,
         "Qtd_Compras_ComDesconto": 2,
         "Qtd_Compras_OnLine": 2,
         "Qtd_Compras_Catalogo": 0,
         "Qtd_Compras_Loja": 4,
         "Qtd_Acessos_AoSite_UltMes": 6,
         "Oferta_Aceita_3aCamp": 0,
         "Oferta_Aceita_4aCamp": 0,
         "Oferta_Aceita_5aCamp": 0,
         "Oferta_Aceita_1aCamp": 0,
         "Oferta_Aceita_2aCamp": 0,
         "Cat_Cliente_Reclamou_Ult2Anos": 0,
         "Col_nao_descrita01": 3,
         "Col_nao_descrita02": 11,
         "Oferta_Aceita_UltCamp": 0,
         "_deepnote_index_column": 3
        },
        {
         "ID": 5324,
         "Ano_Nasc": 1981,
         "Escolaridade": "PhD",
         "Estado_Civil": "Married",
         "Renda_Familiar_Anual": 58293,
         "Qtd_Criancas": 1,
         "Qtd_Adolesc": 0,
         "Dt_Cadastro": "19-01-2014",
         "Ult_Compra_EmDias": 94,
         "Gastos_Em_Vinho_Ult2Anos": 173,
         "Gastos_Em_Frutas_Ult2Anos": 43,
         "Gastos_Em_Carnet2Ano": 118,
         "Gastos_Em_Pescados_Ult2Anos": 46,
         "Gastos_Em_Doces_Ult2Anos": 27,
         "Gastos_Em_Prod_Ouro_Ult2Anos": 15,
         "Qtd_Compras_ComDesconto": 5,
         "Qtd_Compras_OnLine": 5,
         "Qtd_Compras_Catalogo": 3,
         "Qtd_Compras_Loja": 6,
         "Qtd_Acessos_AoSite_UltMes": 5,
         "Oferta_Aceita_3aCamp": 0,
         "Oferta_Aceita_4aCamp": 0,
         "Oferta_Aceita_5aCamp": 0,
         "Oferta_Aceita_1aCamp": 0,
         "Oferta_Aceita_2aCamp": 0,
         "Cat_Cliente_Reclamou_Ult2Anos": 0,
         "Col_nao_descrita01": 3,
         "Col_nao_descrita02": 11,
         "Oferta_Aceita_UltCamp": 0,
         "_deepnote_index_column": 4
        }
       ]
      },
      "text/plain": "     ID  Ano_Nasc Escolaridade Estado_Civil  Renda_Familiar_Anual  \\\n0  5524      1957   Graduation       Single             58,138.00   \n1  2174      1954   Graduation       Single             46,344.00   \n2  4141      1965   Graduation     Together             71,613.00   \n3  6182      1984   Graduation     Together             26,646.00   \n4  5324      1981          PhD      Married             58,293.00   \n\n   Qtd_Criancas  Qtd_Adolesc Dt_Cadastro  Ult_Compra_EmDias  \\\n0             0            0  04-09-2012                 58   \n1             1            1  08-03-2014                 38   \n2             0            0  21-08-2013                 26   \n3             1            0  10-02-2014                 26   \n4             1            0  19-01-2014                 94   \n\n   Gastos_Em_Vinho_Ult2Anos  ...  Qtd_Acessos_AoSite_UltMes  \\\n0                       635  ...                          7   \n1                        11  ...                          5   \n2                       426  ...                          4   \n3                        11  ...                          6   \n4                       173  ...                          5   \n\n   Oferta_Aceita_3aCamp  Oferta_Aceita_4aCamp  Oferta_Aceita_5aCamp  \\\n0                     0                     0                     0   \n1                     0                     0                     0   \n2                     0                     0                     0   \n3                     0                     0                     0   \n4                     0                     0                     0   \n\n   Oferta_Aceita_1aCamp  Oferta_Aceita_2aCamp  Cat_Cliente_Reclamou_Ult2Anos  \\\n0                     0                     0                              0   \n1                     0                     0                              0   \n2                     0                     0                              0   \n3                     0                     0                              0   \n4                     0                     0                              0   \n\n   Col_nao_descrita01  Col_nao_descrita02  Oferta_Aceita_UltCamp  \n0                   3                  11                      1  \n1                   3                  11                      0  \n2                   3                  11                      0  \n3                   3                  11                      0  \n4                   3                  11                      0  \n\n[5 rows x 29 columns]",
      "text/html": "<div>\n<style scoped>\n    .dataframe tbody tr th:only-of-type {\n        vertical-align: middle;\n    }\n\n    .dataframe tbody tr th {\n        vertical-align: top;\n    }\n\n    .dataframe thead th {\n        text-align: right;\n    }\n</style>\n<table border=\"1\" class=\"dataframe\">\n  <thead>\n    <tr style=\"text-align: right;\">\n      <th></th>\n      <th>ID</th>\n      <th>Ano_Nasc</th>\n      <th>Escolaridade</th>\n      <th>Estado_Civil</th>\n      <th>Renda_Familiar_Anual</th>\n      <th>Qtd_Criancas</th>\n      <th>Qtd_Adolesc</th>\n      <th>Dt_Cadastro</th>\n      <th>Ult_Compra_EmDias</th>\n      <th>Gastos_Em_Vinho_Ult2Anos</th>\n      <th>...</th>\n      <th>Qtd_Acessos_AoSite_UltMes</th>\n      <th>Oferta_Aceita_3aCamp</th>\n      <th>Oferta_Aceita_4aCamp</th>\n      <th>Oferta_Aceita_5aCamp</th>\n      <th>Oferta_Aceita_1aCamp</th>\n      <th>Oferta_Aceita_2aCamp</th>\n      <th>Cat_Cliente_Reclamou_Ult2Anos</th>\n      <th>Col_nao_descrita01</th>\n      <th>Col_nao_descrita02</th>\n      <th>Oferta_Aceita_UltCamp</th>\n    </tr>\n  </thead>\n  <tbody>\n    <tr>\n      <th>0</th>\n      <td>5524</td>\n      <td>1957</td>\n      <td>Graduation</td>\n      <td>Single</td>\n      <td>58,138.00</td>\n      <td>0</td>\n      <td>0</td>\n      <td>04-09-2012</td>\n      <td>58</td>\n      <td>635</td>\n      <td>...</td>\n      <td>7</td>\n      <td>0</td>\n      <td>0</td>\n      <td>0</td>\n      <td>0</td>\n      <td>0</td>\n      <td>0</td>\n      <td>3</td>\n      <td>11</td>\n      <td>1</td>\n    </tr>\n    <tr>\n      <th>1</th>\n      <td>2174</td>\n      <td>1954</td>\n      <td>Graduation</td>\n      <td>Single</td>\n      <td>46,344.00</td>\n      <td>1</td>\n      <td>1</td>\n      <td>08-03-2014</td>\n      <td>38</td>\n      <td>11</td>\n      <td>...</td>\n      <td>5</td>\n      <td>0</td>\n      <td>0</td>\n      <td>0</td>\n      <td>0</td>\n      <td>0</td>\n      <td>0</td>\n      <td>3</td>\n      <td>11</td>\n      <td>0</td>\n    </tr>\n    <tr>\n      <th>2</th>\n      <td>4141</td>\n      <td>1965</td>\n      <td>Graduation</td>\n      <td>Together</td>\n      <td>71,613.00</td>\n      <td>0</td>\n      <td>0</td>\n      <td>21-08-2013</td>\n      <td>26</td>\n      <td>426</td>\n      <td>...</td>\n      <td>4</td>\n      <td>0</td>\n      <td>0</td>\n      <td>0</td>\n      <td>0</td>\n      <td>0</td>\n      <td>0</td>\n      <td>3</td>\n      <td>11</td>\n      <td>0</td>\n    </tr>\n    <tr>\n      <th>3</th>\n      <td>6182</td>\n      <td>1984</td>\n      <td>Graduation</td>\n      <td>Together</td>\n      <td>26,646.00</td>\n      <td>1</td>\n      <td>0</td>\n      <td>10-02-2014</td>\n      <td>26</td>\n      <td>11</td>\n      <td>...</td>\n      <td>6</td>\n      <td>0</td>\n      <td>0</td>\n      <td>0</td>\n      <td>0</td>\n      <td>0</td>\n      <td>0</td>\n      <td>3</td>\n      <td>11</td>\n      <td>0</td>\n    </tr>\n    <tr>\n      <th>4</th>\n      <td>5324</td>\n      <td>1981</td>\n      <td>PhD</td>\n      <td>Married</td>\n      <td>58,293.00</td>\n      <td>1</td>\n      <td>0</td>\n      <td>19-01-2014</td>\n      <td>94</td>\n      <td>173</td>\n      <td>...</td>\n      <td>5</td>\n      <td>0</td>\n      <td>0</td>\n      <td>0</td>\n      <td>0</td>\n      <td>0</td>\n      <td>0</td>\n      <td>3</td>\n      <td>11</td>\n      <td>0</td>\n    </tr>\n  </tbody>\n</table>\n<p>5 rows × 29 columns</p>\n</div>"
     },
     "metadata": {}
    }
   ]
  },
  {
   "cell_type": "markdown",
   "source": "#### Checando se há apenas uma entrada por ID",
   "metadata": {
    "cell_id": "e9d499bc-29c8-4f95-81a2-1dbf4e63fc70",
    "tags": [],
    "deepnote_cell_type": "markdown"
   }
  },
  {
   "cell_type": "code",
   "metadata": {
    "cell_id": "1e1dc1b6-1116-493d-b831-5ed8273cce70",
    "tags": [],
    "deepnote_to_be_reexecuted": false,
    "source_hash": "9a890b2f",
    "execution_start": 1643669548748,
    "execution_millis": 21,
    "deepnote_output_heights": [
     null,
     1
    ],
    "deepnote_cell_type": "code"
   },
   "source": "print(\"Número máximo de entradas de cada ID: \")\ndf.groupby(\"ID\").agg(\"ID\").count().max()",
   "execution_count": null,
   "outputs": [
    {
     "name": "stdout",
     "text": "Número máximo de entradas de cada ID: \n",
     "output_type": "stream"
    },
    {
     "output_type": "execute_result",
     "execution_count": 4,
     "data": {
      "text/plain": "1"
     },
     "metadata": {}
    }
   ]
  },
  {
   "cell_type": "markdown",
   "source": "#### Modificando a estrutura de dados do Dataset\n\nSerão excluídos do Dataframe as colunas 'ID', 'Col_nao_descrita01', 'Col_nao_descrita02' pois, para este estudo, elas não serão necessárias.",
   "metadata": {
    "cell_id": "e2388608-bf24-452f-a188-b0436741cec4",
    "tags": [],
    "deepnote_cell_type": "markdown"
   }
  },
  {
   "cell_type": "code",
   "metadata": {
    "cell_id": "82fc9e17-8cd9-4bf5-a4ac-e700b3fb0621",
    "tags": [],
    "deepnote_to_be_reexecuted": false,
    "source_hash": "d24927b4",
    "execution_start": 1643669548808,
    "execution_millis": 0,
    "deepnote_cell_type": "code"
   },
   "source": "# Excluir colunas que não serão usadas no estudo\ndf.drop(['ID', 'Col_nao_descrita01', 'Col_nao_descrita02'], axis=1, inplace=True)",
   "execution_count": null,
   "outputs": []
  },
  {
   "cell_type": "markdown",
   "source": "#### Checando o tipo de dados de cada coluna",
   "metadata": {
    "cell_id": "916a0c1f-ce69-4154-8e70-b437930a6e33",
    "tags": [],
    "deepnote_cell_type": "markdown"
   }
  },
  {
   "cell_type": "code",
   "metadata": {
    "cell_id": "96502c66-dc07-46d1-9517-78dbd96ef889",
    "tags": [],
    "deepnote_to_be_reexecuted": false,
    "source_hash": "52430027",
    "execution_start": 1643669548809,
    "execution_millis": 6,
    "deepnote_output_heights": [
     1
    ],
    "deepnote_cell_type": "code"
   },
   "source": "df.dtypes",
   "execution_count": null,
   "outputs": [
    {
     "output_type": "execute_result",
     "execution_count": 6,
     "data": {
      "text/plain": "Ano_Nasc                           int64\nEscolaridade                      object\nEstado_Civil                      object\nRenda_Familiar_Anual             float64\nQtd_Criancas                       int64\nQtd_Adolesc                        int64\nDt_Cadastro                       object\nUlt_Compra_EmDias                  int64\nGastos_Em_Vinho_Ult2Anos           int64\nGastos_Em_Frutas_Ult2Anos          int64\nGastos_Em_Carnet2Ano               int64\nGastos_Em_Pescados_Ult2Anos        int64\nGastos_Em_Doces_Ult2Anos           int64\nGastos_Em_Prod_Ouro_Ult2Anos       int64\nQtd_Compras_ComDesconto            int64\nQtd_Compras_OnLine                 int64\nQtd_Compras_Catalogo               int64\nQtd_Compras_Loja                   int64\nQtd_Acessos_AoSite_UltMes          int64\nOferta_Aceita_3aCamp               int64\nOferta_Aceita_4aCamp               int64\nOferta_Aceita_5aCamp               int64\nOferta_Aceita_1aCamp               int64\nOferta_Aceita_2aCamp               int64\nCat_Cliente_Reclamou_Ult2Anos      int64\nOferta_Aceita_UltCamp              int64\ndtype: object"
     },
     "metadata": {}
    }
   ]
  },
  {
   "cell_type": "markdown",
   "source": "#### Para trabalhar mais eficientemente com os dados, os tipos de dados das colunas foram ajustados",
   "metadata": {
    "cell_id": "5c5e5fa0-93b5-429b-80d8-93000d675cb4",
    "tags": [],
    "deepnote_cell_type": "markdown"
   }
  },
  {
   "cell_type": "code",
   "metadata": {
    "cell_id": "1d865ae0-4626-4a5a-bc92-d8706b46b842",
    "tags": [],
    "deepnote_to_be_reexecuted": false,
    "source_hash": "e769a4ea",
    "execution_start": 1643669548810,
    "execution_millis": 6,
    "deepnote_output_heights": [
     1
    ],
    "deepnote_cell_type": "code"
   },
   "source": "# Convertendo a coluna 'Dt_Cadastro' de Object para Date\ndf['Dt_Cadastro']=df['Dt_Cadastro'].astype('datetime64')\n\n# Convertendo as colunas dos gastos de float64 para Float\ncolunas = ['Gastos_Em_Vinho_Ult2Anos', 'Gastos_Em_Frutas_Ult2Anos',\n    'Gastos_Em_Carnet2Ano', 'Gastos_Em_Pescados_Ult2Anos',\n    'Gastos_Em_Doces_Ult2Anos', 'Gastos_Em_Prod_Ouro_Ult2Anos','Renda_Familiar_Anual']\ndf[colunas] = df[colunas].astype(np.float32)\n\n# Convertendo para categóricas as variáveis deste tipo\ncolunas = ['Escolaridade', 'Estado_Civil']\ndf[colunas] = df[colunas].astype('category')\n\n# Convertendo todas as colunas do tipo 'int64' para 'int32'\ndf = df.astype({col: 'int32' for col in df.select_dtypes('int64').columns})\n\ndf.dtypes",
   "execution_count": null,
   "outputs": [
    {
     "output_type": "execute_result",
     "execution_count": 7,
     "data": {
      "text/plain": "Ano_Nasc                                  int32\nEscolaridade                           category\nEstado_Civil                           category\nRenda_Familiar_Anual                    float32\nQtd_Criancas                              int32\nQtd_Adolesc                               int32\nDt_Cadastro                      datetime64[ns]\nUlt_Compra_EmDias                         int32\nGastos_Em_Vinho_Ult2Anos                float32\nGastos_Em_Frutas_Ult2Anos               float32\nGastos_Em_Carnet2Ano                    float32\nGastos_Em_Pescados_Ult2Anos             float32\nGastos_Em_Doces_Ult2Anos                float32\nGastos_Em_Prod_Ouro_Ult2Anos            float32\nQtd_Compras_ComDesconto                   int32\nQtd_Compras_OnLine                        int32\nQtd_Compras_Catalogo                      int32\nQtd_Compras_Loja                          int32\nQtd_Acessos_AoSite_UltMes                 int32\nOferta_Aceita_3aCamp                      int32\nOferta_Aceita_4aCamp                      int32\nOferta_Aceita_5aCamp                      int32\nOferta_Aceita_1aCamp                      int32\nOferta_Aceita_2aCamp                      int32\nCat_Cliente_Reclamou_Ult2Anos             int32\nOferta_Aceita_UltCamp                     int32\ndtype: object"
     },
     "metadata": {}
    }
   ]
  },
  {
   "cell_type": "markdown",
   "source": "### Explorando e Limpando os Dados",
   "metadata": {
    "cell_id": "6f9316cc-3281-45a6-9fb8-e217bba66181",
    "tags": [],
    "deepnote_cell_type": "markdown"
   }
  },
  {
   "cell_type": "code",
   "metadata": {
    "cell_id": "c1a266a8-9f47-4c8f-b388-cad6948ae8a8",
    "tags": [],
    "deepnote_to_be_reexecuted": false,
    "source_hash": "f88152d9",
    "execution_start": 1643669548818,
    "execution_millis": 297,
    "deepnote_cell_type": "code"
   },
   "source": "df.describe()",
   "execution_count": null,
   "outputs": [
    {
     "output_type": "execute_result",
     "execution_count": 8,
     "data": {
      "application/vnd.deepnote.dataframe.v3+json": {
       "column_count": 23,
       "row_count": 8,
       "columns": [
        {
         "name": "Ano_Nasc",
         "dtype": "float64",
         "stats": {
          "unique_count": 8,
          "nan_count": 0,
          "min": "11.984069456885829",
          "max": "2240.0",
          "histogram": [
           {
            "bin_start": 11.984069456885829,
            "bin_end": 234.78566251119727,
            "count": 1
           },
           {
            "bin_start": 234.78566251119727,
            "bin_end": 457.5872555655087,
            "count": 0
           },
           {
            "bin_start": 457.5872555655087,
            "bin_end": 680.3888486198201,
            "count": 0
           },
           {
            "bin_start": 680.3888486198201,
            "bin_end": 903.1904416741315,
            "count": 0
           },
           {
            "bin_start": 903.1904416741315,
            "bin_end": 1125.992034728443,
            "count": 0
           },
           {
            "bin_start": 1125.992034728443,
            "bin_end": 1348.7936277827546,
            "count": 0
           },
           {
            "bin_start": 1348.7936277827546,
            "bin_end": 1571.5952208370659,
            "count": 0
           },
           {
            "bin_start": 1571.5952208370659,
            "bin_end": 1794.3968138913774,
            "count": 0
           },
           {
            "bin_start": 1794.3968138913774,
            "bin_end": 2017.198406945689,
            "count": 6
           },
           {
            "bin_start": 2017.198406945689,
            "bin_end": 2240,
            "count": 1
           }
          ]
         }
        },
        {
         "name": "Renda_Familiar_Anual",
         "dtype": "float64",
         "stats": {
          "unique_count": 8,
          "nan_count": 0,
          "min": "1730.0",
          "max": "666666.0",
          "histogram": [
           {
            "bin_start": 1730,
            "bin_end": 68223.6,
            "count": 6
           },
           {
            "bin_start": 68223.6,
            "bin_end": 134717.2,
            "count": 1
           },
           {
            "bin_start": 134717.2,
            "bin_end": 201210.80000000002,
            "count": 0
           },
           {
            "bin_start": 201210.80000000002,
            "bin_end": 267704.4,
            "count": 0
           },
           {
            "bin_start": 267704.4,
            "bin_end": 334198,
            "count": 0
           },
           {
            "bin_start": 334198,
            "bin_end": 400691.60000000003,
            "count": 0
           },
           {
            "bin_start": 400691.60000000003,
            "bin_end": 467185.20000000007,
            "count": 0
           },
           {
            "bin_start": 467185.20000000007,
            "bin_end": 533678.8,
            "count": 0
           },
           {
            "bin_start": 533678.8,
            "bin_end": 600172.4,
            "count": 0
           },
           {
            "bin_start": 600172.4,
            "bin_end": 666666,
            "count": 1
           }
          ]
         }
        },
        {
         "name": "Qtd_Criancas",
         "dtype": "float64",
         "stats": {
          "unique_count": 6,
          "nan_count": 0,
          "min": "0.0",
          "max": "2240.0",
          "histogram": [
           {
            "bin_start": 0,
            "bin_end": 224,
            "count": 7
           },
           {
            "bin_start": 224,
            "bin_end": 448,
            "count": 0
           },
           {
            "bin_start": 448,
            "bin_end": 672,
            "count": 0
           },
           {
            "bin_start": 672,
            "bin_end": 896,
            "count": 0
           },
           {
            "bin_start": 896,
            "bin_end": 1120,
            "count": 0
           },
           {
            "bin_start": 1120,
            "bin_end": 1344,
            "count": 0
           },
           {
            "bin_start": 1344,
            "bin_end": 1568,
            "count": 0
           },
           {
            "bin_start": 1568,
            "bin_end": 1792,
            "count": 0
           },
           {
            "bin_start": 1792,
            "bin_end": 2016,
            "count": 0
           },
           {
            "bin_start": 2016,
            "bin_end": 2240,
            "count": 1
           }
          ]
         }
        },
        {
         "name": "Qtd_Adolesc",
         "dtype": "float64",
         "stats": {
          "unique_count": 6,
          "nan_count": 0,
          "min": "0.0",
          "max": "2240.0",
          "histogram": [
           {
            "bin_start": 0,
            "bin_end": 224,
            "count": 7
           },
           {
            "bin_start": 224,
            "bin_end": 448,
            "count": 0
           },
           {
            "bin_start": 448,
            "bin_end": 672,
            "count": 0
           },
           {
            "bin_start": 672,
            "bin_end": 896,
            "count": 0
           },
           {
            "bin_start": 896,
            "bin_end": 1120,
            "count": 0
           },
           {
            "bin_start": 1120,
            "bin_end": 1344,
            "count": 0
           },
           {
            "bin_start": 1344,
            "bin_end": 1568,
            "count": 0
           },
           {
            "bin_start": 1568,
            "bin_end": 1792,
            "count": 0
           },
           {
            "bin_start": 1792,
            "bin_end": 2016,
            "count": 0
           },
           {
            "bin_start": 2016,
            "bin_end": 2240,
            "count": 1
           }
          ]
         }
        },
        {
         "name": "Ult_Compra_EmDias",
         "dtype": "float64",
         "stats": {
          "unique_count": 8,
          "nan_count": 0,
          "min": "0.0",
          "max": "2240.0",
          "histogram": [
           {
            "bin_start": 0,
            "bin_end": 224,
            "count": 7
           },
           {
            "bin_start": 224,
            "bin_end": 448,
            "count": 0
           },
           {
            "bin_start": 448,
            "bin_end": 672,
            "count": 0
           },
           {
            "bin_start": 672,
            "bin_end": 896,
            "count": 0
           },
           {
            "bin_start": 896,
            "bin_end": 1120,
            "count": 0
           },
           {
            "bin_start": 1120,
            "bin_end": 1344,
            "count": 0
           },
           {
            "bin_start": 1344,
            "bin_end": 1568,
            "count": 0
           },
           {
            "bin_start": 1568,
            "bin_end": 1792,
            "count": 0
           },
           {
            "bin_start": 1792,
            "bin_end": 2016,
            "count": 0
           },
           {
            "bin_start": 2016,
            "bin_end": 2240,
            "count": 1
           }
          ]
         }
        },
        {
         "name": "Gastos_Em_Vinho_Ult2Anos",
         "dtype": "float64",
         "stats": {
          "unique_count": 8,
          "nan_count": 0,
          "min": "0.0",
          "max": "2240.0",
          "histogram": [
           {
            "bin_start": 0,
            "bin_end": 224,
            "count": 3
           },
           {
            "bin_start": 224,
            "bin_end": 448,
            "count": 2
           },
           {
            "bin_start": 448,
            "bin_end": 672,
            "count": 1
           },
           {
            "bin_start": 672,
            "bin_end": 896,
            "count": 0
           },
           {
            "bin_start": 896,
            "bin_end": 1120,
            "count": 0
           },
           {
            "bin_start": 1120,
            "bin_end": 1344,
            "count": 0
           },
           {
            "bin_start": 1344,
            "bin_end": 1568,
            "count": 1
           },
           {
            "bin_start": 1568,
            "bin_end": 1792,
            "count": 0
           },
           {
            "bin_start": 1792,
            "bin_end": 2016,
            "count": 0
           },
           {
            "bin_start": 2016,
            "bin_end": 2240,
            "count": 1
           }
          ]
         }
        },
        {
         "name": "Gastos_Em_Frutas_Ult2Anos",
         "dtype": "float64",
         "stats": {
          "unique_count": 8,
          "nan_count": 0,
          "min": "0.0",
          "max": "2240.0",
          "histogram": [
           {
            "bin_start": 0,
            "bin_end": 224,
            "count": 7
           },
           {
            "bin_start": 224,
            "bin_end": 448,
            "count": 0
           },
           {
            "bin_start": 448,
            "bin_end": 672,
            "count": 0
           },
           {
            "bin_start": 672,
            "bin_end": 896,
            "count": 0
           },
           {
            "bin_start": 896,
            "bin_end": 1120,
            "count": 0
           },
           {
            "bin_start": 1120,
            "bin_end": 1344,
            "count": 0
           },
           {
            "bin_start": 1344,
            "bin_end": 1568,
            "count": 0
           },
           {
            "bin_start": 1568,
            "bin_end": 1792,
            "count": 0
           },
           {
            "bin_start": 1792,
            "bin_end": 2016,
            "count": 0
           },
           {
            "bin_start": 2016,
            "bin_end": 2240,
            "count": 1
           }
          ]
         }
        },
        {
         "name": "Gastos_Em_Carnet2Ano",
         "dtype": "float64",
         "stats": {
          "unique_count": 8,
          "nan_count": 0,
          "min": "0.0",
          "max": "2240.0",
          "histogram": [
           {
            "bin_start": 0,
            "bin_end": 224,
            "count": 4
           },
           {
            "bin_start": 224,
            "bin_end": 448,
            "count": 2
           },
           {
            "bin_start": 448,
            "bin_end": 672,
            "count": 0
           },
           {
            "bin_start": 672,
            "bin_end": 896,
            "count": 0
           },
           {
            "bin_start": 896,
            "bin_end": 1120,
            "count": 0
           },
           {
            "bin_start": 1120,
            "bin_end": 1344,
            "count": 0
           },
           {
            "bin_start": 1344,
            "bin_end": 1568,
            "count": 0
           },
           {
            "bin_start": 1568,
            "bin_end": 1792,
            "count": 1
           },
           {
            "bin_start": 1792,
            "bin_end": 2016,
            "count": 0
           },
           {
            "bin_start": 2016,
            "bin_end": 2240,
            "count": 1
           }
          ]
         }
        },
        {
         "name": "Gastos_Em_Pescados_Ult2Anos",
         "dtype": "float64",
         "stats": {
          "unique_count": 8,
          "nan_count": 0,
          "min": "0.0",
          "max": "2240.0",
          "histogram": [
           {
            "bin_start": 0,
            "bin_end": 224,
            "count": 6
           },
           {
            "bin_start": 224,
            "bin_end": 448,
            "count": 1
           },
           {
            "bin_start": 448,
            "bin_end": 672,
            "count": 0
           },
           {
            "bin_start": 672,
            "bin_end": 896,
            "count": 0
           },
           {
            "bin_start": 896,
            "bin_end": 1120,
            "count": 0
           },
           {
            "bin_start": 1120,
            "bin_end": 1344,
            "count": 0
           },
           {
            "bin_start": 1344,
            "bin_end": 1568,
            "count": 0
           },
           {
            "bin_start": 1568,
            "bin_end": 1792,
            "count": 0
           },
           {
            "bin_start": 1792,
            "bin_end": 2016,
            "count": 0
           },
           {
            "bin_start": 2016,
            "bin_end": 2240,
            "count": 1
           }
          ]
         }
        },
        {
         "name": "Gastos_Em_Doces_Ult2Anos",
         "dtype": "float64",
         "stats": {
          "unique_count": 8,
          "nan_count": 0,
          "min": "0.0",
          "max": "2240.0",
          "histogram": [
           {
            "bin_start": 0,
            "bin_end": 224,
            "count": 6
           },
           {
            "bin_start": 224,
            "bin_end": 448,
            "count": 1
           },
           {
            "bin_start": 448,
            "bin_end": 672,
            "count": 0
           },
           {
            "bin_start": 672,
            "bin_end": 896,
            "count": 0
           },
           {
            "bin_start": 896,
            "bin_end": 1120,
            "count": 0
           },
           {
            "bin_start": 1120,
            "bin_end": 1344,
            "count": 0
           },
           {
            "bin_start": 1344,
            "bin_end": 1568,
            "count": 0
           },
           {
            "bin_start": 1568,
            "bin_end": 1792,
            "count": 0
           },
           {
            "bin_start": 1792,
            "bin_end": 2016,
            "count": 0
           },
           {
            "bin_start": 2016,
            "bin_end": 2240,
            "count": 1
           }
          ]
         }
        },
        {
         "name": "Gastos_Em_Prod_Ouro_Ult2Anos",
         "dtype": "float64",
         "stats": {
          "unique_count": 8,
          "nan_count": 0,
          "min": "0.0",
          "max": "2240.0",
          "histogram": [
           {
            "bin_start": 0,
            "bin_end": 224,
            "count": 6
           },
           {
            "bin_start": 224,
            "bin_end": 448,
            "count": 1
           },
           {
            "bin_start": 448,
            "bin_end": 672,
            "count": 0
           },
           {
            "bin_start": 672,
            "bin_end": 896,
            "count": 0
           },
           {
            "bin_start": 896,
            "bin_end": 1120,
            "count": 0
           },
           {
            "bin_start": 1120,
            "bin_end": 1344,
            "count": 0
           },
           {
            "bin_start": 1344,
            "bin_end": 1568,
            "count": 0
           },
           {
            "bin_start": 1568,
            "bin_end": 1792,
            "count": 0
           },
           {
            "bin_start": 1792,
            "bin_end": 2016,
            "count": 0
           },
           {
            "bin_start": 2016,
            "bin_end": 2240,
            "count": 1
           }
          ]
         }
        },
        {
         "name": "Qtd_Compras_ComDesconto",
         "dtype": "float64",
         "stats": {
          "unique_count": 8,
          "nan_count": 0,
          "min": "0.0",
          "max": "2240.0",
          "histogram": [
           {
            "bin_start": 0,
            "bin_end": 224,
            "count": 7
           },
           {
            "bin_start": 224,
            "bin_end": 448,
            "count": 0
           },
           {
            "bin_start": 448,
            "bin_end": 672,
            "count": 0
           },
           {
            "bin_start": 672,
            "bin_end": 896,
            "count": 0
           },
           {
            "bin_start": 896,
            "bin_end": 1120,
            "count": 0
           },
           {
            "bin_start": 1120,
            "bin_end": 1344,
            "count": 0
           },
           {
            "bin_start": 1344,
            "bin_end": 1568,
            "count": 0
           },
           {
            "bin_start": 1568,
            "bin_end": 1792,
            "count": 0
           },
           {
            "bin_start": 1792,
            "bin_end": 2016,
            "count": 0
           },
           {
            "bin_start": 2016,
            "bin_end": 2240,
            "count": 1
           }
          ]
         }
        },
        {
         "name": "Qtd_Compras_OnLine",
         "dtype": "float64",
         "stats": {
          "unique_count": 8,
          "nan_count": 0,
          "min": "0.0",
          "max": "2240.0",
          "histogram": [
           {
            "bin_start": 0,
            "bin_end": 224,
            "count": 7
           },
           {
            "bin_start": 224,
            "bin_end": 448,
            "count": 0
           },
           {
            "bin_start": 448,
            "bin_end": 672,
            "count": 0
           },
           {
            "bin_start": 672,
            "bin_end": 896,
            "count": 0
           },
           {
            "bin_start": 896,
            "bin_end": 1120,
            "count": 0
           },
           {
            "bin_start": 1120,
            "bin_end": 1344,
            "count": 0
           },
           {
            "bin_start": 1344,
            "bin_end": 1568,
            "count": 0
           },
           {
            "bin_start": 1568,
            "bin_end": 1792,
            "count": 0
           },
           {
            "bin_start": 1792,
            "bin_end": 2016,
            "count": 0
           },
           {
            "bin_start": 2016,
            "bin_end": 2240,
            "count": 1
           }
          ]
         }
        },
        {
         "name": "Qtd_Compras_Catalogo",
         "dtype": "float64",
         "stats": {
          "unique_count": 7,
          "nan_count": 0,
          "min": "0.0",
          "max": "2240.0",
          "histogram": [
           {
            "bin_start": 0,
            "bin_end": 224,
            "count": 7
           },
           {
            "bin_start": 224,
            "bin_end": 448,
            "count": 0
           },
           {
            "bin_start": 448,
            "bin_end": 672,
            "count": 0
           },
           {
            "bin_start": 672,
            "bin_end": 896,
            "count": 0
           },
           {
            "bin_start": 896,
            "bin_end": 1120,
            "count": 0
           },
           {
            "bin_start": 1120,
            "bin_end": 1344,
            "count": 0
           },
           {
            "bin_start": 1344,
            "bin_end": 1568,
            "count": 0
           },
           {
            "bin_start": 1568,
            "bin_end": 1792,
            "count": 0
           },
           {
            "bin_start": 1792,
            "bin_end": 2016,
            "count": 0
           },
           {
            "bin_start": 2016,
            "bin_end": 2240,
            "count": 1
           }
          ]
         }
        },
        {
         "name": "Qtd_Compras_Loja",
         "dtype": "float64",
         "stats": {
          "unique_count": 8,
          "nan_count": 0,
          "min": "0.0",
          "max": "2240.0",
          "histogram": [
           {
            "bin_start": 0,
            "bin_end": 224,
            "count": 7
           },
           {
            "bin_start": 224,
            "bin_end": 448,
            "count": 0
           },
           {
            "bin_start": 448,
            "bin_end": 672,
            "count": 0
           },
           {
            "bin_start": 672,
            "bin_end": 896,
            "count": 0
           },
           {
            "bin_start": 896,
            "bin_end": 1120,
            "count": 0
           },
           {
            "bin_start": 1120,
            "bin_end": 1344,
            "count": 0
           },
           {
            "bin_start": 1344,
            "bin_end": 1568,
            "count": 0
           },
           {
            "bin_start": 1568,
            "bin_end": 1792,
            "count": 0
           },
           {
            "bin_start": 1792,
            "bin_end": 2016,
            "count": 0
           },
           {
            "bin_start": 2016,
            "bin_end": 2240,
            "count": 1
           }
          ]
         }
        },
        {
         "name": "Qtd_Acessos_AoSite_UltMes",
         "dtype": "float64",
         "stats": {
          "unique_count": 8,
          "nan_count": 0,
          "min": "0.0",
          "max": "2240.0",
          "histogram": [
           {
            "bin_start": 0,
            "bin_end": 224,
            "count": 7
           },
           {
            "bin_start": 224,
            "bin_end": 448,
            "count": 0
           },
           {
            "bin_start": 448,
            "bin_end": 672,
            "count": 0
           },
           {
            "bin_start": 672,
            "bin_end": 896,
            "count": 0
           },
           {
            "bin_start": 896,
            "bin_end": 1120,
            "count": 0
           },
           {
            "bin_start": 1120,
            "bin_end": 1344,
            "count": 0
           },
           {
            "bin_start": 1344,
            "bin_end": 1568,
            "count": 0
           },
           {
            "bin_start": 1568,
            "bin_end": 1792,
            "count": 0
           },
           {
            "bin_start": 1792,
            "bin_end": 2016,
            "count": 0
           },
           {
            "bin_start": 2016,
            "bin_end": 2240,
            "count": 1
           }
          ]
         }
        },
        {
         "name": "Oferta_Aceita_3aCamp",
         "dtype": "float64",
         "stats": {
          "unique_count": 5,
          "nan_count": 0,
          "min": "0.0",
          "max": "2240.0",
          "histogram": [
           {
            "bin_start": 0,
            "bin_end": 224,
            "count": 7
           },
           {
            "bin_start": 224,
            "bin_end": 448,
            "count": 0
           },
           {
            "bin_start": 448,
            "bin_end": 672,
            "count": 0
           },
           {
            "bin_start": 672,
            "bin_end": 896,
            "count": 0
           },
           {
            "bin_start": 896,
            "bin_end": 1120,
            "count": 0
           },
           {
            "bin_start": 1120,
            "bin_end": 1344,
            "count": 0
           },
           {
            "bin_start": 1344,
            "bin_end": 1568,
            "count": 0
           },
           {
            "bin_start": 1568,
            "bin_end": 1792,
            "count": 0
           },
           {
            "bin_start": 1792,
            "bin_end": 2016,
            "count": 0
           },
           {
            "bin_start": 2016,
            "bin_end": 2240,
            "count": 1
           }
          ]
         }
        },
        {
         "name": "Oferta_Aceita_4aCamp",
         "dtype": "float64",
         "stats": {
          "unique_count": 5,
          "nan_count": 0,
          "min": "0.0",
          "max": "2240.0",
          "histogram": [
           {
            "bin_start": 0,
            "bin_end": 224,
            "count": 7
           },
           {
            "bin_start": 224,
            "bin_end": 448,
            "count": 0
           },
           {
            "bin_start": 448,
            "bin_end": 672,
            "count": 0
           },
           {
            "bin_start": 672,
            "bin_end": 896,
            "count": 0
           },
           {
            "bin_start": 896,
            "bin_end": 1120,
            "count": 0
           },
           {
            "bin_start": 1120,
            "bin_end": 1344,
            "count": 0
           },
           {
            "bin_start": 1344,
            "bin_end": 1568,
            "count": 0
           },
           {
            "bin_start": 1568,
            "bin_end": 1792,
            "count": 0
           },
           {
            "bin_start": 1792,
            "bin_end": 2016,
            "count": 0
           },
           {
            "bin_start": 2016,
            "bin_end": 2240,
            "count": 1
           }
          ]
         }
        },
        {
         "name": "Oferta_Aceita_5aCamp",
         "dtype": "float64",
         "stats": {
          "unique_count": 5,
          "nan_count": 0,
          "min": "0.0",
          "max": "2240.0",
          "histogram": [
           {
            "bin_start": 0,
            "bin_end": 224,
            "count": 7
           },
           {
            "bin_start": 224,
            "bin_end": 448,
            "count": 0
           },
           {
            "bin_start": 448,
            "bin_end": 672,
            "count": 0
           },
           {
            "bin_start": 672,
            "bin_end": 896,
            "count": 0
           },
           {
            "bin_start": 896,
            "bin_end": 1120,
            "count": 0
           },
           {
            "bin_start": 1120,
            "bin_end": 1344,
            "count": 0
           },
           {
            "bin_start": 1344,
            "bin_end": 1568,
            "count": 0
           },
           {
            "bin_start": 1568,
            "bin_end": 1792,
            "count": 0
           },
           {
            "bin_start": 1792,
            "bin_end": 2016,
            "count": 0
           },
           {
            "bin_start": 2016,
            "bin_end": 2240,
            "count": 1
           }
          ]
         }
        },
        {
         "name": "Oferta_Aceita_1aCamp",
         "dtype": "float64",
         "stats": {
          "unique_count": 5,
          "nan_count": 0,
          "min": "0.0",
          "max": "2240.0",
          "histogram": [
           {
            "bin_start": 0,
            "bin_end": 224,
            "count": 7
           },
           {
            "bin_start": 224,
            "bin_end": 448,
            "count": 0
           },
           {
            "bin_start": 448,
            "bin_end": 672,
            "count": 0
           },
           {
            "bin_start": 672,
            "bin_end": 896,
            "count": 0
           },
           {
            "bin_start": 896,
            "bin_end": 1120,
            "count": 0
           },
           {
            "bin_start": 1120,
            "bin_end": 1344,
            "count": 0
           },
           {
            "bin_start": 1344,
            "bin_end": 1568,
            "count": 0
           },
           {
            "bin_start": 1568,
            "bin_end": 1792,
            "count": 0
           },
           {
            "bin_start": 1792,
            "bin_end": 2016,
            "count": 0
           },
           {
            "bin_start": 2016,
            "bin_end": 2240,
            "count": 1
           }
          ]
         }
        },
        {
         "name": "Oferta_Aceita_2aCamp",
         "dtype": "float64",
         "stats": {
          "unique_count": 5,
          "nan_count": 0,
          "min": "0.0",
          "max": "2240.0",
          "histogram": [
           {
            "bin_start": 0,
            "bin_end": 224,
            "count": 7
           },
           {
            "bin_start": 224,
            "bin_end": 448,
            "count": 0
           },
           {
            "bin_start": 448,
            "bin_end": 672,
            "count": 0
           },
           {
            "bin_start": 672,
            "bin_end": 896,
            "count": 0
           },
           {
            "bin_start": 896,
            "bin_end": 1120,
            "count": 0
           },
           {
            "bin_start": 1120,
            "bin_end": 1344,
            "count": 0
           },
           {
            "bin_start": 1344,
            "bin_end": 1568,
            "count": 0
           },
           {
            "bin_start": 1568,
            "bin_end": 1792,
            "count": 0
           },
           {
            "bin_start": 1792,
            "bin_end": 2016,
            "count": 0
           },
           {
            "bin_start": 2016,
            "bin_end": 2240,
            "count": 1
           }
          ]
         }
        },
        {
         "name": "Cat_Cliente_Reclamou_Ult2Anos",
         "dtype": "float64",
         "stats": {
          "unique_count": 5,
          "nan_count": 0,
          "min": "0.0",
          "max": "2240.0",
          "histogram": [
           {
            "bin_start": 0,
            "bin_end": 224,
            "count": 7
           },
           {
            "bin_start": 224,
            "bin_end": 448,
            "count": 0
           },
           {
            "bin_start": 448,
            "bin_end": 672,
            "count": 0
           },
           {
            "bin_start": 672,
            "bin_end": 896,
            "count": 0
           },
           {
            "bin_start": 896,
            "bin_end": 1120,
            "count": 0
           },
           {
            "bin_start": 1120,
            "bin_end": 1344,
            "count": 0
           },
           {
            "bin_start": 1344,
            "bin_end": 1568,
            "count": 0
           },
           {
            "bin_start": 1568,
            "bin_end": 1792,
            "count": 0
           },
           {
            "bin_start": 1792,
            "bin_end": 2016,
            "count": 0
           },
           {
            "bin_start": 2016,
            "bin_end": 2240,
            "count": 1
           }
          ]
         }
        },
        {
         "name": "Oferta_Aceita_UltCamp",
         "dtype": "float64",
         "stats": {
          "unique_count": 5,
          "nan_count": 0,
          "min": "0.0",
          "max": "2240.0",
          "histogram": [
           {
            "bin_start": 0,
            "bin_end": 224,
            "count": 7
           },
           {
            "bin_start": 224,
            "bin_end": 448,
            "count": 0
           },
           {
            "bin_start": 448,
            "bin_end": 672,
            "count": 0
           },
           {
            "bin_start": 672,
            "bin_end": 896,
            "count": 0
           },
           {
            "bin_start": 896,
            "bin_end": 1120,
            "count": 0
           },
           {
            "bin_start": 1120,
            "bin_end": 1344,
            "count": 0
           },
           {
            "bin_start": 1344,
            "bin_end": 1568,
            "count": 0
           },
           {
            "bin_start": 1568,
            "bin_end": 1792,
            "count": 0
           },
           {
            "bin_start": 1792,
            "bin_end": 2016,
            "count": 0
           },
           {
            "bin_start": 2016,
            "bin_end": 2240,
            "count": 1
           }
          ]
         }
        },
        {
         "name": "_deepnote_index_column",
         "dtype": "object"
        }
       ],
       "rows": [
        {
         "Ano_Nasc": 2240,
         "Renda_Familiar_Anual": 2216,
         "Qtd_Criancas": 2240,
         "Qtd_Adolesc": 2240,
         "Ult_Compra_EmDias": 2240,
         "Gastos_Em_Vinho_Ult2Anos": 2240,
         "Gastos_Em_Frutas_Ult2Anos": 2240,
         "Gastos_Em_Carnet2Ano": 2240,
         "Gastos_Em_Pescados_Ult2Anos": 2240,
         "Gastos_Em_Doces_Ult2Anos": 2240,
         "Gastos_Em_Prod_Ouro_Ult2Anos": 2240,
         "Qtd_Compras_ComDesconto": 2240,
         "Qtd_Compras_OnLine": 2240,
         "Qtd_Compras_Catalogo": 2240,
         "Qtd_Compras_Loja": 2240,
         "Qtd_Acessos_AoSite_UltMes": 2240,
         "Oferta_Aceita_3aCamp": 2240,
         "Oferta_Aceita_4aCamp": 2240,
         "Oferta_Aceita_5aCamp": 2240,
         "Oferta_Aceita_1aCamp": 2240,
         "Oferta_Aceita_2aCamp": 2240,
         "Cat_Cliente_Reclamou_Ult2Anos": 2240,
         "Oferta_Aceita_UltCamp": 2240,
         "_deepnote_index_column": "count"
        },
        {
         "Ano_Nasc": 1968.8058035714287,
         "Renda_Familiar_Anual": 52247.25,
         "Qtd_Criancas": 0.44419642857142855,
         "Qtd_Adolesc": 0.50625,
         "Ult_Compra_EmDias": 49.109375,
         "Gastos_Em_Vinho_Ult2Anos": 303.9356994628906,
         "Gastos_Em_Frutas_Ult2Anos": 26.30223274230957,
         "Gastos_Em_Carnet2Ano": 166.9499969482422,
         "Gastos_Em_Pescados_Ult2Anos": 37.525447845458984,
         "Gastos_Em_Doces_Ult2Anos": 27.062946319580078,
         "Gastos_Em_Prod_Ouro_Ult2Anos": 44.021873474121094,
         "Qtd_Compras_ComDesconto": 2.325,
         "Qtd_Compras_OnLine": 4.084821428571429,
         "Qtd_Compras_Catalogo": 2.6620535714285714,
         "Qtd_Compras_Loja": 5.790178571428571,
         "Qtd_Acessos_AoSite_UltMes": 5.316517857142857,
         "Oferta_Aceita_3aCamp": 0.07276785714285715,
         "Oferta_Aceita_4aCamp": 0.07455357142857143,
         "Oferta_Aceita_5aCamp": 0.07276785714285715,
         "Oferta_Aceita_1aCamp": 0.06428571428571428,
         "Oferta_Aceita_2aCamp": 0.013392857142857142,
         "Cat_Cliente_Reclamou_Ult2Anos": 0.009375,
         "Oferta_Aceita_UltCamp": 0.14910714285714285,
         "_deepnote_index_column": "mean"
        },
        {
         "Ano_Nasc": 11.984069456885829,
         "Renda_Familiar_Anual": 25173.076171875,
         "Qtd_Criancas": 0.5383980977345936,
         "Qtd_Adolesc": 0.5445382307698758,
         "Ult_Compra_EmDias": 28.962452808378206,
         "Gastos_Em_Vinho_Ult2Anos": 336.597412109375,
         "Gastos_Em_Frutas_Ult2Anos": 39.773433685302734,
         "Gastos_Em_Carnet2Ano": 225.7153778076172,
         "Gastos_Em_Pescados_Ult2Anos": 54.62897872924805,
         "Gastos_Em_Doces_Ult2Anos": 41.28049850463867,
         "Gastos_Em_Prod_Ouro_Ult2Anos": 52.16743850708008,
         "Qtd_Compras_ComDesconto": 1.932237500855979,
         "Qtd_Compras_OnLine": 2.778714147388102,
         "Qtd_Compras_Catalogo": 2.9231006555397463,
         "Qtd_Compras_Loja": 3.2509581456744323,
         "Qtd_Acessos_AoSite_UltMes": 2.426645009547286,
         "Oferta_Aceita_3aCamp": 0.25981306992189507,
         "Oferta_Aceita_4aCamp": 0.2627282848535613,
         "Oferta_Aceita_5aCamp": 0.25981306992189507,
         "Oferta_Aceita_1aCamp": 0.24531597433401414,
         "Oferta_Aceita_2aCamp": 0.1149756062554841,
         "Cat_Cliente_Reclamou_Ult2Anos": 0.09639116794449755,
         "Oferta_Aceita_UltCamp": 0.35627358640847917,
         "_deepnote_index_column": "std"
        },
        {
         "Ano_Nasc": 1893,
         "Renda_Familiar_Anual": 1730,
         "Qtd_Criancas": 0,
         "Qtd_Adolesc": 0,
         "Ult_Compra_EmDias": 0,
         "Gastos_Em_Vinho_Ult2Anos": 0,
         "Gastos_Em_Frutas_Ult2Anos": 0,
         "Gastos_Em_Carnet2Ano": 0,
         "Gastos_Em_Pescados_Ult2Anos": 0,
         "Gastos_Em_Doces_Ult2Anos": 0,
         "Gastos_Em_Prod_Ouro_Ult2Anos": 0,
         "Qtd_Compras_ComDesconto": 0,
         "Qtd_Compras_OnLine": 0,
         "Qtd_Compras_Catalogo": 0,
         "Qtd_Compras_Loja": 0,
         "Qtd_Acessos_AoSite_UltMes": 0,
         "Oferta_Aceita_3aCamp": 0,
         "Oferta_Aceita_4aCamp": 0,
         "Oferta_Aceita_5aCamp": 0,
         "Oferta_Aceita_1aCamp": 0,
         "Oferta_Aceita_2aCamp": 0,
         "Cat_Cliente_Reclamou_Ult2Anos": 0,
         "Oferta_Aceita_UltCamp": 0,
         "_deepnote_index_column": "min"
        },
        {
         "Ano_Nasc": 1959,
         "Renda_Familiar_Anual": 35303,
         "Qtd_Criancas": 0,
         "Qtd_Adolesc": 0,
         "Ult_Compra_EmDias": 24,
         "Gastos_Em_Vinho_Ult2Anos": 23.75,
         "Gastos_Em_Frutas_Ult2Anos": 1,
         "Gastos_Em_Carnet2Ano": 16,
         "Gastos_Em_Pescados_Ult2Anos": 3,
         "Gastos_Em_Doces_Ult2Anos": 1,
         "Gastos_Em_Prod_Ouro_Ult2Anos": 9,
         "Qtd_Compras_ComDesconto": 1,
         "Qtd_Compras_OnLine": 2,
         "Qtd_Compras_Catalogo": 0,
         "Qtd_Compras_Loja": 3,
         "Qtd_Acessos_AoSite_UltMes": 3,
         "Oferta_Aceita_3aCamp": 0,
         "Oferta_Aceita_4aCamp": 0,
         "Oferta_Aceita_5aCamp": 0,
         "Oferta_Aceita_1aCamp": 0,
         "Oferta_Aceita_2aCamp": 0,
         "Cat_Cliente_Reclamou_Ult2Anos": 0,
         "Oferta_Aceita_UltCamp": 0,
         "_deepnote_index_column": "25%"
        },
        {
         "Ano_Nasc": 1970,
         "Renda_Familiar_Anual": 51381.5,
         "Qtd_Criancas": 0,
         "Qtd_Adolesc": 0,
         "Ult_Compra_EmDias": 49,
         "Gastos_Em_Vinho_Ult2Anos": 173.5,
         "Gastos_Em_Frutas_Ult2Anos": 8,
         "Gastos_Em_Carnet2Ano": 67,
         "Gastos_Em_Pescados_Ult2Anos": 12,
         "Gastos_Em_Doces_Ult2Anos": 8,
         "Gastos_Em_Prod_Ouro_Ult2Anos": 24,
         "Qtd_Compras_ComDesconto": 2,
         "Qtd_Compras_OnLine": 4,
         "Qtd_Compras_Catalogo": 2,
         "Qtd_Compras_Loja": 5,
         "Qtd_Acessos_AoSite_UltMes": 6,
         "Oferta_Aceita_3aCamp": 0,
         "Oferta_Aceita_4aCamp": 0,
         "Oferta_Aceita_5aCamp": 0,
         "Oferta_Aceita_1aCamp": 0,
         "Oferta_Aceita_2aCamp": 0,
         "Cat_Cliente_Reclamou_Ult2Anos": 0,
         "Oferta_Aceita_UltCamp": 0,
         "_deepnote_index_column": "50%"
        },
        {
         "Ano_Nasc": 1977,
         "Renda_Familiar_Anual": 68522,
         "Qtd_Criancas": 1,
         "Qtd_Adolesc": 1,
         "Ult_Compra_EmDias": 74,
         "Gastos_Em_Vinho_Ult2Anos": 504.25,
         "Gastos_Em_Frutas_Ult2Anos": 33,
         "Gastos_Em_Carnet2Ano": 232,
         "Gastos_Em_Pescados_Ult2Anos": 50,
         "Gastos_Em_Doces_Ult2Anos": 33,
         "Gastos_Em_Prod_Ouro_Ult2Anos": 56,
         "Qtd_Compras_ComDesconto": 3,
         "Qtd_Compras_OnLine": 6,
         "Qtd_Compras_Catalogo": 4,
         "Qtd_Compras_Loja": 8,
         "Qtd_Acessos_AoSite_UltMes": 7,
         "Oferta_Aceita_3aCamp": 0,
         "Oferta_Aceita_4aCamp": 0,
         "Oferta_Aceita_5aCamp": 0,
         "Oferta_Aceita_1aCamp": 0,
         "Oferta_Aceita_2aCamp": 0,
         "Cat_Cliente_Reclamou_Ult2Anos": 0,
         "Oferta_Aceita_UltCamp": 0,
         "_deepnote_index_column": "75%"
        },
        {
         "Ano_Nasc": 1996,
         "Renda_Familiar_Anual": 666666,
         "Qtd_Criancas": 2,
         "Qtd_Adolesc": 2,
         "Ult_Compra_EmDias": 99,
         "Gastos_Em_Vinho_Ult2Anos": 1493,
         "Gastos_Em_Frutas_Ult2Anos": 199,
         "Gastos_Em_Carnet2Ano": 1725,
         "Gastos_Em_Pescados_Ult2Anos": 259,
         "Gastos_Em_Doces_Ult2Anos": 263,
         "Gastos_Em_Prod_Ouro_Ult2Anos": 362,
         "Qtd_Compras_ComDesconto": 15,
         "Qtd_Compras_OnLine": 27,
         "Qtd_Compras_Catalogo": 28,
         "Qtd_Compras_Loja": 13,
         "Qtd_Acessos_AoSite_UltMes": 20,
         "Oferta_Aceita_3aCamp": 1,
         "Oferta_Aceita_4aCamp": 1,
         "Oferta_Aceita_5aCamp": 1,
         "Oferta_Aceita_1aCamp": 1,
         "Oferta_Aceita_2aCamp": 1,
         "Cat_Cliente_Reclamou_Ult2Anos": 1,
         "Oferta_Aceita_UltCamp": 1,
         "_deepnote_index_column": "max"
        }
       ]
      },
      "text/plain": "       Ano_Nasc  Renda_Familiar_Anual  Qtd_Criancas  Qtd_Adolesc  \\\ncount  2,240.00              2,216.00      2,240.00     2,240.00   \nmean   1,968.81             52,247.25          0.44         0.51   \nstd       11.98             25,173.08          0.54         0.54   \nmin    1,893.00              1,730.00          0.00         0.00   \n25%    1,959.00             35,303.00          0.00         0.00   \n50%    1,970.00             51,381.50          0.00         0.00   \n75%    1,977.00             68,522.00          1.00         1.00   \nmax    1,996.00            666,666.00          2.00         2.00   \n\n       Ult_Compra_EmDias  Gastos_Em_Vinho_Ult2Anos  Gastos_Em_Frutas_Ult2Anos  \\\ncount           2,240.00                  2,240.00                   2,240.00   \nmean               49.11                    303.94                      26.30   \nstd                28.96                    336.60                      39.77   \nmin                 0.00                      0.00                       0.00   \n25%                24.00                     23.75                       1.00   \n50%                49.00                    173.50                       8.00   \n75%                74.00                    504.25                      33.00   \nmax                99.00                  1,493.00                     199.00   \n\n       Gastos_Em_Carnet2Ano  Gastos_Em_Pescados_Ult2Anos  \\\ncount              2,240.00                     2,240.00   \nmean                 166.95                        37.53   \nstd                  225.72                        54.63   \nmin                    0.00                         0.00   \n25%                   16.00                         3.00   \n50%                   67.00                        12.00   \n75%                  232.00                        50.00   \nmax                1,725.00                       259.00   \n\n       Gastos_Em_Doces_Ult2Anos  ...  Qtd_Compras_Catalogo  Qtd_Compras_Loja  \\\ncount                  2,240.00  ...              2,240.00          2,240.00   \nmean                      27.06  ...                  2.66              5.79   \nstd                       41.28  ...                  2.92              3.25   \nmin                        0.00  ...                  0.00              0.00   \n25%                        1.00  ...                  0.00              3.00   \n50%                        8.00  ...                  2.00              5.00   \n75%                       33.00  ...                  4.00              8.00   \nmax                      263.00  ...                 28.00             13.00   \n\n       Qtd_Acessos_AoSite_UltMes  Oferta_Aceita_3aCamp  Oferta_Aceita_4aCamp  \\\ncount                   2,240.00              2,240.00              2,240.00   \nmean                        5.32                  0.07                  0.07   \nstd                         2.43                  0.26                  0.26   \nmin                         0.00                  0.00                  0.00   \n25%                         3.00                  0.00                  0.00   \n50%                         6.00                  0.00                  0.00   \n75%                         7.00                  0.00                  0.00   \nmax                        20.00                  1.00                  1.00   \n\n       Oferta_Aceita_5aCamp  Oferta_Aceita_1aCamp  Oferta_Aceita_2aCamp  \\\ncount              2,240.00              2,240.00              2,240.00   \nmean                   0.07                  0.06                  0.01   \nstd                    0.26                  0.25                  0.11   \nmin                    0.00                  0.00                  0.00   \n25%                    0.00                  0.00                  0.00   \n50%                    0.00                  0.00                  0.00   \n75%                    0.00                  0.00                  0.00   \nmax                    1.00                  1.00                  1.00   \n\n       Cat_Cliente_Reclamou_Ult2Anos  Oferta_Aceita_UltCamp  \ncount                       2,240.00               2,240.00  \nmean                            0.01                   0.15  \nstd                             0.10                   0.36  \nmin                             0.00                   0.00  \n25%                             0.00                   0.00  \n50%                             0.00                   0.00  \n75%                             0.00                   0.00  \nmax                             1.00                   1.00  \n\n[8 rows x 23 columns]",
      "text/html": "<div>\n<style scoped>\n    .dataframe tbody tr th:only-of-type {\n        vertical-align: middle;\n    }\n\n    .dataframe tbody tr th {\n        vertical-align: top;\n    }\n\n    .dataframe thead th {\n        text-align: right;\n    }\n</style>\n<table border=\"1\" class=\"dataframe\">\n  <thead>\n    <tr style=\"text-align: right;\">\n      <th></th>\n      <th>Ano_Nasc</th>\n      <th>Renda_Familiar_Anual</th>\n      <th>Qtd_Criancas</th>\n      <th>Qtd_Adolesc</th>\n      <th>Ult_Compra_EmDias</th>\n      <th>Gastos_Em_Vinho_Ult2Anos</th>\n      <th>Gastos_Em_Frutas_Ult2Anos</th>\n      <th>Gastos_Em_Carnet2Ano</th>\n      <th>Gastos_Em_Pescados_Ult2Anos</th>\n      <th>Gastos_Em_Doces_Ult2Anos</th>\n      <th>...</th>\n      <th>Qtd_Compras_Catalogo</th>\n      <th>Qtd_Compras_Loja</th>\n      <th>Qtd_Acessos_AoSite_UltMes</th>\n      <th>Oferta_Aceita_3aCamp</th>\n      <th>Oferta_Aceita_4aCamp</th>\n      <th>Oferta_Aceita_5aCamp</th>\n      <th>Oferta_Aceita_1aCamp</th>\n      <th>Oferta_Aceita_2aCamp</th>\n      <th>Cat_Cliente_Reclamou_Ult2Anos</th>\n      <th>Oferta_Aceita_UltCamp</th>\n    </tr>\n  </thead>\n  <tbody>\n    <tr>\n      <th>count</th>\n      <td>2,240.00</td>\n      <td>2,216.00</td>\n      <td>2,240.00</td>\n      <td>2,240.00</td>\n      <td>2,240.00</td>\n      <td>2,240.00</td>\n      <td>2,240.00</td>\n      <td>2,240.00</td>\n      <td>2,240.00</td>\n      <td>2,240.00</td>\n      <td>...</td>\n      <td>2,240.00</td>\n      <td>2,240.00</td>\n      <td>2,240.00</td>\n      <td>2,240.00</td>\n      <td>2,240.00</td>\n      <td>2,240.00</td>\n      <td>2,240.00</td>\n      <td>2,240.00</td>\n      <td>2,240.00</td>\n      <td>2,240.00</td>\n    </tr>\n    <tr>\n      <th>mean</th>\n      <td>1,968.81</td>\n      <td>52,247.25</td>\n      <td>0.44</td>\n      <td>0.51</td>\n      <td>49.11</td>\n      <td>303.94</td>\n      <td>26.30</td>\n      <td>166.95</td>\n      <td>37.53</td>\n      <td>27.06</td>\n      <td>...</td>\n      <td>2.66</td>\n      <td>5.79</td>\n      <td>5.32</td>\n      <td>0.07</td>\n      <td>0.07</td>\n      <td>0.07</td>\n      <td>0.06</td>\n      <td>0.01</td>\n      <td>0.01</td>\n      <td>0.15</td>\n    </tr>\n    <tr>\n      <th>std</th>\n      <td>11.98</td>\n      <td>25,173.08</td>\n      <td>0.54</td>\n      <td>0.54</td>\n      <td>28.96</td>\n      <td>336.60</td>\n      <td>39.77</td>\n      <td>225.72</td>\n      <td>54.63</td>\n      <td>41.28</td>\n      <td>...</td>\n      <td>2.92</td>\n      <td>3.25</td>\n      <td>2.43</td>\n      <td>0.26</td>\n      <td>0.26</td>\n      <td>0.26</td>\n      <td>0.25</td>\n      <td>0.11</td>\n      <td>0.10</td>\n      <td>0.36</td>\n    </tr>\n    <tr>\n      <th>min</th>\n      <td>1,893.00</td>\n      <td>1,730.00</td>\n      <td>0.00</td>\n      <td>0.00</td>\n      <td>0.00</td>\n      <td>0.00</td>\n      <td>0.00</td>\n      <td>0.00</td>\n      <td>0.00</td>\n      <td>0.00</td>\n      <td>...</td>\n      <td>0.00</td>\n      <td>0.00</td>\n      <td>0.00</td>\n      <td>0.00</td>\n      <td>0.00</td>\n      <td>0.00</td>\n      <td>0.00</td>\n      <td>0.00</td>\n      <td>0.00</td>\n      <td>0.00</td>\n    </tr>\n    <tr>\n      <th>25%</th>\n      <td>1,959.00</td>\n      <td>35,303.00</td>\n      <td>0.00</td>\n      <td>0.00</td>\n      <td>24.00</td>\n      <td>23.75</td>\n      <td>1.00</td>\n      <td>16.00</td>\n      <td>3.00</td>\n      <td>1.00</td>\n      <td>...</td>\n      <td>0.00</td>\n      <td>3.00</td>\n      <td>3.00</td>\n      <td>0.00</td>\n      <td>0.00</td>\n      <td>0.00</td>\n      <td>0.00</td>\n      <td>0.00</td>\n      <td>0.00</td>\n      <td>0.00</td>\n    </tr>\n    <tr>\n      <th>50%</th>\n      <td>1,970.00</td>\n      <td>51,381.50</td>\n      <td>0.00</td>\n      <td>0.00</td>\n      <td>49.00</td>\n      <td>173.50</td>\n      <td>8.00</td>\n      <td>67.00</td>\n      <td>12.00</td>\n      <td>8.00</td>\n      <td>...</td>\n      <td>2.00</td>\n      <td>5.00</td>\n      <td>6.00</td>\n      <td>0.00</td>\n      <td>0.00</td>\n      <td>0.00</td>\n      <td>0.00</td>\n      <td>0.00</td>\n      <td>0.00</td>\n      <td>0.00</td>\n    </tr>\n    <tr>\n      <th>75%</th>\n      <td>1,977.00</td>\n      <td>68,522.00</td>\n      <td>1.00</td>\n      <td>1.00</td>\n      <td>74.00</td>\n      <td>504.25</td>\n      <td>33.00</td>\n      <td>232.00</td>\n      <td>50.00</td>\n      <td>33.00</td>\n      <td>...</td>\n      <td>4.00</td>\n      <td>8.00</td>\n      <td>7.00</td>\n      <td>0.00</td>\n      <td>0.00</td>\n      <td>0.00</td>\n      <td>0.00</td>\n      <td>0.00</td>\n      <td>0.00</td>\n      <td>0.00</td>\n    </tr>\n    <tr>\n      <th>max</th>\n      <td>1,996.00</td>\n      <td>666,666.00</td>\n      <td>2.00</td>\n      <td>2.00</td>\n      <td>99.00</td>\n      <td>1,493.00</td>\n      <td>199.00</td>\n      <td>1,725.00</td>\n      <td>259.00</td>\n      <td>263.00</td>\n      <td>...</td>\n      <td>28.00</td>\n      <td>13.00</td>\n      <td>20.00</td>\n      <td>1.00</td>\n      <td>1.00</td>\n      <td>1.00</td>\n      <td>1.00</td>\n      <td>1.00</td>\n      <td>1.00</td>\n      <td>1.00</td>\n    </tr>\n  </tbody>\n</table>\n<p>8 rows × 23 columns</p>\n</div>"
     },
     "metadata": {}
    }
   ]
  },
  {
   "cell_type": "markdown",
   "source": "#### Checagem das colunas que possuem nulos",
   "metadata": {
    "cell_id": "e23e6b25-1f55-43b7-ab8b-6d19ef5312b0",
    "tags": [],
    "deepnote_cell_type": "markdown"
   }
  },
  {
   "cell_type": "code",
   "metadata": {
    "cell_id": "ce4e627b-256f-4cdb-93bc-1bd4586955b1",
    "tags": [],
    "deepnote_to_be_reexecuted": false,
    "source_hash": "30cb652a",
    "execution_start": 1643669548968,
    "execution_millis": 148,
    "deepnote_output_heights": [
     1
    ],
    "deepnote_cell_type": "code"
   },
   "source": "# retornando quais colunas tem valores nulos\npd.isnull(df).sum()[pd.isnull(df).sum() > 0]",
   "execution_count": null,
   "outputs": [
    {
     "output_type": "execute_result",
     "execution_count": 9,
     "data": {
      "text/plain": "Renda_Familiar_Anual    24\ndtype: int64"
     },
     "metadata": {}
    }
   ]
  },
  {
   "cell_type": "markdown",
   "source": "#### Como NaNs representam menos de 2% das linhas, decidimos eliminar todas as linhas com NaNs.",
   "metadata": {
    "cell_id": "21b32702-145f-4bea-bc9c-99f0511d62ec",
    "tags": [],
    "deepnote_cell_type": "markdown"
   }
  },
  {
   "cell_type": "code",
   "metadata": {
    "cell_id": "6bfda897-e05d-4fe8-a798-6c2311436802",
    "tags": [],
    "deepnote_to_be_reexecuted": false,
    "source_hash": "f4ae069d",
    "execution_start": 1643669549016,
    "execution_millis": 101,
    "deepnote_output_heights": [
     1
    ],
    "deepnote_cell_type": "code"
   },
   "source": "df.dropna(inplace=True)\npd.isnull(df).sum()[pd.isnull(df).sum() > 0]",
   "execution_count": null,
   "outputs": [
    {
     "output_type": "execute_result",
     "execution_count": 10,
     "data": {
      "text/plain": "Series([], dtype: int64)"
     },
     "metadata": {}
    }
   ]
  },
  {
   "cell_type": "markdown",
   "source": "#### Checagem das categorias de escolaridade",
   "metadata": {
    "cell_id": "c0ad36a2-7b8f-445d-b410-9b40e597952b",
    "tags": [],
    "deepnote_cell_type": "markdown"
   }
  },
  {
   "cell_type": "code",
   "metadata": {
    "cell_id": "cb267cb4-245f-4482-91be-24edc592803e",
    "tags": [],
    "deepnote_to_be_reexecuted": false,
    "source_hash": "9f663404",
    "execution_start": 1643669549018,
    "execution_millis": 99,
    "deepnote_output_heights": [
     1
    ],
    "deepnote_cell_type": "code"
   },
   "source": "df.Escolaridade.unique()",
   "execution_count": null,
   "outputs": [
    {
     "output_type": "execute_result",
     "execution_count": 11,
     "data": {
      "text/plain": "['Graduation', 'PhD', 'Master', 'Basic', '2n Cycle']\nCategories (5, object): ['Graduation', 'PhD', 'Master', 'Basic', '2n Cycle']"
     },
     "metadata": {}
    }
   ]
  },
  {
   "cell_type": "markdown",
   "source": "#### Não estava claro o significado de '2n Cycle'. Após pesquisar, descobrimos que se trata de mestrado. Então substituímos essa categoria pela categoria 'Master', mais fácil de entender.",
   "metadata": {
    "cell_id": "468ebfa0-636a-4549-99cd-4c00ca5c61b7",
    "tags": [],
    "deepnote_cell_type": "markdown"
   }
  },
  {
   "cell_type": "code",
   "metadata": {
    "cell_id": "5b7ca860-7672-4a6b-b627-8bc00b1038f8",
    "tags": [],
    "deepnote_to_be_reexecuted": false,
    "source_hash": "b7915f9a",
    "execution_start": 1643669549018,
    "execution_millis": 100,
    "deepnote_output_heights": [
     1
    ],
    "deepnote_cell_type": "code"
   },
   "source": "# substituindo '2n Cycle por Masters'\ndf['Escolaridade'].replace({'2n Cycle':'Master'}, inplace=True)\ndf['Escolaridade'].unique()",
   "execution_count": null,
   "outputs": [
    {
     "output_type": "execute_result",
     "execution_count": 12,
     "data": {
      "text/plain": "['Graduation', 'PhD', 'Master', 'Basic']\nCategories (4, object): ['Graduation', 'PhD', 'Master', 'Basic']"
     },
     "metadata": {}
    }
   ]
  },
  {
   "cell_type": "markdown",
   "source": "#### Checagem das categorias de estado civil",
   "metadata": {
    "cell_id": "ed647595-a121-4665-b4a3-a9fc5737d2cd",
    "tags": [],
    "deepnote_cell_type": "markdown"
   }
  },
  {
   "cell_type": "code",
   "metadata": {
    "cell_id": "b16861b2-9a84-4668-bfe7-0dc3342ca667",
    "tags": [],
    "deepnote_to_be_reexecuted": false,
    "source_hash": "63ce8e5d",
    "execution_start": 1643669549052,
    "execution_millis": 66,
    "deepnote_output_heights": [
     40.375
    ],
    "deepnote_cell_type": "code"
   },
   "source": "estado_civil = df[[\"Estado_Civil\"]].groupby(\"Estado_Civil\").agg({\"Estado_Civil\":\"count\"})\nestado_civil.columns=[\"Quantidade\"]\nestado_civil",
   "execution_count": null,
   "outputs": [
    {
     "output_type": "execute_result",
     "execution_count": 13,
     "data": {
      "application/vnd.deepnote.dataframe.v3+json": {
       "column_count": 1,
       "row_count": 8,
       "columns": [
        {
         "name": "Quantidade",
         "dtype": "int64",
         "stats": {
          "unique_count": 7,
          "nan_count": 0,
          "min": "2",
          "max": "857",
          "histogram": [
           {
            "bin_start": 2,
            "bin_end": 87.5,
            "count": 4
           },
           {
            "bin_start": 87.5,
            "bin_end": 173,
            "count": 0
           },
           {
            "bin_start": 173,
            "bin_end": 258.5,
            "count": 1
           },
           {
            "bin_start": 258.5,
            "bin_end": 344,
            "count": 0
           },
           {
            "bin_start": 344,
            "bin_end": 429.5,
            "count": 0
           },
           {
            "bin_start": 429.5,
            "bin_end": 515,
            "count": 1
           },
           {
            "bin_start": 515,
            "bin_end": 600.5,
            "count": 1
           },
           {
            "bin_start": 600.5,
            "bin_end": 686,
            "count": 0
           },
           {
            "bin_start": 686,
            "bin_end": 771.5,
            "count": 0
           },
           {
            "bin_start": 771.5,
            "bin_end": 857,
            "count": 1
           }
          ]
         }
        },
        {
         "name": "_deepnote_index_column",
         "dtype": "category"
        }
       ],
       "rows": [
        {
         "Quantidade": 2,
         "_deepnote_index_column": "Absurd"
        },
        {
         "Quantidade": 3,
         "_deepnote_index_column": "Alone"
        },
        {
         "Quantidade": 232,
         "_deepnote_index_column": "Divorced"
        },
        {
         "Quantidade": 857,
         "_deepnote_index_column": "Married"
        },
        {
         "Quantidade": 471,
         "_deepnote_index_column": "Single"
        },
        {
         "Quantidade": 573,
         "_deepnote_index_column": "Together"
        },
        {
         "Quantidade": 76,
         "_deepnote_index_column": "Widow"
        },
        {
         "Quantidade": 2,
         "_deepnote_index_column": "YOLO"
        }
       ]
      },
      "text/plain": "              Quantidade\nEstado_Civil            \nAbsurd                 2\nAlone                  3\nDivorced             232\nMarried              857\nSingle               471\nTogether             573\nWidow                 76\nYOLO                   2",
      "text/html": "<div>\n<style scoped>\n    .dataframe tbody tr th:only-of-type {\n        vertical-align: middle;\n    }\n\n    .dataframe tbody tr th {\n        vertical-align: top;\n    }\n\n    .dataframe thead th {\n        text-align: right;\n    }\n</style>\n<table border=\"1\" class=\"dataframe\">\n  <thead>\n    <tr style=\"text-align: right;\">\n      <th></th>\n      <th>Quantidade</th>\n    </tr>\n    <tr>\n      <th>Estado_Civil</th>\n      <th></th>\n    </tr>\n  </thead>\n  <tbody>\n    <tr>\n      <th>Absurd</th>\n      <td>2</td>\n    </tr>\n    <tr>\n      <th>Alone</th>\n      <td>3</td>\n    </tr>\n    <tr>\n      <th>Divorced</th>\n      <td>232</td>\n    </tr>\n    <tr>\n      <th>Married</th>\n      <td>857</td>\n    </tr>\n    <tr>\n      <th>Single</th>\n      <td>471</td>\n    </tr>\n    <tr>\n      <th>Together</th>\n      <td>573</td>\n    </tr>\n    <tr>\n      <th>Widow</th>\n      <td>76</td>\n    </tr>\n    <tr>\n      <th>YOLO</th>\n      <td>2</td>\n    </tr>\n  </tbody>\n</table>\n</div>"
     },
     "metadata": {}
    }
   ]
  },
  {
   "cell_type": "markdown",
   "source": "#### Como as categorias \"Absurd\" e \"YOLO\" não trazem informações úteis  respeito do estado civil e são apenas 4 linhas, resolvemos eliminá-las do Dataset também.",
   "metadata": {
    "cell_id": "0be35fea-cccd-4aeb-9fc1-c40fa59e606d",
    "tags": [],
    "deepnote_cell_type": "markdown"
   }
  },
  {
   "cell_type": "code",
   "metadata": {
    "cell_id": "078871e0-783b-48bd-8919-85ae5f56ad64",
    "tags": [],
    "deepnote_to_be_reexecuted": false,
    "source_hash": "f911c09a",
    "execution_start": 1643669549053,
    "execution_millis": 1,
    "deepnote_cell_type": "code"
   },
   "source": "print(f\"dimensão antes: {df.shape}\")\n\ndf.drop(df[(df[\"Estado_Civil\"]==\"Absurd\") | (df[\"Estado_Civil\"]==\"YOLO\") ].index, inplace=True)\n\nprint(f\"dimensão após remover: {df.shape}\")\n",
   "execution_count": null,
   "outputs": [
    {
     "name": "stdout",
     "text": "dimensão antes: (2216, 26)\ndimensão após remover: (2212, 26)\n",
     "output_type": "stream"
    }
   ]
  },
  {
   "cell_type": "code",
   "metadata": {
    "cell_id": "e1fbd647-c0dd-4e06-aace-652b7ba66280",
    "tags": [],
    "deepnote_to_be_reexecuted": false,
    "source_hash": "78c5928e",
    "execution_start": 1643669549093,
    "execution_millis": 1,
    "deepnote_cell_type": "code"
   },
   "source": "#livrando espaço ocupado pelo df estado civil\nestado_civil = None",
   "execution_count": null,
   "outputs": []
  },
  {
   "cell_type": "markdown",
   "source": "#### Checando os anos de nascimentos",
   "metadata": {
    "cell_id": "300aed7f-ff60-4cd5-975d-11dc9f4030c6",
    "tags": [],
    "deepnote_cell_type": "markdown"
   }
  },
  {
   "cell_type": "code",
   "metadata": {
    "cell_id": "8f8e7634-9f90-4e74-b0f3-44ae2a50116d",
    "tags": [],
    "deepnote_to_be_reexecuted": false,
    "source_hash": "358c666c",
    "execution_start": 1643669549094,
    "execution_millis": 25,
    "deepnote_cell_type": "code"
   },
   "source": "df.groupby(\"Ano_Nasc\").agg({\"Ano_Nasc\":\"count\"})",
   "execution_count": null,
   "outputs": [
    {
     "output_type": "execute_result",
     "execution_count": 16,
     "data": {
      "application/vnd.deepnote.dataframe.v3+json": {
       "column_count": 1,
       "row_count": 59,
       "columns": [
        {
         "name": "Ano_Nasc",
         "dtype": "int64",
         "stats": {
          "unique_count": 40,
          "nan_count": 0,
          "min": "1",
          "max": "89",
          "histogram": [
           {
            "bin_start": 1,
            "bin_end": 9.8,
            "count": 12
           },
           {
            "bin_start": 9.8,
            "bin_end": 18.6,
            "count": 5
           },
           {
            "bin_start": 18.6,
            "bin_end": 27.400000000000002,
            "count": 2
           },
           {
            "bin_start": 27.400000000000002,
            "bin_end": 36.2,
            "count": 7
           },
           {
            "bin_start": 36.2,
            "bin_end": 45,
            "count": 12
           },
           {
            "bin_start": 45,
            "bin_end": 53.800000000000004,
            "count": 10
           },
           {
            "bin_start": 53.800000000000004,
            "bin_end": 62.60000000000001,
            "count": 1
           },
           {
            "bin_start": 62.60000000000001,
            "bin_end": 71.4,
            "count": 3
           },
           {
            "bin_start": 71.4,
            "bin_end": 80.2,
            "count": 4
           },
           {
            "bin_start": 80.2,
            "bin_end": 89,
            "count": 3
           }
          ]
         }
        },
        {
         "name": "_deepnote_index_column",
         "dtype": "int64"
        }
       ],
       "rows": [
        {
         "Ano_Nasc": 1,
         "_deepnote_index_column": 1893
        },
        {
         "Ano_Nasc": 1,
         "_deepnote_index_column": 1899
        },
        {
         "Ano_Nasc": 1,
         "_deepnote_index_column": 1900
        },
        {
         "Ano_Nasc": 1,
         "_deepnote_index_column": 1940
        },
        {
         "Ano_Nasc": 1,
         "_deepnote_index_column": 1941
        },
        {
         "Ano_Nasc": 6,
         "_deepnote_index_column": 1943
        },
        {
         "Ano_Nasc": 7,
         "_deepnote_index_column": 1944
        },
        {
         "Ano_Nasc": 8,
         "_deepnote_index_column": 1945
        },
        {
         "Ano_Nasc": 16,
         "_deepnote_index_column": 1946
        },
        {
         "Ano_Nasc": 16,
         "_deepnote_index_column": 1947
        }
       ]
      },
      "text/plain": "          Ano_Nasc\nAno_Nasc          \n1893             1\n1899             1\n1900             1\n1940             1\n1941             1\n1943             6\n1944             7\n1945             8\n1946            16\n1947            16\n1948            21\n1949            30\n1950            29\n1951            42\n1952            52\n1953            35\n1954            49\n1955            48\n1956            55\n1957            40\n1958            52\n1959            50\n1960            49\n1961            35\n1962            44\n1963            44\n1964            41\n1965            74\n1966            50\n1967            44\n1968            51\n1969            70\n1970            75\n1971            86\n1972            78\n1973            70\n1974            69\n1975            83\n1976            89\n1977            52\n1978            76\n1979            53\n1980            39\n1981            38\n1982            44\n1983            41\n1984            38\n1985            32\n1986            41\n1987            27\n1988            29\n1989            29\n1990            18\n1991            15\n1992            13\n1993             4\n1994             3\n1995             5\n1996             2",
      "text/html": "<div>\n<style scoped>\n    .dataframe tbody tr th:only-of-type {\n        vertical-align: middle;\n    }\n\n    .dataframe tbody tr th {\n        vertical-align: top;\n    }\n\n    .dataframe thead th {\n        text-align: right;\n    }\n</style>\n<table border=\"1\" class=\"dataframe\">\n  <thead>\n    <tr style=\"text-align: right;\">\n      <th></th>\n      <th>Ano_Nasc</th>\n    </tr>\n    <tr>\n      <th>Ano_Nasc</th>\n      <th></th>\n    </tr>\n  </thead>\n  <tbody>\n    <tr>\n      <th>1893</th>\n      <td>1</td>\n    </tr>\n    <tr>\n      <th>1899</th>\n      <td>1</td>\n    </tr>\n    <tr>\n      <th>1900</th>\n      <td>1</td>\n    </tr>\n    <tr>\n      <th>1940</th>\n      <td>1</td>\n    </tr>\n    <tr>\n      <th>1941</th>\n      <td>1</td>\n    </tr>\n    <tr>\n      <th>1943</th>\n      <td>6</td>\n    </tr>\n    <tr>\n      <th>1944</th>\n      <td>7</td>\n    </tr>\n    <tr>\n      <th>1945</th>\n      <td>8</td>\n    </tr>\n    <tr>\n      <th>1946</th>\n      <td>16</td>\n    </tr>\n    <tr>\n      <th>1947</th>\n      <td>16</td>\n    </tr>\n    <tr>\n      <th>1948</th>\n      <td>21</td>\n    </tr>\n    <tr>\n      <th>1949</th>\n      <td>30</td>\n    </tr>\n    <tr>\n      <th>1950</th>\n      <td>29</td>\n    </tr>\n    <tr>\n      <th>1951</th>\n      <td>42</td>\n    </tr>\n    <tr>\n      <th>1952</th>\n      <td>52</td>\n    </tr>\n    <tr>\n      <th>1953</th>\n      <td>35</td>\n    </tr>\n    <tr>\n      <th>1954</th>\n      <td>49</td>\n    </tr>\n    <tr>\n      <th>1955</th>\n      <td>48</td>\n    </tr>\n    <tr>\n      <th>1956</th>\n      <td>55</td>\n    </tr>\n    <tr>\n      <th>1957</th>\n      <td>40</td>\n    </tr>\n    <tr>\n      <th>1958</th>\n      <td>52</td>\n    </tr>\n    <tr>\n      <th>1959</th>\n      <td>50</td>\n    </tr>\n    <tr>\n      <th>1960</th>\n      <td>49</td>\n    </tr>\n    <tr>\n      <th>1961</th>\n      <td>35</td>\n    </tr>\n    <tr>\n      <th>1962</th>\n      <td>44</td>\n    </tr>\n    <tr>\n      <th>1963</th>\n      <td>44</td>\n    </tr>\n    <tr>\n      <th>1964</th>\n      <td>41</td>\n    </tr>\n    <tr>\n      <th>1965</th>\n      <td>74</td>\n    </tr>\n    <tr>\n      <th>1966</th>\n      <td>50</td>\n    </tr>\n    <tr>\n      <th>1967</th>\n      <td>44</td>\n    </tr>\n    <tr>\n      <th>1968</th>\n      <td>51</td>\n    </tr>\n    <tr>\n      <th>1969</th>\n      <td>70</td>\n    </tr>\n    <tr>\n      <th>1970</th>\n      <td>75</td>\n    </tr>\n    <tr>\n      <th>1971</th>\n      <td>86</td>\n    </tr>\n    <tr>\n      <th>1972</th>\n      <td>78</td>\n    </tr>\n    <tr>\n      <th>1973</th>\n      <td>70</td>\n    </tr>\n    <tr>\n      <th>1974</th>\n      <td>69</td>\n    </tr>\n    <tr>\n      <th>1975</th>\n      <td>83</td>\n    </tr>\n    <tr>\n      <th>1976</th>\n      <td>89</td>\n    </tr>\n    <tr>\n      <th>1977</th>\n      <td>52</td>\n    </tr>\n    <tr>\n      <th>1978</th>\n      <td>76</td>\n    </tr>\n    <tr>\n      <th>1979</th>\n      <td>53</td>\n    </tr>\n    <tr>\n      <th>1980</th>\n      <td>39</td>\n    </tr>\n    <tr>\n      <th>1981</th>\n      <td>38</td>\n    </tr>\n    <tr>\n      <th>1982</th>\n      <td>44</td>\n    </tr>\n    <tr>\n      <th>1983</th>\n      <td>41</td>\n    </tr>\n    <tr>\n      <th>1984</th>\n      <td>38</td>\n    </tr>\n    <tr>\n      <th>1985</th>\n      <td>32</td>\n    </tr>\n    <tr>\n      <th>1986</th>\n      <td>41</td>\n    </tr>\n    <tr>\n      <th>1987</th>\n      <td>27</td>\n    </tr>\n    <tr>\n      <th>1988</th>\n      <td>29</td>\n    </tr>\n    <tr>\n      <th>1989</th>\n      <td>29</td>\n    </tr>\n    <tr>\n      <th>1990</th>\n      <td>18</td>\n    </tr>\n    <tr>\n      <th>1991</th>\n      <td>15</td>\n    </tr>\n    <tr>\n      <th>1992</th>\n      <td>13</td>\n    </tr>\n    <tr>\n      <th>1993</th>\n      <td>4</td>\n    </tr>\n    <tr>\n      <th>1994</th>\n      <td>3</td>\n    </tr>\n    <tr>\n      <th>1995</th>\n      <td>5</td>\n    </tr>\n    <tr>\n      <th>1996</th>\n      <td>2</td>\n    </tr>\n  </tbody>\n</table>\n</div>"
     },
     "metadata": {}
    }
   ]
  },
  {
   "cell_type": "markdown",
   "source": "#### Nascimentos anteriores a 1900 parecem estar relacionados a erros de digitação, uma vez que a tecla 8 fica ao lado da tecla 9.  Então é possível corrigir os dois anos de nascimento do céculo 19 que apareceram. \n\n\n#### Já a o ano de 1900, melhor remover a linha do dataset",
   "metadata": {
    "cell_id": "4158ae04-45df-482d-a7a5-93ed37807879",
    "tags": [],
    "deepnote_cell_type": "markdown"
   }
  },
  {
   "cell_type": "code",
   "metadata": {
    "cell_id": "cf468120-529a-4024-acf3-a7e0a9043eaa",
    "tags": [],
    "deepnote_to_be_reexecuted": false,
    "source_hash": "63e797af",
    "execution_start": 1643669549165,
    "execution_millis": 9,
    "deepnote_output_heights": [
     1
    ],
    "deepnote_cell_type": "code"
   },
   "source": "# Corrigindo erros de digitação nos anos de nascimento\ndf[\"Ano_Nasc\"] = (df[\"Ano_Nasc\"]<1900)*100+df[\"Ano_Nasc\"]\n\n# Excluindo ano de nascimento 1900\ndf.drop(df[df[\"Ano_Nasc\"]==1900].index, inplace=True)\n\n#checando novamente ano de nascimento mínimo.\ndf[\"Ano_Nasc\"].min()",
   "execution_count": null,
   "outputs": [
    {
     "output_type": "execute_result",
     "execution_count": 17,
     "data": {
      "text/plain": "1940"
     },
     "metadata": {}
    }
   ]
  },
  {
   "cell_type": "markdown",
   "source": "#### Como algumas informações presentes no dataset estão na dimensão de '2 anos', convertemos o 'Renda_Familiar_Anual' para 'Renda_Familiar_Bienal' (nova coluna)",
   "metadata": {
    "cell_id": "58a7352d-f495-458b-9cda-c92b4a421d77",
    "tags": [],
    "deepnote_cell_type": "markdown"
   }
  },
  {
   "cell_type": "code",
   "metadata": {
    "cell_id": "c5f52f11-6833-408e-9047-232c737d92ca",
    "tags": [],
    "deepnote_to_be_reexecuted": false,
    "source_hash": "373236bb",
    "execution_start": 1643669549166,
    "execution_millis": 280,
    "deepnote_output_heights": [
     232
    ],
    "deepnote_table_state": {
     "pageSize": 10,
     "pageIndex": 0,
     "filters": [],
     "sortBy": [
      {
       "id": "Cat_Cliente_Reclamou_Ult2Anos",
       "type": "desc"
      }
     ]
    },
    "deepnote_table_loading": false,
    "deepnote_cell_type": "code"
   },
   "source": "df['Renda_Familiar_Bienal']=df['Renda_Familiar_Anual'] * 2\ndf",
   "execution_count": null,
   "outputs": [
    {
     "output_type": "execute_result",
     "execution_count": 18,
     "data": {
      "application/vnd.deepnote.dataframe.v3+json": {
       "column_count": 27,
       "row_count": 2211,
       "columns": [
        {
         "name": "Ano_Nasc",
         "dtype": "int64",
         "stats": {
          "unique_count": 57,
          "nan_count": 0,
          "min": "1940",
          "max": "1999",
          "histogram": [
           {
            "bin_start": 1940,
            "bin_end": 1945.9,
            "count": 23
           },
           {
            "bin_start": 1945.9,
            "bin_end": 1951.8,
            "count": 154
           },
           {
            "bin_start": 1951.8,
            "bin_end": 1957.7,
            "count": 279
           },
           {
            "bin_start": 1957.7,
            "bin_end": 1963.6,
            "count": 274
           },
           {
            "bin_start": 1963.6,
            "bin_end": 1969.5,
            "count": 330
           },
           {
            "bin_start": 1969.5,
            "bin_end": 1975.4,
            "count": 461
           },
           {
            "bin_start": 1975.4,
            "bin_end": 1981.3,
            "count": 347
           },
           {
            "bin_start": 1981.3,
            "bin_end": 1987.2,
            "count": 223
           },
           {
            "bin_start": 1987.2,
            "bin_end": 1993.1,
            "count": 109
           },
           {
            "bin_start": 1993.1,
            "bin_end": 1999,
            "count": 11
           }
          ]
         }
        },
        {
         "name": "Escolaridade",
         "dtype": "category",
         "stats": {
          "unique_count": 4,
          "nan_count": 0,
          "categories": [
           {
            "name": "Graduation",
            "count": 1115
           },
           {
            "name": "Master",
            "count": 563
           },
           {
            "name": "2 others",
            "count": 533
           }
          ]
         }
        },
        {
         "name": "Estado_Civil",
         "dtype": "category",
         "stats": {
          "unique_count": 6,
          "nan_count": 0,
          "categories": [
           {
            "name": "Married",
            "count": 857
           },
           {
            "name": "Together",
            "count": 573
           },
           {
            "name": "4 others",
            "count": 781
           }
          ]
         }
        },
        {
         "name": "Renda_Familiar_Anual",
         "dtype": "float32",
         "stats": {
          "unique_count": 1972,
          "nan_count": 0,
          "min": "1730.0",
          "max": "666666.0",
          "histogram": [
           {
            "bin_start": 1730,
            "bin_end": 68223.6015625,
            "count": 1650
           },
           {
            "bin_start": 68223.6015625,
            "bin_end": 134717.203125,
            "count": 553
           },
           {
            "bin_start": 134717.203125,
            "bin_end": 201210.796875,
            "count": 7
           },
           {
            "bin_start": 201210.796875,
            "bin_end": 267704.40625,
            "count": 0
           },
           {
            "bin_start": 267704.40625,
            "bin_end": 334198,
            "count": 0
           },
           {
            "bin_start": 334198,
            "bin_end": 400691.59375,
            "count": 0
           },
           {
            "bin_start": 400691.59375,
            "bin_end": 467185.1875,
            "count": 0
           },
           {
            "bin_start": 467185.1875,
            "bin_end": 533678.8125,
            "count": 0
           },
           {
            "bin_start": 533678.8125,
            "bin_end": 600172.375,
            "count": 0
           },
           {
            "bin_start": 600172.375,
            "bin_end": 666666,
            "count": 1
           }
          ]
         }
        },
        {
         "name": "Qtd_Criancas",
         "dtype": "int32",
         "stats": {
          "unique_count": 3,
          "nan_count": 0,
          "min": "0",
          "max": "2",
          "histogram": [
           {
            "bin_start": 0,
            "bin_end": 0.2,
            "count": 1279
           },
           {
            "bin_start": 0.2,
            "bin_end": 0.4,
            "count": 0
           },
           {
            "bin_start": 0.4,
            "bin_end": 0.6000000000000001,
            "count": 0
           },
           {
            "bin_start": 0.6000000000000001,
            "bin_end": 0.8,
            "count": 0
           },
           {
            "bin_start": 0.8,
            "bin_end": 1,
            "count": 0
           },
           {
            "bin_start": 1,
            "bin_end": 1.2000000000000002,
            "count": 886
           },
           {
            "bin_start": 1.2000000000000002,
            "bin_end": 1.4000000000000001,
            "count": 0
           },
           {
            "bin_start": 1.4000000000000001,
            "bin_end": 1.6,
            "count": 0
           },
           {
            "bin_start": 1.6,
            "bin_end": 1.8,
            "count": 0
           },
           {
            "bin_start": 1.8,
            "bin_end": 2,
            "count": 46
           }
          ]
         }
        },
        {
         "name": "Qtd_Adolesc",
         "dtype": "int32",
         "stats": {
          "unique_count": 3,
          "nan_count": 0,
          "min": "0",
          "max": "2",
          "histogram": [
           {
            "bin_start": 0,
            "bin_end": 0.2,
            "count": 1144
           },
           {
            "bin_start": 0.2,
            "bin_end": 0.4,
            "count": 0
           },
           {
            "bin_start": 0.4,
            "bin_end": 0.6000000000000001,
            "count": 0
           },
           {
            "bin_start": 0.6000000000000001,
            "bin_end": 0.8,
            "count": 0
           },
           {
            "bin_start": 0.8,
            "bin_end": 1,
            "count": 0
           },
           {
            "bin_start": 1,
            "bin_end": 1.2000000000000002,
            "count": 1016
           },
           {
            "bin_start": 1.2000000000000002,
            "bin_end": 1.4000000000000001,
            "count": 0
           },
           {
            "bin_start": 1.4000000000000001,
            "bin_end": 1.6,
            "count": 0
           },
           {
            "bin_start": 1.6,
            "bin_end": 1.8,
            "count": 0
           },
           {
            "bin_start": 1.8,
            "bin_end": 2,
            "count": 51
           }
          ]
         }
        },
        {
         "name": "Dt_Cadastro",
         "dtype": "datetime64[ns]",
         "stats": {
          "unique_count": 662,
          "nan_count": 0,
          "min": "2012-01-08 00:00:00",
          "max": "2014-12-06 00:00:00",
          "histogram": [
           {
            "bin_start": 1325980800000000000,
            "bin_end": 1335165120000000000,
            "count": 62
           },
           {
            "bin_start": 1335165120000000000,
            "bin_end": 1344349440000000000,
            "count": 54
           },
           {
            "bin_start": 1344349440000000000,
            "bin_end": 1353533760000000000,
            "count": 270
           },
           {
            "bin_start": 1353533760000000000,
            "bin_end": 1362718080000000000,
            "count": 336
           },
           {
            "bin_start": 1362718080000000000,
            "bin_end": 1371902400000000000,
            "count": 330
           },
           {
            "bin_start": 1371902400000000000,
            "bin_end": 1381086720000000000,
            "count": 331
           },
           {
            "bin_start": 1381086720000000000,
            "bin_end": 1390271040000000000,
            "count": 315
           },
           {
            "bin_start": 1390271040000000000,
            "bin_end": 1399455360000000000,
            "count": 273
           },
           {
            "bin_start": 1399455360000000000,
            "bin_end": 1408639680000000000,
            "count": 161
           },
           {
            "bin_start": 1408639680000000000,
            "bin_end": 1417824000000000000,
            "count": 79
           }
          ]
         }
        },
        {
         "name": "Ult_Compra_EmDias",
         "dtype": "int32",
         "stats": {
          "unique_count": 100,
          "nan_count": 0,
          "min": "0",
          "max": "99",
          "histogram": [
           {
            "bin_start": 0,
            "bin_end": 9.9,
            "count": 230
           },
           {
            "bin_start": 9.9,
            "bin_end": 19.8,
            "count": 220
           },
           {
            "bin_start": 19.8,
            "bin_end": 29.700000000000003,
            "count": 234
           },
           {
            "bin_start": 29.700000000000003,
            "bin_end": 39.6,
            "count": 213
           },
           {
            "bin_start": 39.6,
            "bin_end": 49.5,
            "count": 213
           },
           {
            "bin_start": 49.5,
            "bin_end": 59.400000000000006,
            "count": 230
           },
           {
            "bin_start": 59.400000000000006,
            "bin_end": 69.3,
            "count": 211
           },
           {
            "bin_start": 69.3,
            "bin_end": 79.2,
            "count": 223
           },
           {
            "bin_start": 79.2,
            "bin_end": 89.10000000000001,
            "count": 223
           },
           {
            "bin_start": 89.10000000000001,
            "bin_end": 99,
            "count": 214
           }
          ]
         }
        },
        {
         "name": "Gastos_Em_Vinho_Ult2Anos",
         "dtype": "float32",
         "stats": {
          "unique_count": 776,
          "nan_count": 0,
          "min": "0.0",
          "max": "1493.0",
          "histogram": [
           {
            "bin_start": 0,
            "bin_end": 149.3000030517578,
            "count": 1031
           },
           {
            "bin_start": 149.3000030517578,
            "bin_end": 298.6000061035156,
            "count": 319
           },
           {
            "bin_start": 298.6000061035156,
            "bin_end": 447.8999938964844,
            "count": 227
           },
           {
            "bin_start": 447.8999938964844,
            "bin_end": 597.2000122070312,
            "count": 208
           },
           {
            "bin_start": 597.2000122070312,
            "bin_end": 746.5,
            "count": 141
           },
           {
            "bin_start": 746.5,
            "bin_end": 895.7999877929688,
            "count": 98
           },
           {
            "bin_start": 895.7999877929688,
            "bin_end": 1045.0999755859375,
            "count": 98
           },
           {
            "bin_start": 1045.0999755859375,
            "bin_end": 1194.4000244140625,
            "count": 45
           },
           {
            "bin_start": 1194.4000244140625,
            "bin_end": 1343.699951171875,
            "count": 31
           },
           {
            "bin_start": 1343.699951171875,
            "bin_end": 1493,
            "count": 13
           }
          ]
         }
        },
        {
         "name": "Gastos_Em_Frutas_Ult2Anos",
         "dtype": "float32",
         "stats": {
          "unique_count": 158,
          "nan_count": 0,
          "min": "0.0",
          "max": "199.0",
          "histogram": [
           {
            "bin_start": 0,
            "bin_end": 19.899999618530273,
            "count": 1449
           },
           {
            "bin_start": 19.899999618530273,
            "bin_end": 39.79999923706055,
            "count": 281
           },
           {
            "bin_start": 39.79999923706055,
            "bin_end": 59.70000076293945,
            "count": 143
           },
           {
            "bin_start": 59.70000076293945,
            "bin_end": 79.5999984741211,
            "count": 93
           },
           {
            "bin_start": 79.5999984741211,
            "bin_end": 99.5,
            "count": 75
           },
           {
            "bin_start": 99.5,
            "bin_end": 119.4000015258789,
            "count": 52
           },
           {
            "bin_start": 119.4000015258789,
            "bin_end": 139.3000030517578,
            "count": 46
           },
           {
            "bin_start": 139.3000030517578,
            "bin_end": 159.1999969482422,
            "count": 28
           },
           {
            "bin_start": 159.1999969482422,
            "bin_end": 179.10000610351562,
            "count": 27
           },
           {
            "bin_start": 179.10000610351562,
            "bin_end": 199,
            "count": 17
           }
          ]
         }
        },
        {
         "name": "Gastos_Em_Carnet2Ano",
         "dtype": "float32",
         "stats": {
          "unique_count": 554,
          "nan_count": 0,
          "min": "0.0",
          "max": "1725.0",
          "histogram": [
           {
            "bin_start": 0,
            "bin_end": 172.5,
            "count": 1540
           },
           {
            "bin_start": 172.5,
            "bin_end": 345,
            "count": 272
           },
           {
            "bin_start": 345,
            "bin_end": 517.5,
            "count": 191
           },
           {
            "bin_start": 517.5,
            "bin_end": 690,
            "count": 100
           },
           {
            "bin_start": 690,
            "bin_end": 862.5,
            "count": 78
           },
           {
            "bin_start": 862.5,
            "bin_end": 1035,
            "count": 26
           },
           {
            "bin_start": 1035,
            "bin_end": 1207.5,
            "count": 0
           },
           {
            "bin_start": 1207.5,
            "bin_end": 1380,
            "count": 0
           },
           {
            "bin_start": 1380,
            "bin_end": 1552.5,
            "count": 0
           },
           {
            "bin_start": 1552.5,
            "bin_end": 1725,
            "count": 4
           }
          ]
         }
        },
        {
         "name": "Gastos_Em_Pescados_Ult2Anos",
         "dtype": "float32",
         "stats": {
          "unique_count": 182,
          "nan_count": 0,
          "min": "0.0",
          "max": "259.0",
          "histogram": [
           {
            "bin_start": 0,
            "bin_end": 25.899999618530273,
            "count": 1421
           },
           {
            "bin_start": 25.899999618530273,
            "bin_end": 51.79999923706055,
            "count": 252
           },
           {
            "bin_start": 51.79999923706055,
            "bin_end": 77.69999694824219,
            "count": 158
           },
           {
            "bin_start": 77.69999694824219,
            "bin_end": 103.5999984741211,
            "count": 104
           },
           {
            "bin_start": 103.5999984741211,
            "bin_end": 129.5,
            "count": 74
           },
           {
            "bin_start": 129.5,
            "bin_end": 155.39999389648438,
            "count": 68
           },
           {
            "bin_start": 155.39999389648438,
            "bin_end": 181.3000030517578,
            "count": 50
           },
           {
            "bin_start": 181.3000030517578,
            "bin_end": 207.1999969482422,
            "count": 35
           },
           {
            "bin_start": 207.1999969482422,
            "bin_end": 233.10000610351562,
            "count": 31
           },
           {
            "bin_start": 233.10000610351562,
            "bin_end": 259,
            "count": 18
           }
          ]
         }
        },
        {
         "name": "Gastos_Em_Doces_Ult2Anos",
         "dtype": "float32",
         "stats": {
          "unique_count": 176,
          "nan_count": 0,
          "min": "0.0",
          "max": "262.0",
          "histogram": [
           {
            "bin_start": 0,
            "bin_end": 26.200000762939453,
            "count": 1568
           },
           {
            "bin_start": 26.200000762939453,
            "bin_end": 52.400001525878906,
            "count": 256
           },
           {
            "bin_start": 52.400001525878906,
            "bin_end": 78.5999984741211,
            "count": 129
           },
           {
            "bin_start": 78.5999984741211,
            "bin_end": 104.80000305175781,
            "count": 92
           },
           {
            "bin_start": 104.80000305175781,
            "bin_end": 131,
            "count": 62
           },
           {
            "bin_start": 131,
            "bin_end": 157.1999969482422,
            "count": 55
           },
           {
            "bin_start": 157.1999969482422,
            "bin_end": 183.39999389648438,
            "count": 31
           },
           {
            "bin_start": 183.39999389648438,
            "bin_end": 209.60000610351562,
            "count": 17
           },
           {
            "bin_start": 209.60000610351562,
            "bin_end": 235.8000030517578,
            "count": 0
           },
           {
            "bin_start": 235.8000030517578,
            "bin_end": 262,
            "count": 1
           }
          ]
         }
        },
        {
         "name": "Gastos_Em_Prod_Ouro_Ult2Anos",
         "dtype": "float32",
         "stats": {
          "unique_count": 211,
          "nan_count": 0,
          "min": "0.0",
          "max": "321.0",
          "histogram": [
           {
            "bin_start": 0,
            "bin_end": 32.099998474121094,
            "count": 1296
           },
           {
            "bin_start": 32.099998474121094,
            "bin_end": 64.19999694824219,
            "count": 425
           },
           {
            "bin_start": 64.19999694824219,
            "bin_end": 96.30000305175781,
            "count": 179
           },
           {
            "bin_start": 96.30000305175781,
            "bin_end": 128.39999389648438,
            "count": 111
           },
           {
            "bin_start": 128.39999389648438,
            "bin_end": 160.5,
            "count": 84
           },
           {
            "bin_start": 160.5,
            "bin_end": 192.60000610351562,
            "count": 63
           },
           {
            "bin_start": 192.60000610351562,
            "bin_end": 224.6999969482422,
            "count": 30
           },
           {
            "bin_start": 224.6999969482422,
            "bin_end": 256.79998779296875,
            "count": 20
           },
           {
            "bin_start": 256.79998779296875,
            "bin_end": 288.8999938964844,
            "count": 1
           },
           {
            "bin_start": 288.8999938964844,
            "bin_end": 321,
            "count": 2
           }
          ]
         }
        },
        {
         "name": "Qtd_Compras_ComDesconto",
         "dtype": "int32",
         "stats": {
          "unique_count": 15,
          "nan_count": 0,
          "min": "0",
          "max": "15",
          "histogram": [
           {
            "bin_start": 0,
            "bin_end": 1.5,
            "count": 1002
           },
           {
            "bin_start": 1.5,
            "bin_end": 3,
            "count": 493
           },
           {
            "bin_start": 3,
            "bin_end": 4.5,
            "count": 480
           },
           {
            "bin_start": 4.5,
            "bin_end": 6,
            "count": 92
           },
           {
            "bin_start": 6,
            "bin_end": 7.5,
            "count": 99
           },
           {
            "bin_start": 7.5,
            "bin_end": 9,
            "count": 14
           },
           {
            "bin_start": 9,
            "bin_end": 10.5,
            "count": 13
           },
           {
            "bin_start": 10.5,
            "bin_end": 12,
            "count": 5
           },
           {
            "bin_start": 12,
            "bin_end": 13.5,
            "count": 6
           },
           {
            "bin_start": 13.5,
            "bin_end": 15,
            "count": 7
           }
          ]
         }
        },
        {
         "name": "Qtd_Compras_OnLine",
         "dtype": "int32",
         "stats": {
          "unique_count": 15,
          "nan_count": 0,
          "min": "0",
          "max": "27",
          "histogram": [
           {
            "bin_start": 0,
            "bin_end": 2.7,
            "count": 763
           },
           {
            "bin_start": 2.7,
            "bin_end": 5.4,
            "count": 828
           },
           {
            "bin_start": 5.4,
            "bin_end": 8.100000000000001,
            "count": 455
           },
           {
            "bin_start": 8.100000000000001,
            "bin_end": 10.8,
            "count": 118
           },
           {
            "bin_start": 10.8,
            "bin_end": 13.5,
            "count": 44
           },
           {
            "bin_start": 13.5,
            "bin_end": 16.200000000000003,
            "count": 0
           },
           {
            "bin_start": 16.200000000000003,
            "bin_end": 18.900000000000002,
            "count": 0
           },
           {
            "bin_start": 18.900000000000002,
            "bin_end": 21.6,
            "count": 0
           },
           {
            "bin_start": 21.6,
            "bin_end": 24.3,
            "count": 1
           },
           {
            "bin_start": 24.3,
            "bin_end": 27,
            "count": 2
           }
          ]
         }
        },
        {
         "name": "Qtd_Compras_Catalogo",
         "dtype": "int32",
         "stats": {
          "unique_count": 14,
          "nan_count": 0,
          "min": "0",
          "max": "28",
          "histogram": [
           {
            "bin_start": 0,
            "bin_end": 2.8,
            "count": 1339
           },
           {
            "bin_start": 2.8,
            "bin_end": 5.6,
            "count": 499
           },
           {
            "bin_start": 5.6,
            "bin_end": 8.399999999999999,
            "count": 262
           },
           {
            "bin_start": 8.399999999999999,
            "bin_end": 11.2,
            "count": 107
           },
           {
            "bin_start": 11.2,
            "bin_end": 14,
            "count": 0
           },
           {
            "bin_start": 14,
            "bin_end": 16.799999999999997,
            "count": 0
           },
           {
            "bin_start": 16.799999999999997,
            "bin_end": 19.599999999999998,
            "count": 0
           },
           {
            "bin_start": 19.599999999999998,
            "bin_end": 22.4,
            "count": 1
           },
           {
            "bin_start": 22.4,
            "bin_end": 25.2,
            "count": 0
           },
           {
            "bin_start": 25.2,
            "bin_end": 28,
            "count": 3
           }
          ]
         }
        },
        {
         "name": "Qtd_Compras_Loja",
         "dtype": "int32",
         "stats": {
          "unique_count": 14,
          "nan_count": 0,
          "min": "0",
          "max": "13",
          "histogram": [
           {
            "bin_start": 0,
            "bin_end": 1.3,
            "count": 20
           },
           {
            "bin_start": 1.3,
            "bin_end": 2.6,
            "count": 219
           },
           {
            "bin_start": 2.6,
            "bin_end": 3.9000000000000004,
            "count": 484
           },
           {
            "bin_start": 3.9000000000000004,
            "bin_end": 5.2,
            "count": 530
           },
           {
            "bin_start": 5.2,
            "bin_end": 6.5,
            "count": 174
           },
           {
            "bin_start": 6.5,
            "bin_end": 7.800000000000001,
            "count": 140
           },
           {
            "bin_start": 7.800000000000001,
            "bin_end": 9.1,
            "count": 253
           },
           {
            "bin_start": 9.1,
            "bin_end": 10.4,
            "count": 124
           },
           {
            "bin_start": 10.4,
            "bin_end": 11.700000000000001,
            "count": 80
           },
           {
            "bin_start": 11.700000000000001,
            "bin_end": 13,
            "count": 187
           }
          ]
         }
        },
        {
         "name": "Qtd_Acessos_AoSite_UltMes",
         "dtype": "int32",
         "stats": {
          "unique_count": 16,
          "nan_count": 0,
          "min": "0",
          "max": "20",
          "histogram": [
           {
            "bin_start": 0,
            "bin_end": 2,
            "count": 159
           },
           {
            "bin_start": 2,
            "bin_end": 4,
            "count": 403
           },
           {
            "bin_start": 4,
            "bin_end": 6,
            "count": 495
           },
           {
            "bin_start": 6,
            "bin_end": 8,
            "count": 722
           },
           {
            "bin_start": 8,
            "bin_end": 10,
            "count": 420
           },
           {
            "bin_start": 10,
            "bin_end": 12,
            "count": 3
           },
           {
            "bin_start": 12,
            "bin_end": 14,
            "count": 1
           },
           {
            "bin_start": 14,
            "bin_end": 16,
            "count": 2
           },
           {
            "bin_start": 16,
            "bin_end": 18,
            "count": 1
           },
           {
            "bin_start": 18,
            "bin_end": 20,
            "count": 5
           }
          ]
         }
        },
        {
         "name": "Oferta_Aceita_3aCamp",
         "dtype": "int32",
         "stats": {
          "unique_count": 2,
          "nan_count": 0,
          "min": "0",
          "max": "1",
          "histogram": [
           {
            "bin_start": 0,
            "bin_end": 0.1,
            "count": 2048
           },
           {
            "bin_start": 0.1,
            "bin_end": 0.2,
            "count": 0
           },
           {
            "bin_start": 0.2,
            "bin_end": 0.30000000000000004,
            "count": 0
           },
           {
            "bin_start": 0.30000000000000004,
            "bin_end": 0.4,
            "count": 0
           },
           {
            "bin_start": 0.4,
            "bin_end": 0.5,
            "count": 0
           },
           {
            "bin_start": 0.5,
            "bin_end": 0.6000000000000001,
            "count": 0
           },
           {
            "bin_start": 0.6000000000000001,
            "bin_end": 0.7000000000000001,
            "count": 0
           },
           {
            "bin_start": 0.7000000000000001,
            "bin_end": 0.8,
            "count": 0
           },
           {
            "bin_start": 0.8,
            "bin_end": 0.9,
            "count": 0
           },
           {
            "bin_start": 0.9,
            "bin_end": 1,
            "count": 163
           }
          ]
         }
        },
        {
         "name": "Oferta_Aceita_4aCamp",
         "dtype": "int32",
         "stats": {
          "unique_count": 2,
          "nan_count": 0,
          "min": "0",
          "max": "1",
          "histogram": [
           {
            "bin_start": 0,
            "bin_end": 0.1,
            "count": 2047
           },
           {
            "bin_start": 0.1,
            "bin_end": 0.2,
            "count": 0
           },
           {
            "bin_start": 0.2,
            "bin_end": 0.30000000000000004,
            "count": 0
           },
           {
            "bin_start": 0.30000000000000004,
            "bin_end": 0.4,
            "count": 0
           },
           {
            "bin_start": 0.4,
            "bin_end": 0.5,
            "count": 0
           },
           {
            "bin_start": 0.5,
            "bin_end": 0.6000000000000001,
            "count": 0
           },
           {
            "bin_start": 0.6000000000000001,
            "bin_end": 0.7000000000000001,
            "count": 0
           },
           {
            "bin_start": 0.7000000000000001,
            "bin_end": 0.8,
            "count": 0
           },
           {
            "bin_start": 0.8,
            "bin_end": 0.9,
            "count": 0
           },
           {
            "bin_start": 0.9,
            "bin_end": 1,
            "count": 164
           }
          ]
         }
        },
        {
         "name": "Oferta_Aceita_5aCamp",
         "dtype": "int32",
         "stats": {
          "unique_count": 2,
          "nan_count": 0,
          "min": "0",
          "max": "1",
          "histogram": [
           {
            "bin_start": 0,
            "bin_end": 0.1,
            "count": 2050
           },
           {
            "bin_start": 0.1,
            "bin_end": 0.2,
            "count": 0
           },
           {
            "bin_start": 0.2,
            "bin_end": 0.30000000000000004,
            "count": 0
           },
           {
            "bin_start": 0.30000000000000004,
            "bin_end": 0.4,
            "count": 0
           },
           {
            "bin_start": 0.4,
            "bin_end": 0.5,
            "count": 0
           },
           {
            "bin_start": 0.5,
            "bin_end": 0.6000000000000001,
            "count": 0
           },
           {
            "bin_start": 0.6000000000000001,
            "bin_end": 0.7000000000000001,
            "count": 0
           },
           {
            "bin_start": 0.7000000000000001,
            "bin_end": 0.8,
            "count": 0
           },
           {
            "bin_start": 0.8,
            "bin_end": 0.9,
            "count": 0
           },
           {
            "bin_start": 0.9,
            "bin_end": 1,
            "count": 161
           }
          ]
         }
        },
        {
         "name": "Oferta_Aceita_1aCamp",
         "dtype": "int32",
         "stats": {
          "unique_count": 2,
          "nan_count": 0,
          "min": "0",
          "max": "1",
          "histogram": [
           {
            "bin_start": 0,
            "bin_end": 0.1,
            "count": 2070
           },
           {
            "bin_start": 0.1,
            "bin_end": 0.2,
            "count": 0
           },
           {
            "bin_start": 0.2,
            "bin_end": 0.30000000000000004,
            "count": 0
           },
           {
            "bin_start": 0.30000000000000004,
            "bin_end": 0.4,
            "count": 0
           },
           {
            "bin_start": 0.4,
            "bin_end": 0.5,
            "count": 0
           },
           {
            "bin_start": 0.5,
            "bin_end": 0.6000000000000001,
            "count": 0
           },
           {
            "bin_start": 0.6000000000000001,
            "bin_end": 0.7000000000000001,
            "count": 0
           },
           {
            "bin_start": 0.7000000000000001,
            "bin_end": 0.8,
            "count": 0
           },
           {
            "bin_start": 0.8,
            "bin_end": 0.9,
            "count": 0
           },
           {
            "bin_start": 0.9,
            "bin_end": 1,
            "count": 141
           }
          ]
         }
        },
        {
         "name": "Oferta_Aceita_2aCamp",
         "dtype": "int32",
         "stats": {
          "unique_count": 2,
          "nan_count": 0,
          "min": "0",
          "max": "1",
          "histogram": [
           {
            "bin_start": 0,
            "bin_end": 0.1,
            "count": 2181
           },
           {
            "bin_start": 0.1,
            "bin_end": 0.2,
            "count": 0
           },
           {
            "bin_start": 0.2,
            "bin_end": 0.30000000000000004,
            "count": 0
           },
           {
            "bin_start": 0.30000000000000004,
            "bin_end": 0.4,
            "count": 0
           },
           {
            "bin_start": 0.4,
            "bin_end": 0.5,
            "count": 0
           },
           {
            "bin_start": 0.5,
            "bin_end": 0.6000000000000001,
            "count": 0
           },
           {
            "bin_start": 0.6000000000000001,
            "bin_end": 0.7000000000000001,
            "count": 0
           },
           {
            "bin_start": 0.7000000000000001,
            "bin_end": 0.8,
            "count": 0
           },
           {
            "bin_start": 0.8,
            "bin_end": 0.9,
            "count": 0
           },
           {
            "bin_start": 0.9,
            "bin_end": 1,
            "count": 30
           }
          ]
         }
        },
        {
         "name": "Cat_Cliente_Reclamou_Ult2Anos",
         "dtype": "int32",
         "stats": {
          "unique_count": 2,
          "nan_count": 0,
          "min": "0",
          "max": "1",
          "histogram": [
           {
            "bin_start": 0,
            "bin_end": 0.1,
            "count": 2191
           },
           {
            "bin_start": 0.1,
            "bin_end": 0.2,
            "count": 0
           },
           {
            "bin_start": 0.2,
            "bin_end": 0.30000000000000004,
            "count": 0
           },
           {
            "bin_start": 0.30000000000000004,
            "bin_end": 0.4,
            "count": 0
           },
           {
            "bin_start": 0.4,
            "bin_end": 0.5,
            "count": 0
           },
           {
            "bin_start": 0.5,
            "bin_end": 0.6000000000000001,
            "count": 0
           },
           {
            "bin_start": 0.6000000000000001,
            "bin_end": 0.7000000000000001,
            "count": 0
           },
           {
            "bin_start": 0.7000000000000001,
            "bin_end": 0.8,
            "count": 0
           },
           {
            "bin_start": 0.8,
            "bin_end": 0.9,
            "count": 0
           },
           {
            "bin_start": 0.9,
            "bin_end": 1,
            "count": 20
           }
          ]
         }
        },
        {
         "name": "Oferta_Aceita_UltCamp",
         "dtype": "int32",
         "stats": {
          "unique_count": 2,
          "nan_count": 0,
          "min": "0",
          "max": "1",
          "histogram": [
           {
            "bin_start": 0,
            "bin_end": 0.1,
            "count": 1880
           },
           {
            "bin_start": 0.1,
            "bin_end": 0.2,
            "count": 0
           },
           {
            "bin_start": 0.2,
            "bin_end": 0.30000000000000004,
            "count": 0
           },
           {
            "bin_start": 0.30000000000000004,
            "bin_end": 0.4,
            "count": 0
           },
           {
            "bin_start": 0.4,
            "bin_end": 0.5,
            "count": 0
           },
           {
            "bin_start": 0.5,
            "bin_end": 0.6000000000000001,
            "count": 0
           },
           {
            "bin_start": 0.6000000000000001,
            "bin_end": 0.7000000000000001,
            "count": 0
           },
           {
            "bin_start": 0.7000000000000001,
            "bin_end": 0.8,
            "count": 0
           },
           {
            "bin_start": 0.8,
            "bin_end": 0.9,
            "count": 0
           },
           {
            "bin_start": 0.9,
            "bin_end": 1,
            "count": 331
           }
          ]
         }
        },
        {
         "name": "Renda_Familiar_Bienal",
         "dtype": "float32",
         "stats": {
          "unique_count": 1972,
          "nan_count": 0,
          "min": "3460.0",
          "max": "1333332.0",
          "histogram": [
           {
            "bin_start": 3460,
            "bin_end": 136447.203125,
            "count": 1650
           },
           {
            "bin_start": 136447.203125,
            "bin_end": 269434.40625,
            "count": 553
           },
           {
            "bin_start": 269434.40625,
            "bin_end": 402421.59375,
            "count": 7
           },
           {
            "bin_start": 402421.59375,
            "bin_end": 535408.8125,
            "count": 0
           },
           {
            "bin_start": 535408.8125,
            "bin_end": 668396,
            "count": 0
           },
           {
            "bin_start": 668396,
            "bin_end": 801383.1875,
            "count": 0
           },
           {
            "bin_start": 801383.1875,
            "bin_end": 934370.375,
            "count": 0
           },
           {
            "bin_start": 934370.375,
            "bin_end": 1067357.625,
            "count": 0
           },
           {
            "bin_start": 1067357.625,
            "bin_end": 1200344.75,
            "count": 0
           },
           {
            "bin_start": 1200344.75,
            "bin_end": 1333332,
            "count": 1
           }
          ]
         }
        },
        {
         "name": "_deepnote_index_column",
         "dtype": "int64"
        }
       ],
       "rows": [
        {
         "Ano_Nasc": 1954,
         "Escolaridade": "Graduation",
         "Estado_Civil": "Married",
         "Renda_Familiar_Anual": 38998,
         "Qtd_Criancas": 1,
         "Qtd_Adolesc": 1,
         "Dt_Cadastro": "2012-03-11T00:00:00.000000",
         "Ult_Compra_EmDias": 92,
         "Gastos_Em_Vinho_Ult2Anos": 34,
         "Gastos_Em_Frutas_Ult2Anos": 1,
         "Gastos_Em_Carnet2Ano": 14,
         "Gastos_Em_Pescados_Ult2Anos": 0,
         "Gastos_Em_Doces_Ult2Anos": 0,
         "Gastos_Em_Prod_Ouro_Ult2Anos": 5,
         "Qtd_Compras_ComDesconto": 3,
         "Qtd_Compras_OnLine": 2,
         "Qtd_Compras_Catalogo": 0,
         "Qtd_Compras_Loja": 3,
         "Qtd_Acessos_AoSite_UltMes": 8,
         "Oferta_Aceita_3aCamp": 0,
         "Oferta_Aceita_4aCamp": 0,
         "Oferta_Aceita_5aCamp": 0,
         "Oferta_Aceita_1aCamp": 0,
         "Oferta_Aceita_2aCamp": 0,
         "Cat_Cliente_Reclamou_Ult2Anos": 1,
         "Oferta_Aceita_UltCamp": 0,
         "Renda_Familiar_Bienal": 77996,
         "_deepnote_index_column": 1571
        },
        {
         "Ano_Nasc": 1977,
         "Escolaridade": "Graduation",
         "Estado_Civil": "Single",
         "Renda_Familiar_Anual": 37774,
         "Qtd_Criancas": 2,
         "Qtd_Adolesc": 0,
         "Dt_Cadastro": "2012-03-09T00:00:00.000000",
         "Ult_Compra_EmDias": 28,
         "Gastos_Em_Vinho_Ult2Anos": 173,
         "Gastos_Em_Frutas_Ult2Anos": 8,
         "Gastos_Em_Carnet2Ano": 107,
         "Gastos_Em_Pescados_Ult2Anos": 7,
         "Gastos_Em_Doces_Ult2Anos": 2,
         "Gastos_Em_Prod_Ouro_Ult2Anos": 176,
         "Qtd_Compras_ComDesconto": 4,
         "Qtd_Compras_OnLine": 7,
         "Qtd_Compras_Catalogo": 2,
         "Qtd_Compras_Loja": 3,
         "Qtd_Acessos_AoSite_UltMes": 9,
         "Oferta_Aceita_3aCamp": 1,
         "Oferta_Aceita_4aCamp": 0,
         "Oferta_Aceita_5aCamp": 0,
         "Oferta_Aceita_1aCamp": 0,
         "Oferta_Aceita_2aCamp": 0,
         "Cat_Cliente_Reclamou_Ult2Anos": 1,
         "Oferta_Aceita_UltCamp": 1,
         "Renda_Familiar_Bienal": 75548,
         "_deepnote_index_column": 1323
        },
        {
         "Ano_Nasc": 1995,
         "Escolaridade": "Master",
         "Estado_Civil": "Single",
         "Renda_Familiar_Anual": 83257,
         "Qtd_Criancas": 0,
         "Qtd_Adolesc": 0,
         "Dt_Cadastro": "2012-09-18T00:00:00.000000",
         "Ult_Compra_EmDias": 56,
         "Gastos_Em_Vinho_Ult2Anos": 536,
         "Gastos_Em_Frutas_Ult2Anos": 27,
         "Gastos_Em_Carnet2Ano": 590,
         "Gastos_Em_Pescados_Ult2Anos": 38,
         "Gastos_Em_Doces_Ult2Anos": 107,
         "Gastos_Em_Prod_Ouro_Ult2Anos": 67,
         "Qtd_Compras_ComDesconto": 1,
         "Qtd_Compras_OnLine": 5,
         "Qtd_Compras_Catalogo": 10,
         "Qtd_Compras_Loja": 12,
         "Qtd_Acessos_AoSite_UltMes": 6,
         "Oferta_Aceita_3aCamp": 1,
         "Oferta_Aceita_4aCamp": 0,
         "Oferta_Aceita_5aCamp": 1,
         "Oferta_Aceita_1aCamp": 0,
         "Oferta_Aceita_2aCamp": 0,
         "Cat_Cliente_Reclamou_Ult2Anos": 1,
         "Oferta_Aceita_UltCamp": 1,
         "Renda_Familiar_Bienal": 166514,
         "_deepnote_index_column": 1850
        },
        {
         "Ano_Nasc": 1959,
         "Escolaridade": "Graduation",
         "Estado_Civil": "Married",
         "Renda_Familiar_Anual": 58113,
         "Qtd_Criancas": 0,
         "Qtd_Adolesc": 1,
         "Dt_Cadastro": "2013-01-25T00:00:00.000000",
         "Ult_Compra_EmDias": 66,
         "Gastos_Em_Vinho_Ult2Anos": 221,
         "Gastos_Em_Frutas_Ult2Anos": 104,
         "Gastos_Em_Carnet2Ano": 169,
         "Gastos_Em_Pescados_Ult2Anos": 102,
         "Gastos_Em_Doces_Ult2Anos": 78,
         "Gastos_Em_Prod_Ouro_Ult2Anos": 84,
         "Qtd_Compras_ComDesconto": 3,
         "Qtd_Compras_OnLine": 9,
         "Qtd_Compras_Catalogo": 2,
         "Qtd_Compras_Loja": 8,
         "Qtd_Acessos_AoSite_UltMes": 7,
         "Oferta_Aceita_3aCamp": 0,
         "Oferta_Aceita_4aCamp": 0,
         "Oferta_Aceita_5aCamp": 0,
         "Oferta_Aceita_1aCamp": 0,
         "Oferta_Aceita_2aCamp": 0,
         "Cat_Cliente_Reclamou_Ult2Anos": 1,
         "Oferta_Aceita_UltCamp": 0,
         "Renda_Familiar_Bienal": 116226,
         "_deepnote_index_column": 1201
        },
        {
         "Ano_Nasc": 1978,
         "Escolaridade": "Graduation",
         "Estado_Civil": "Married",
         "Renda_Familiar_Anual": 67023,
         "Qtd_Criancas": 0,
         "Qtd_Adolesc": 0,
         "Dt_Cadastro": "2014-04-03T00:00:00.000000",
         "Ult_Compra_EmDias": 93,
         "Gastos_Em_Vinho_Ult2Anos": 444,
         "Gastos_Em_Frutas_Ult2Anos": 44,
         "Gastos_Em_Carnet2Ano": 382,
         "Gastos_Em_Pescados_Ult2Anos": 11,
         "Gastos_Em_Doces_Ult2Anos": 8,
         "Gastos_Em_Prod_Ouro_Ult2Anos": 17,
         "Qtd_Compras_ComDesconto": 1,
         "Qtd_Compras_OnLine": 3,
         "Qtd_Compras_Catalogo": 7,
         "Qtd_Compras_Loja": 13,
         "Qtd_Acessos_AoSite_UltMes": 2,
         "Oferta_Aceita_3aCamp": 0,
         "Oferta_Aceita_4aCamp": 0,
         "Oferta_Aceita_5aCamp": 0,
         "Oferta_Aceita_1aCamp": 0,
         "Oferta_Aceita_2aCamp": 0,
         "Cat_Cliente_Reclamou_Ult2Anos": 1,
         "Oferta_Aceita_UltCamp": 0,
         "Renda_Familiar_Bienal": 134046,
         "_deepnote_index_column": 1069
        },
        {
         "Ano_Nasc": 1950,
         "Escolaridade": "Graduation",
         "Estado_Civil": "Together",
         "Renda_Familiar_Anual": 48070,
         "Qtd_Criancas": 0,
         "Qtd_Adolesc": 1,
         "Dt_Cadastro": "2013-01-13T00:00:00.000000",
         "Ult_Compra_EmDias": 33,
         "Gastos_Em_Vinho_Ult2Anos": 373,
         "Gastos_Em_Frutas_Ult2Anos": 14,
         "Gastos_Em_Carnet2Ano": 83,
         "Gastos_Em_Pescados_Ult2Anos": 6,
         "Gastos_Em_Doces_Ult2Anos": 9,
         "Gastos_Em_Prod_Ouro_Ult2Anos": 19,
         "Qtd_Compras_ComDesconto": 3,
         "Qtd_Compras_OnLine": 8,
         "Qtd_Compras_Catalogo": 2,
         "Qtd_Compras_Loja": 6,
         "Qtd_Acessos_AoSite_UltMes": 7,
         "Oferta_Aceita_3aCamp": 0,
         "Oferta_Aceita_4aCamp": 0,
         "Oferta_Aceita_5aCamp": 0,
         "Oferta_Aceita_1aCamp": 0,
         "Oferta_Aceita_2aCamp": 0,
         "Cat_Cliente_Reclamou_Ult2Anos": 1,
         "Oferta_Aceita_UltCamp": 0,
         "Renda_Familiar_Bienal": 96140,
         "_deepnote_index_column": 1180
        },
        {
         "Ano_Nasc": 1983,
         "Escolaridade": "Master",
         "Estado_Civil": "Single",
         "Renda_Familiar_Anual": 31788,
         "Qtd_Criancas": 1,
         "Qtd_Adolesc": 0,
         "Dt_Cadastro": "2014-03-20T00:00:00.000000",
         "Ult_Compra_EmDias": 15,
         "Gastos_Em_Vinho_Ult2Anos": 16,
         "Gastos_Em_Frutas_Ult2Anos": 7,
         "Gastos_Em_Carnet2Ano": 23,
         "Gastos_Em_Pescados_Ult2Anos": 0,
         "Gastos_Em_Doces_Ult2Anos": 8,
         "Gastos_Em_Prod_Ouro_Ult2Anos": 6,
         "Qtd_Compras_ComDesconto": 3,
         "Qtd_Compras_OnLine": 3,
         "Qtd_Compras_Catalogo": 0,
         "Qtd_Compras_Loja": 4,
         "Qtd_Acessos_AoSite_UltMes": 5,
         "Oferta_Aceita_3aCamp": 0,
         "Oferta_Aceita_4aCamp": 0,
         "Oferta_Aceita_5aCamp": 0,
         "Oferta_Aceita_1aCamp": 0,
         "Oferta_Aceita_2aCamp": 0,
         "Cat_Cliente_Reclamou_Ult2Anos": 1,
         "Oferta_Aceita_UltCamp": 0,
         "Renda_Familiar_Bienal": 63576,
         "_deepnote_index_column": 271
        },
        {
         "Ano_Nasc": 1978,
         "Escolaridade": "Graduation",
         "Estado_Civil": "Single",
         "Renda_Familiar_Anual": 38643,
         "Qtd_Criancas": 1,
         "Qtd_Adolesc": 1,
         "Dt_Cadastro": "2013-11-29T00:00:00.000000",
         "Ult_Compra_EmDias": 45,
         "Gastos_Em_Vinho_Ult2Anos": 22,
         "Gastos_Em_Frutas_Ult2Anos": 2,
         "Gastos_Em_Carnet2Ano": 14,
         "Gastos_Em_Pescados_Ult2Anos": 0,
         "Gastos_Em_Doces_Ult2Anos": 1,
         "Gastos_Em_Prod_Ouro_Ult2Anos": 10,
         "Qtd_Compras_ComDesconto": 2,
         "Qtd_Compras_OnLine": 2,
         "Qtd_Compras_Catalogo": 0,
         "Qtd_Compras_Loja": 3,
         "Qtd_Acessos_AoSite_UltMes": 7,
         "Oferta_Aceita_3aCamp": 0,
         "Oferta_Aceita_4aCamp": 0,
         "Oferta_Aceita_5aCamp": 0,
         "Oferta_Aceita_1aCamp": 0,
         "Oferta_Aceita_2aCamp": 0,
         "Cat_Cliente_Reclamou_Ult2Anos": 1,
         "Oferta_Aceita_UltCamp": 0,
         "Renda_Familiar_Bienal": 77286,
         "_deepnote_index_column": 355
        },
        {
         "Ano_Nasc": 1959,
         "Escolaridade": "Graduation",
         "Estado_Civil": "Single",
         "Renda_Familiar_Anual": 80982,
         "Qtd_Criancas": 1,
         "Qtd_Adolesc": 1,
         "Dt_Cadastro": "2013-08-01T00:00:00.000000",
         "Ult_Compra_EmDias": 48,
         "Gastos_Em_Vinho_Ult2Anos": 505,
         "Gastos_Em_Frutas_Ult2Anos": 137,
         "Gastos_Em_Carnet2Ano": 401,
         "Gastos_Em_Pescados_Ult2Anos": 104,
         "Gastos_Em_Doces_Ult2Anos": 22,
         "Gastos_Em_Prod_Ouro_Ult2Anos": 22,
         "Qtd_Compras_ComDesconto": 3,
         "Qtd_Compras_OnLine": 11,
         "Qtd_Compras_Catalogo": 5,
         "Qtd_Compras_Loja": 11,
         "Qtd_Acessos_AoSite_UltMes": 5,
         "Oferta_Aceita_3aCamp": 0,
         "Oferta_Aceita_4aCamp": 0,
         "Oferta_Aceita_5aCamp": 0,
         "Oferta_Aceita_1aCamp": 0,
         "Oferta_Aceita_2aCamp": 0,
         "Cat_Cliente_Reclamou_Ult2Anos": 1,
         "Oferta_Aceita_UltCamp": 0,
         "Renda_Familiar_Bienal": 161964,
         "_deepnote_index_column": 1924
        },
        {
         "Ano_Nasc": 1959,
         "Escolaridade": "Graduation",
         "Estado_Civil": "Together",
         "Renda_Familiar_Anual": 57957,
         "Qtd_Criancas": 0,
         "Qtd_Adolesc": 1,
         "Dt_Cadastro": "2013-08-19T00:00:00.000000",
         "Ult_Compra_EmDias": 24,
         "Gastos_Em_Vinho_Ult2Anos": 290,
         "Gastos_Em_Frutas_Ult2Anos": 59,
         "Gastos_Em_Carnet2Ano": 177,
         "Gastos_Em_Pescados_Ult2Anos": 77,
         "Gastos_Em_Doces_Ult2Anos": 5,
         "Gastos_Em_Prod_Ouro_Ult2Anos": 29,
         "Qtd_Compras_ComDesconto": 7,
         "Qtd_Compras_OnLine": 4,
         "Qtd_Compras_Catalogo": 6,
         "Qtd_Compras_Loja": 8,
         "Qtd_Acessos_AoSite_UltMes": 3,
         "Oferta_Aceita_3aCamp": 0,
         "Oferta_Aceita_4aCamp": 0,
         "Oferta_Aceita_5aCamp": 0,
         "Oferta_Aceita_1aCamp": 0,
         "Oferta_Aceita_2aCamp": 0,
         "Cat_Cliente_Reclamou_Ult2Anos": 1,
         "Oferta_Aceita_UltCamp": 0,
         "Renda_Familiar_Bienal": 115914,
         "_deepnote_index_column": 1461
        }
       ]
      },
      "text/plain": "      Ano_Nasc Escolaridade Estado_Civil  Renda_Familiar_Anual  Qtd_Criancas  \\\n0         1957   Graduation       Single             58,138.00             0   \n1         1954   Graduation       Single             46,344.00             1   \n2         1965   Graduation     Together             71,613.00             0   \n3         1984   Graduation     Together             26,646.00             1   \n4         1981          PhD      Married             58,293.00             1   \n...        ...          ...          ...                   ...           ...   \n2235      1967   Graduation      Married             61,223.00             0   \n2236      1946          PhD     Together             64,014.00             2   \n2237      1981   Graduation     Divorced             56,981.00             0   \n2238      1956       Master     Together             69,245.00             0   \n2239      1954          PhD      Married             52,869.00             1   \n\n      Qtd_Adolesc Dt_Cadastro  Ult_Compra_EmDias  Gastos_Em_Vinho_Ult2Anos  \\\n0               0  2012-04-09                 58                    635.00   \n1               1  2014-08-03                 38                     11.00   \n2               0  2013-08-21                 26                    426.00   \n3               0  2014-10-02                 26                     11.00   \n4               0  2014-01-19                 94                    173.00   \n...           ...         ...                ...                       ...   \n2235            1  2013-06-13                 46                    709.00   \n2236            1  2014-10-06                 56                    406.00   \n2237            0  2014-01-25                 91                    908.00   \n2238            1  2014-01-24                  8                    428.00   \n2239            1  2012-10-15                 40                     84.00   \n\n      Gastos_Em_Frutas_Ult2Anos  ...  Qtd_Compras_Loja  \\\n0                         88.00  ...                 4   \n1                          1.00  ...                 2   \n2                         49.00  ...                10   \n3                          4.00  ...                 4   \n4                         43.00  ...                 6   \n...                         ...  ...               ...   \n2235                      43.00  ...                 4   \n2236                       0.00  ...                 5   \n2237                      48.00  ...                13   \n2238                      30.00  ...                10   \n2239                       3.00  ...                 4   \n\n      Qtd_Acessos_AoSite_UltMes  Oferta_Aceita_3aCamp  Oferta_Aceita_4aCamp  \\\n0                             7                     0                     0   \n1                             5                     0                     0   \n2                             4                     0                     0   \n3                             6                     0                     0   \n4                             5                     0                     0   \n...                         ...                   ...                   ...   \n2235                          5                     0                     0   \n2236                          7                     0                     0   \n2237                          6                     0                     1   \n2238                          3                     0                     0   \n2239                          7                     0                     0   \n\n      Oferta_Aceita_5aCamp  Oferta_Aceita_1aCamp  Oferta_Aceita_2aCamp  \\\n0                        0                     0                     0   \n1                        0                     0                     0   \n2                        0                     0                     0   \n3                        0                     0                     0   \n4                        0                     0                     0   \n...                    ...                   ...                   ...   \n2235                     0                     0                     0   \n2236                     0                     1                     0   \n2237                     0                     0                     0   \n2238                     0                     0                     0   \n2239                     0                     0                     0   \n\n      Cat_Cliente_Reclamou_Ult2Anos  Oferta_Aceita_UltCamp  \\\n0                                 0                      1   \n1                                 0                      0   \n2                                 0                      0   \n3                                 0                      0   \n4                                 0                      0   \n...                             ...                    ...   \n2235                              0                      0   \n2236                              0                      0   \n2237                              0                      0   \n2238                              0                      0   \n2239                              0                      1   \n\n      Renda_Familiar_Bienal  \n0                116,276.00  \n1                 92,688.00  \n2                143,226.00  \n3                 53,292.00  \n4                116,586.00  \n...                     ...  \n2235             122,446.00  \n2236             128,028.00  \n2237             113,962.00  \n2238             138,490.00  \n2239             105,738.00  \n\n[2211 rows x 27 columns]",
      "text/html": "<div>\n<style scoped>\n    .dataframe tbody tr th:only-of-type {\n        vertical-align: middle;\n    }\n\n    .dataframe tbody tr th {\n        vertical-align: top;\n    }\n\n    .dataframe thead th {\n        text-align: right;\n    }\n</style>\n<table border=\"1\" class=\"dataframe\">\n  <thead>\n    <tr style=\"text-align: right;\">\n      <th></th>\n      <th>Ano_Nasc</th>\n      <th>Escolaridade</th>\n      <th>Estado_Civil</th>\n      <th>Renda_Familiar_Anual</th>\n      <th>Qtd_Criancas</th>\n      <th>Qtd_Adolesc</th>\n      <th>Dt_Cadastro</th>\n      <th>Ult_Compra_EmDias</th>\n      <th>Gastos_Em_Vinho_Ult2Anos</th>\n      <th>Gastos_Em_Frutas_Ult2Anos</th>\n      <th>...</th>\n      <th>Qtd_Compras_Loja</th>\n      <th>Qtd_Acessos_AoSite_UltMes</th>\n      <th>Oferta_Aceita_3aCamp</th>\n      <th>Oferta_Aceita_4aCamp</th>\n      <th>Oferta_Aceita_5aCamp</th>\n      <th>Oferta_Aceita_1aCamp</th>\n      <th>Oferta_Aceita_2aCamp</th>\n      <th>Cat_Cliente_Reclamou_Ult2Anos</th>\n      <th>Oferta_Aceita_UltCamp</th>\n      <th>Renda_Familiar_Bienal</th>\n    </tr>\n  </thead>\n  <tbody>\n    <tr>\n      <th>0</th>\n      <td>1957</td>\n      <td>Graduation</td>\n      <td>Single</td>\n      <td>58,138.00</td>\n      <td>0</td>\n      <td>0</td>\n      <td>2012-04-09</td>\n      <td>58</td>\n      <td>635.00</td>\n      <td>88.00</td>\n      <td>...</td>\n      <td>4</td>\n      <td>7</td>\n      <td>0</td>\n      <td>0</td>\n      <td>0</td>\n      <td>0</td>\n      <td>0</td>\n      <td>0</td>\n      <td>1</td>\n      <td>116,276.00</td>\n    </tr>\n    <tr>\n      <th>1</th>\n      <td>1954</td>\n      <td>Graduation</td>\n      <td>Single</td>\n      <td>46,344.00</td>\n      <td>1</td>\n      <td>1</td>\n      <td>2014-08-03</td>\n      <td>38</td>\n      <td>11.00</td>\n      <td>1.00</td>\n      <td>...</td>\n      <td>2</td>\n      <td>5</td>\n      <td>0</td>\n      <td>0</td>\n      <td>0</td>\n      <td>0</td>\n      <td>0</td>\n      <td>0</td>\n      <td>0</td>\n      <td>92,688.00</td>\n    </tr>\n    <tr>\n      <th>2</th>\n      <td>1965</td>\n      <td>Graduation</td>\n      <td>Together</td>\n      <td>71,613.00</td>\n      <td>0</td>\n      <td>0</td>\n      <td>2013-08-21</td>\n      <td>26</td>\n      <td>426.00</td>\n      <td>49.00</td>\n      <td>...</td>\n      <td>10</td>\n      <td>4</td>\n      <td>0</td>\n      <td>0</td>\n      <td>0</td>\n      <td>0</td>\n      <td>0</td>\n      <td>0</td>\n      <td>0</td>\n      <td>143,226.00</td>\n    </tr>\n    <tr>\n      <th>3</th>\n      <td>1984</td>\n      <td>Graduation</td>\n      <td>Together</td>\n      <td>26,646.00</td>\n      <td>1</td>\n      <td>0</td>\n      <td>2014-10-02</td>\n      <td>26</td>\n      <td>11.00</td>\n      <td>4.00</td>\n      <td>...</td>\n      <td>4</td>\n      <td>6</td>\n      <td>0</td>\n      <td>0</td>\n      <td>0</td>\n      <td>0</td>\n      <td>0</td>\n      <td>0</td>\n      <td>0</td>\n      <td>53,292.00</td>\n    </tr>\n    <tr>\n      <th>4</th>\n      <td>1981</td>\n      <td>PhD</td>\n      <td>Married</td>\n      <td>58,293.00</td>\n      <td>1</td>\n      <td>0</td>\n      <td>2014-01-19</td>\n      <td>94</td>\n      <td>173.00</td>\n      <td>43.00</td>\n      <td>...</td>\n      <td>6</td>\n      <td>5</td>\n      <td>0</td>\n      <td>0</td>\n      <td>0</td>\n      <td>0</td>\n      <td>0</td>\n      <td>0</td>\n      <td>0</td>\n      <td>116,586.00</td>\n    </tr>\n    <tr>\n      <th>...</th>\n      <td>...</td>\n      <td>...</td>\n      <td>...</td>\n      <td>...</td>\n      <td>...</td>\n      <td>...</td>\n      <td>...</td>\n      <td>...</td>\n      <td>...</td>\n      <td>...</td>\n      <td>...</td>\n      <td>...</td>\n      <td>...</td>\n      <td>...</td>\n      <td>...</td>\n      <td>...</td>\n      <td>...</td>\n      <td>...</td>\n      <td>...</td>\n      <td>...</td>\n      <td>...</td>\n    </tr>\n    <tr>\n      <th>2235</th>\n      <td>1967</td>\n      <td>Graduation</td>\n      <td>Married</td>\n      <td>61,223.00</td>\n      <td>0</td>\n      <td>1</td>\n      <td>2013-06-13</td>\n      <td>46</td>\n      <td>709.00</td>\n      <td>43.00</td>\n      <td>...</td>\n      <td>4</td>\n      <td>5</td>\n      <td>0</td>\n      <td>0</td>\n      <td>0</td>\n      <td>0</td>\n      <td>0</td>\n      <td>0</td>\n      <td>0</td>\n      <td>122,446.00</td>\n    </tr>\n    <tr>\n      <th>2236</th>\n      <td>1946</td>\n      <td>PhD</td>\n      <td>Together</td>\n      <td>64,014.00</td>\n      <td>2</td>\n      <td>1</td>\n      <td>2014-10-06</td>\n      <td>56</td>\n      <td>406.00</td>\n      <td>0.00</td>\n      <td>...</td>\n      <td>5</td>\n      <td>7</td>\n      <td>0</td>\n      <td>0</td>\n      <td>0</td>\n      <td>1</td>\n      <td>0</td>\n      <td>0</td>\n      <td>0</td>\n      <td>128,028.00</td>\n    </tr>\n    <tr>\n      <th>2237</th>\n      <td>1981</td>\n      <td>Graduation</td>\n      <td>Divorced</td>\n      <td>56,981.00</td>\n      <td>0</td>\n      <td>0</td>\n      <td>2014-01-25</td>\n      <td>91</td>\n      <td>908.00</td>\n      <td>48.00</td>\n      <td>...</td>\n      <td>13</td>\n      <td>6</td>\n      <td>0</td>\n      <td>1</td>\n      <td>0</td>\n      <td>0</td>\n      <td>0</td>\n      <td>0</td>\n      <td>0</td>\n      <td>113,962.00</td>\n    </tr>\n    <tr>\n      <th>2238</th>\n      <td>1956</td>\n      <td>Master</td>\n      <td>Together</td>\n      <td>69,245.00</td>\n      <td>0</td>\n      <td>1</td>\n      <td>2014-01-24</td>\n      <td>8</td>\n      <td>428.00</td>\n      <td>30.00</td>\n      <td>...</td>\n      <td>10</td>\n      <td>3</td>\n      <td>0</td>\n      <td>0</td>\n      <td>0</td>\n      <td>0</td>\n      <td>0</td>\n      <td>0</td>\n      <td>0</td>\n      <td>138,490.00</td>\n    </tr>\n    <tr>\n      <th>2239</th>\n      <td>1954</td>\n      <td>PhD</td>\n      <td>Married</td>\n      <td>52,869.00</td>\n      <td>1</td>\n      <td>1</td>\n      <td>2012-10-15</td>\n      <td>40</td>\n      <td>84.00</td>\n      <td>3.00</td>\n      <td>...</td>\n      <td>4</td>\n      <td>7</td>\n      <td>0</td>\n      <td>0</td>\n      <td>0</td>\n      <td>0</td>\n      <td>0</td>\n      <td>0</td>\n      <td>1</td>\n      <td>105,738.00</td>\n    </tr>\n  </tbody>\n</table>\n<p>2211 rows × 27 columns</p>\n</div>"
     },
     "metadata": {}
    }
   ]
  },
  {
   "cell_type": "markdown",
   "source": "### Insights",
   "metadata": {
    "cell_id": "72c9ff39-495c-45df-8c46-3ab97e4b04a7",
    "tags": [],
    "deepnote_cell_type": "markdown"
   }
  },
  {
   "cell_type": "markdown",
   "source": "#### Verificando se a alta renda familiar está relacionada à escolaridade (João)",
   "metadata": {
    "cell_id": "6762d23e-4cf1-45e1-be42-cc5bc71ae692",
    "tags": [],
    "deepnote_cell_type": "markdown"
   }
  },
  {
   "cell_type": "code",
   "metadata": {
    "cell_id": "4b136ecd-d9b9-44b5-bcdf-3a8991039a3b",
    "tags": [],
    "deepnote_to_be_reexecuted": false,
    "source_hash": "855d8c12",
    "execution_start": 1643669549454,
    "execution_millis": 20,
    "deepnote_cell_type": "code"
   },
   "source": "df.groupby('Escolaridade')[['Renda_Familiar_Anual']].mean().rename(columns = {'Renda_Familiar_Anual':'Renda_Media_Anual'})",
   "execution_count": null,
   "outputs": [
    {
     "output_type": "execute_result",
     "execution_count": 19,
     "data": {
      "application/vnd.deepnote.dataframe.v3+json": {
       "column_count": 1,
       "row_count": 4,
       "columns": [
        {
         "name": "Renda_Media_Anual",
         "dtype": "float32",
         "stats": {
          "unique_count": 4,
          "nan_count": 0,
          "min": "20306.259765625",
          "max": "56177.51953125",
          "histogram": [
           {
            "bin_start": 20306.259765625,
            "bin_end": 23893.38671875,
            "count": 1
           },
           {
            "bin_start": 23893.38671875,
            "bin_end": 27480.51171875,
            "count": 0
           },
           {
            "bin_start": 27480.51171875,
            "bin_end": 31067.63671875,
            "count": 0
           },
           {
            "bin_start": 31067.63671875,
            "bin_end": 34654.765625,
            "count": 0
           },
           {
            "bin_start": 34654.765625,
            "bin_end": 38241.890625,
            "count": 0
           },
           {
            "bin_start": 38241.890625,
            "bin_end": 41829.015625,
            "count": 0
           },
           {
            "bin_start": 41829.015625,
            "bin_end": 45416.140625,
            "count": 0
           },
           {
            "bin_start": 45416.140625,
            "bin_end": 49003.265625,
            "count": 0
           },
           {
            "bin_start": 49003.265625,
            "bin_end": 52590.39453125,
            "count": 1
           },
           {
            "bin_start": 52590.39453125,
            "bin_end": 56177.51953125,
            "count": 2
           }
          ]
         }
        },
        {
         "name": "_deepnote_index_column",
         "dtype": "category"
        }
       ],
       "rows": [
        {
         "Renda_Media_Anual": 20306.259765625,
         "_deepnote_index_column": "Basic"
        },
        {
         "Renda_Media_Anual": 52696.5859375,
         "_deepnote_index_column": "Graduation"
        },
        {
         "Renda_Media_Anual": 51046.91015625,
         "_deepnote_index_column": "Master"
        },
        {
         "Renda_Media_Anual": 56177.51953125,
         "_deepnote_index_column": "PhD"
        }
       ]
      },
      "text/plain": "              Renda_Media_Anual\nEscolaridade                   \nBasic                 20,306.26\nGraduation            52,696.59\nMaster                51,046.91\nPhD                   56,177.52",
      "text/html": "<div>\n<style scoped>\n    .dataframe tbody tr th:only-of-type {\n        vertical-align: middle;\n    }\n\n    .dataframe tbody tr th {\n        vertical-align: top;\n    }\n\n    .dataframe thead th {\n        text-align: right;\n    }\n</style>\n<table border=\"1\" class=\"dataframe\">\n  <thead>\n    <tr style=\"text-align: right;\">\n      <th></th>\n      <th>Renda_Media_Anual</th>\n    </tr>\n    <tr>\n      <th>Escolaridade</th>\n      <th></th>\n    </tr>\n  </thead>\n  <tbody>\n    <tr>\n      <th>Basic</th>\n      <td>20,306.26</td>\n    </tr>\n    <tr>\n      <th>Graduation</th>\n      <td>52,696.59</td>\n    </tr>\n    <tr>\n      <th>Master</th>\n      <td>51,046.91</td>\n    </tr>\n    <tr>\n      <th>PhD</th>\n      <td>56,177.52</td>\n    </tr>\n  </tbody>\n</table>\n</div>"
     },
     "metadata": {}
    }
   ]
  },
  {
   "cell_type": "code",
   "metadata": {
    "cell_id": "075c324a-ae36-4d32-af7e-db1b5c6e115a",
    "tags": [],
    "deepnote_to_be_reexecuted": false,
    "source_hash": "1cb0cde7",
    "execution_start": 1643669549472,
    "execution_millis": 308,
    "deepnote_output_heights": [
     263
    ],
    "deepnote_cell_type": "code"
   },
   "source": "df_copy = df[['Escolaridade','Renda_Familiar_Anual']].copy()\n\n#removendo outliers\ndf_copy = df_copy.loc[df_copy[\"Renda_Familiar_Anual\"] < 110000]\nplot1 = df_copy.boxplot(by = 'Escolaridade')\n\nplt.title('')\nplt.suptitle('')\nplot1.set_xlabel(\"Escolaridade\");\nplot1.set_ylabel(\"Renda Familiar Anual\");\nplot1 = plt.show()",
   "execution_count": null,
   "outputs": [
    {
     "data": {
      "text/plain": "<Figure size 432x288 with 1 Axes>",
      "image/png": "[encoded data removed]"
     },
     "metadata": {
      "needs_background": "light",
      "image/png": {
       "width": 418,
       "height": 261
      }
     },
     "output_type": "display_data"
    }
   ]
  },
  {
   "cell_type": "markdown",
   "source": "#### Quais faixas etárias consomem mais? (João)",
   "metadata": {
    "cell_id": "c475c04d-30b8-4ae1-90f2-a17d8f4dcd36",
    "tags": [],
    "deepnote_cell_type": "markdown"
   }
  },
  {
   "cell_type": "code",
   "metadata": {
    "cell_id": "c26b1e00-6cfb-4aa2-9333-75e534298317",
    "tags": [],
    "deepnote_to_be_reexecuted": false,
    "source_hash": "c24c9926",
    "execution_start": 1643669549781,
    "execution_millis": 51,
    "deepnote_output_heights": [
     1
    ],
    "deepnote_cell_type": "code"
   },
   "source": "ano_base = df[['Dt_Cadastro']].apply(lambda x: x['Dt_Cadastro'].year, axis =1).unique().max()\nano_base",
   "execution_count": null,
   "outputs": [
    {
     "output_type": "execute_result",
     "execution_count": 21,
     "data": {
      "text/plain": "2014"
     },
     "metadata": {}
    }
   ]
  },
  {
   "cell_type": "code",
   "metadata": {
    "cell_id": "752dfe52-67d4-4b80-ba2d-dae754a538a2",
    "tags": [],
    "deepnote_to_be_reexecuted": false,
    "source_hash": "24d51bca",
    "execution_start": 1643669550166,
    "execution_millis": 397,
    "deepnote_cell_type": "code"
   },
   "source": "df['Total_Gastos_Ult2Anos'] = df.apply(lambda linha: linha['Gastos_Em_Vinho_Ult2Anos':'Gastos_Em_Prod_Ouro_Ult2Anos'].sum(), axis=1)\ndf['Idade'] = ano_base - df['Ano_Nasc']",
   "execution_count": null,
   "outputs": []
  },
  {
   "cell_type": "code",
   "metadata": {
    "cell_id": "0374dbd6-6b1b-4761-8894-331b8a7b7716",
    "tags": [],
    "deepnote_to_be_reexecuted": false,
    "source_hash": "9435d3a0",
    "execution_start": 1643669550568,
    "execution_millis": 49,
    "deepnote_output_heights": [
     232.25
    ],
    "deepnote_cell_type": "code"
   },
   "source": "# Agrupando as idades por faixas etárias\nfaixas_etarias = { 0:'Abaixo de 20', 1:'De 20 à 39', 2:'De 40 à 59', 3:'De 60 à 79', 4:'De 80 à 99'}\n# Criando nova coluna contendo as faixas etárias\ndf['Faixa_Etaria'] = df.apply(lambda faixa: faixas_etarias.get(faixa['Idade'] // 20), axis=1)",
   "execution_count": null,
   "outputs": []
  },
  {
   "cell_type": "code",
   "metadata": {
    "cell_id": "1926b8fa-e974-4598-88ca-f76831e8a44c",
    "tags": [],
    "deepnote_to_be_reexecuted": false,
    "source_hash": "67063122",
    "execution_start": 1643669550638,
    "execution_millis": 5,
    "deepnote_output_heights": [
     1
    ],
    "deepnote_cell_type": "code"
   },
   "source": "df_gastos = df.groupby(['Faixa_Etaria'])[['Total_Gastos_Ult2Anos']].mean()\ndf_gastos",
   "execution_count": null,
   "outputs": [
    {
     "output_type": "execute_result",
     "execution_count": 24,
     "data": {
      "application/vnd.deepnote.dataframe.v3+json": {
       "column_count": 1,
       "row_count": 4,
       "columns": [
        {
         "name": "Total_Gastos_Ult2Anos",
         "dtype": "float64",
         "stats": {
          "unique_count": 4,
          "nan_count": 0,
          "min": "542.3019607843137",
          "max": "750.4536741214057",
          "histogram": [
           {
            "bin_start": 542.3019607843137,
            "bin_end": 563.1171321180229,
            "count": 1
           },
           {
            "bin_start": 563.1171321180229,
            "bin_end": 583.9323034517321,
            "count": 0
           },
           {
            "bin_start": 583.9323034517321,
            "bin_end": 604.7474747854412,
            "count": 0
           },
           {
            "bin_start": 604.7474747854412,
            "bin_end": 625.5626461191505,
            "count": 1
           },
           {
            "bin_start": 625.5626461191505,
            "bin_end": 646.3778174528597,
            "count": 0
           },
           {
            "bin_start": 646.3778174528597,
            "bin_end": 667.1929887865689,
            "count": 0
           },
           {
            "bin_start": 667.1929887865689,
            "bin_end": 688.008160120278,
            "count": 0
           },
           {
            "bin_start": 688.008160120278,
            "bin_end": 708.8233314539873,
            "count": 0
           },
           {
            "bin_start": 708.8233314539873,
            "bin_end": 729.6385027876966,
            "count": 1
           },
           {
            "bin_start": 729.6385027876966,
            "bin_end": 750.4536741214057,
            "count": 1
           }
          ]
         }
        },
        {
         "name": "_deepnote_index_column",
         "dtype": "object"
        }
       ],
       "rows": [
        {
         "Total_Gastos_Ult2Anos": 724.625,
         "_deepnote_index_column": "Abaixo de 20"
        },
        {
         "Total_Gastos_Ult2Anos": 542.3019607843137,
         "_deepnote_index_column": "De 20 à 39"
        },
        {
         "Total_Gastos_Ult2Anos": 610.1608888888888,
         "_deepnote_index_column": "De 40 à 59"
        },
        {
         "Total_Gastos_Ult2Anos": 750.4536741214057,
         "_deepnote_index_column": "De 60 à 79"
        }
       ]
      },
      "text/plain": "              Total_Gastos_Ult2Anos\nFaixa_Etaria                       \nAbaixo de 20                 724.62\nDe 20 à 39                   542.30\nDe 40 à 59                   610.16\nDe 60 à 79                   750.45",
      "text/html": "<div>\n<style scoped>\n    .dataframe tbody tr th:only-of-type {\n        vertical-align: middle;\n    }\n\n    .dataframe tbody tr th {\n        vertical-align: top;\n    }\n\n    .dataframe thead th {\n        text-align: right;\n    }\n</style>\n<table border=\"1\" class=\"dataframe\">\n  <thead>\n    <tr style=\"text-align: right;\">\n      <th></th>\n      <th>Total_Gastos_Ult2Anos</th>\n    </tr>\n    <tr>\n      <th>Faixa_Etaria</th>\n      <th></th>\n    </tr>\n  </thead>\n  <tbody>\n    <tr>\n      <th>Abaixo de 20</th>\n      <td>724.62</td>\n    </tr>\n    <tr>\n      <th>De 20 à 39</th>\n      <td>542.30</td>\n    </tr>\n    <tr>\n      <th>De 40 à 59</th>\n      <td>610.16</td>\n    </tr>\n    <tr>\n      <th>De 60 à 79</th>\n      <td>750.45</td>\n    </tr>\n  </tbody>\n</table>\n</div>"
     },
     "metadata": {}
    }
   ]
  },
  {
   "cell_type": "code",
   "metadata": {
    "cell_id": "2783390e-d65c-42d3-94c0-c84e966ed206",
    "tags": [],
    "deepnote_to_be_reexecuted": false,
    "source_hash": "35a7ba35",
    "execution_start": 1643669550654,
    "execution_millis": 244,
    "deepnote_output_heights": [
     1,
     320
    ],
    "deepnote_cell_type": "code"
   },
   "source": "df_gastos = df.groupby(['Faixa_Etaria'])[['Total_Gastos_Ult2Anos']].mean()\ndf_gastos.rename(columns = {'Total_Gastos_Ult2Anos':'Média de Gastos nos Últimos 2 Anos'}).plot.bar()",
   "execution_count": null,
   "outputs": [
    {
     "output_type": "execute_result",
     "execution_count": 25,
     "data": {
      "text/plain": "<AxesSubplot:xlabel='Faixa_Etaria'>"
     },
     "metadata": {}
    },
    {
     "data": {
      "text/plain": "<Figure size 432x288 with 1 Axes>",
      "image/png": "[encoded data removed]"
     },
     "metadata": {
      "needs_background": "light",
      "image/png": {
       "width": 375,
       "height": 318
      }
     },
     "output_type": "display_data"
    }
   ]
  },
  {
   "cell_type": "markdown",
   "source": "#### Os casados são mais comedidos com os gastos que os solteiros? (João)",
   "metadata": {
    "cell_id": "1849a0b9-84a4-40c2-8a28-7f9d4f882f90",
    "tags": [],
    "deepnote_cell_type": "markdown"
   }
  },
  {
   "cell_type": "code",
   "metadata": {
    "cell_id": "c603f8f8-4640-4f4d-8b8a-d8084d2401c3",
    "tags": [],
    "deepnote_to_be_reexecuted": false,
    "source_hash": "ed6232ac",
    "execution_start": 1643669550966,
    "execution_millis": 4,
    "deepnote_cell_type": "code"
   },
   "source": "df.groupby('Estado_Civil')[['Total_Gastos_Ult2Anos']].mean().loc[['Married','Single']]",
   "execution_count": null,
   "outputs": [
    {
     "output_type": "execute_result",
     "execution_count": 26,
     "data": {
      "application/vnd.deepnote.dataframe.v3+json": {
       "column_count": 1,
       "row_count": 2,
       "columns": [
        {
         "name": "Total_Gastos_Ult2Anos",
         "dtype": "float64",
         "stats": {
          "unique_count": 2,
          "nan_count": 0,
          "min": "591.4644107351226",
          "max": "612.5923566878981",
          "histogram": [
           {
            "bin_start": 591.4644107351226,
            "bin_end": 593.5772053304001,
            "count": 1
           },
           {
            "bin_start": 593.5772053304001,
            "bin_end": 595.6899999256776,
            "count": 0
           },
           {
            "bin_start": 595.6899999256776,
            "bin_end": 597.8027945209552,
            "count": 0
           },
           {
            "bin_start": 597.8027945209552,
            "bin_end": 599.9155891162328,
            "count": 0
           },
           {
            "bin_start": 599.9155891162328,
            "bin_end": 602.0283837115103,
            "count": 0
           },
           {
            "bin_start": 602.0283837115103,
            "bin_end": 604.1411783067879,
            "count": 0
           },
           {
            "bin_start": 604.1411783067879,
            "bin_end": 606.2539729020655,
            "count": 0
           },
           {
            "bin_start": 606.2539729020655,
            "bin_end": 608.3667674973431,
            "count": 0
           },
           {
            "bin_start": 608.3667674973431,
            "bin_end": 610.4795620926205,
            "count": 0
           },
           {
            "bin_start": 610.4795620926205,
            "bin_end": 612.5923566878981,
            "count": 1
           }
          ]
         }
        },
        {
         "name": "_deepnote_index_column",
         "dtype": "category"
        }
       ],
       "rows": [
        {
         "Total_Gastos_Ult2Anos": 591.4644107351226,
         "_deepnote_index_column": "Married"
        },
        {
         "Total_Gastos_Ult2Anos": 612.5923566878981,
         "_deepnote_index_column": "Single"
        }
       ]
      },
      "text/plain": "              Total_Gastos_Ult2Anos\nEstado_Civil                       \nMarried                      591.46\nSingle                       612.59",
      "text/html": "<div>\n<style scoped>\n    .dataframe tbody tr th:only-of-type {\n        vertical-align: middle;\n    }\n\n    .dataframe tbody tr th {\n        vertical-align: top;\n    }\n\n    .dataframe thead th {\n        text-align: right;\n    }\n</style>\n<table border=\"1\" class=\"dataframe\">\n  <thead>\n    <tr style=\"text-align: right;\">\n      <th></th>\n      <th>Total_Gastos_Ult2Anos</th>\n    </tr>\n    <tr>\n      <th>Estado_Civil</th>\n      <th></th>\n    </tr>\n  </thead>\n  <tbody>\n    <tr>\n      <th>Married</th>\n      <td>591.46</td>\n    </tr>\n    <tr>\n      <th>Single</th>\n      <td>612.59</td>\n    </tr>\n  </tbody>\n</table>\n</div>"
     },
     "metadata": {}
    }
   ]
  },
  {
   "cell_type": "code",
   "metadata": {
    "cell_id": "a8b4d297-74a8-4feb-8d80-09067ac551a6",
    "tags": [],
    "deepnote_to_be_reexecuted": false,
    "source_hash": "2eb2d1ac",
    "execution_start": 1643669550967,
    "execution_millis": 176,
    "deepnote_output_heights": [
     263
    ],
    "deepnote_cell_type": "code"
   },
   "source": "df_copy = df[['Estado_Civil','Total_Gastos_Ult2Anos']].copy()\ndf_copy = df_copy[df_copy['Estado_Civil'].isin(['Married','Single'])]\n\ndf_copy.Estado_Civil = df_copy.Estado_Civil.cat.remove_unused_categories()\nplot = df_copy.boxplot(by = 'Estado_Civil')\n\nplt.title('')\nplt.suptitle('')\nplot.set_xlabel(\"Estado Civil\");\nplot.set_ylabel(\"Gastos nos ultimos 2 anos\");\nplot = plt.show()",
   "execution_count": null,
   "outputs": [
    {
     "data": {
      "text/plain": "<Figure size 432x288 with 1 Axes>",
      "image/png": "[encoded data removed]"
     },
     "metadata": {
      "needs_background": "light",
      "image/png": {
       "width": 406,
       "height": 261
      }
     },
     "output_type": "display_data"
    }
   ]
  },
  {
   "cell_type": "markdown",
   "source": "apresentação de túlio\n#### Apresentando os principais grupos de Faixa Etária por estilo de compra (online, loja física, etc)",
   "metadata": {
    "cell_id": "f92e98f4-9a8f-4458-b658-8e27e165b515",
    "tags": [],
    "deepnote_cell_type": "markdown"
   }
  },
  {
   "cell_type": "code",
   "metadata": {
    "cell_id": "995ffcaf-437d-4423-bbb7-808f8e781c04",
    "tags": [],
    "deepnote_to_be_reexecuted": false,
    "source_hash": "fca90ccd",
    "execution_start": 1643669551146,
    "execution_millis": 264,
    "deepnote_output_heights": [
     1
    ],
    "deepnote_cell_type": "code"
   },
   "source": "##################\n# Airton #########\n##################\n\ndf_estilo_compra = df.groupby(['Faixa_Etaria'])[['Qtd_Compras_OnLine', 'Qtd_Compras_Catalogo', 'Qtd_Compras_Loja']].agg('sum')\ndf_estilo_compra",
   "execution_count": null,
   "outputs": [
    {
     "output_type": "execute_result",
     "execution_count": 28,
     "data": {
      "application/vnd.deepnote.dataframe.v3+json": {
       "column_count": 3,
       "row_count": 4,
       "columns": [
        {
         "name": "Qtd_Compras_OnLine",
         "dtype": "int32",
         "stats": {
          "unique_count": 4,
          "nan_count": 0,
          "min": "22",
          "max": "4782",
          "histogram": [
           {
            "bin_start": 22,
            "bin_end": 498,
            "count": 1
           },
           {
            "bin_start": 498,
            "bin_end": 974,
            "count": 0
           },
           {
            "bin_start": 974,
            "bin_end": 1450,
            "count": 0
           },
           {
            "bin_start": 1450,
            "bin_end": 1926,
            "count": 1
           },
           {
            "bin_start": 1926,
            "bin_end": 2402,
            "count": 0
           },
           {
            "bin_start": 2402,
            "bin_end": 2878,
            "count": 1
           },
           {
            "bin_start": 2878,
            "bin_end": 3354,
            "count": 0
           },
           {
            "bin_start": 3354,
            "bin_end": 3830,
            "count": 0
           },
           {
            "bin_start": 3830,
            "bin_end": 4306,
            "count": 0
           },
           {
            "bin_start": 4306,
            "bin_end": 4782,
            "count": 1
           }
          ]
         }
        },
        {
         "name": "Qtd_Compras_Catalogo",
         "dtype": "int32",
         "stats": {
          "unique_count": 4,
          "nan_count": 0,
          "min": "31",
          "max": "3009",
          "histogram": [
           {
            "bin_start": 31,
            "bin_end": 328.8,
            "count": 1
           },
           {
            "bin_start": 328.8,
            "bin_end": 626.6,
            "count": 0
           },
           {
            "bin_start": 626.6,
            "bin_end": 924.4000000000001,
            "count": 0
           },
           {
            "bin_start": 924.4000000000001,
            "bin_end": 1222.2,
            "count": 1
           },
           {
            "bin_start": 1222.2,
            "bin_end": 1520,
            "count": 0
           },
           {
            "bin_start": 1520,
            "bin_end": 1817.8000000000002,
            "count": 1
           },
           {
            "bin_start": 1817.8000000000002,
            "bin_end": 2115.6,
            "count": 0
           },
           {
            "bin_start": 2115.6,
            "bin_end": 2413.4,
            "count": 0
           },
           {
            "bin_start": 2413.4,
            "bin_end": 2711.2000000000003,
            "count": 0
           },
           {
            "bin_start": 2711.2000000000003,
            "bin_end": 3009,
            "count": 1
           }
          ]
         }
        },
        {
         "name": "Qtd_Compras_Loja",
         "dtype": "int32",
         "stats": {
          "unique_count": 4,
          "nan_count": 0,
          "min": "45",
          "max": "6634",
          "histogram": [
           {
            "bin_start": 45,
            "bin_end": 703.9,
            "count": 1
           },
           {
            "bin_start": 703.9,
            "bin_end": 1362.8,
            "count": 0
           },
           {
            "bin_start": 1362.8,
            "bin_end": 2021.6999999999998,
            "count": 0
           },
           {
            "bin_start": 2021.6999999999998,
            "bin_end": 2680.6,
            "count": 1
           },
           {
            "bin_start": 2680.6,
            "bin_end": 3339.5,
            "count": 0
           },
           {
            "bin_start": 3339.5,
            "bin_end": 3998.3999999999996,
            "count": 0
           },
           {
            "bin_start": 3998.3999999999996,
            "bin_end": 4657.3,
            "count": 1
           },
           {
            "bin_start": 4657.3,
            "bin_end": 5316.2,
            "count": 0
           },
           {
            "bin_start": 5316.2,
            "bin_end": 5975.099999999999,
            "count": 0
           },
           {
            "bin_start": 5975.099999999999,
            "bin_end": 6634,
            "count": 1
           }
          ]
         }
        },
        {
         "name": "_deepnote_index_column",
         "dtype": "object"
        }
       ],
       "rows": [
        {
         "Qtd_Compras_OnLine": 22,
         "Qtd_Compras_Catalogo": 31,
         "Qtd_Compras_Loja": 45,
         "_deepnote_index_column": "Abaixo de 20"
        },
        {
         "Qtd_Compras_OnLine": 2764,
         "Qtd_Compras_Catalogo": 1794,
         "Qtd_Compras_Loja": 4110,
         "_deepnote_index_column": "De 20 à 39"
        },
        {
         "Qtd_Compras_OnLine": 4782,
         "Qtd_Compras_Catalogo": 3009,
         "Qtd_Compras_Loja": 6634,
         "_deepnote_index_column": "De 40 à 59"
        },
        {
         "Qtd_Compras_OnLine": 1462,
         "Qtd_Compras_Catalogo": 1067,
         "Qtd_Compras_Loja": 2039,
         "_deepnote_index_column": "De 60 à 79"
        }
       ]
      },
      "text/plain": "              Qtd_Compras_OnLine  Qtd_Compras_Catalogo  Qtd_Compras_Loja\nFaixa_Etaria                                                            \nAbaixo de 20                  22                    31                45\nDe 20 à 39                  2764                  1794              4110\nDe 40 à 59                  4782                  3009              6634\nDe 60 à 79                  1462                  1067              2039",
      "text/html": "<div>\n<style scoped>\n    .dataframe tbody tr th:only-of-type {\n        vertical-align: middle;\n    }\n\n    .dataframe tbody tr th {\n        vertical-align: top;\n    }\n\n    .dataframe thead th {\n        text-align: right;\n    }\n</style>\n<table border=\"1\" class=\"dataframe\">\n  <thead>\n    <tr style=\"text-align: right;\">\n      <th></th>\n      <th>Qtd_Compras_OnLine</th>\n      <th>Qtd_Compras_Catalogo</th>\n      <th>Qtd_Compras_Loja</th>\n    </tr>\n    <tr>\n      <th>Faixa_Etaria</th>\n      <th></th>\n      <th></th>\n      <th></th>\n    </tr>\n  </thead>\n  <tbody>\n    <tr>\n      <th>Abaixo de 20</th>\n      <td>22</td>\n      <td>31</td>\n      <td>45</td>\n    </tr>\n    <tr>\n      <th>De 20 à 39</th>\n      <td>2764</td>\n      <td>1794</td>\n      <td>4110</td>\n    </tr>\n    <tr>\n      <th>De 40 à 59</th>\n      <td>4782</td>\n      <td>3009</td>\n      <td>6634</td>\n    </tr>\n    <tr>\n      <th>De 60 à 79</th>\n      <td>1462</td>\n      <td>1067</td>\n      <td>2039</td>\n    </tr>\n  </tbody>\n</table>\n</div>"
     },
     "metadata": {}
    }
   ]
  },
  {
   "cell_type": "code",
   "metadata": {
    "cell_id": "0e95d11b-9c37-4d75-930e-e5f0f7748c45",
    "tags": [],
    "deepnote_to_be_reexecuted": false,
    "source_hash": "5512292",
    "execution_start": 1643669551212,
    "execution_millis": 286,
    "deepnote_output_heights": [
     1,
     320
    ],
    "deepnote_cell_type": "code"
   },
   "source": "df_estilo_compra.plot.bar()",
   "execution_count": null,
   "outputs": [
    {
     "output_type": "execute_result",
     "execution_count": 29,
     "data": {
      "text/plain": "<AxesSubplot:xlabel='Faixa_Etaria'>"
     },
     "metadata": {}
    },
    {
     "data": {
      "text/plain": "<Figure size 432x288 with 1 Axes>",
      "image/png": "[encoded data removed]"
     },
     "metadata": {
      "needs_background": "light",
      "image/png": {
       "width": 381,
       "height": 318
      }
     },
     "output_type": "display_data"
    }
   ]
  },
  {
   "cell_type": "markdown",
   "source": "#### Este comportamento também se reflete no acesso ao site da loja dos últimos 30 dias?",
   "metadata": {
    "cell_id": "31f9be25-eb64-4ecd-8671-6922f13db1f8",
    "tags": [],
    "deepnote_cell_type": "markdown"
   }
  },
  {
   "cell_type": "code",
   "metadata": {
    "cell_id": "9b56d93e-5216-4efc-96f7-2165f6ba3ce7",
    "tags": [],
    "deepnote_to_be_reexecuted": false,
    "source_hash": "7c04efa8",
    "execution_start": 1643669551500,
    "execution_millis": 21,
    "deepnote_cell_type": "code"
   },
   "source": "# Airton\ndf_compras_30d = df.groupby(['Faixa_Etaria'])[['Qtd_Compras_OnLine', 'Qtd_Acessos_AoSite_UltMes']].agg('sum')\ndf_compras_30d",
   "execution_count": null,
   "outputs": [
    {
     "output_type": "execute_result",
     "execution_count": 30,
     "data": {
      "application/vnd.deepnote.dataframe.v3+json": {
       "column_count": 2,
       "row_count": 4,
       "columns": [
        {
         "name": "Qtd_Compras_OnLine",
         "dtype": "int32",
         "stats": {
          "unique_count": 4,
          "nan_count": 0,
          "min": "22",
          "max": "4782",
          "histogram": [
           {
            "bin_start": 22,
            "bin_end": 498,
            "count": 1
           },
           {
            "bin_start": 498,
            "bin_end": 974,
            "count": 0
           },
           {
            "bin_start": 974,
            "bin_end": 1450,
            "count": 0
           },
           {
            "bin_start": 1450,
            "bin_end": 1926,
            "count": 1
           },
           {
            "bin_start": 1926,
            "bin_end": 2402,
            "count": 0
           },
           {
            "bin_start": 2402,
            "bin_end": 2878,
            "count": 1
           },
           {
            "bin_start": 2878,
            "bin_end": 3354,
            "count": 0
           },
           {
            "bin_start": 3354,
            "bin_end": 3830,
            "count": 0
           },
           {
            "bin_start": 3830,
            "bin_end": 4306,
            "count": 0
           },
           {
            "bin_start": 4306,
            "bin_end": 4782,
            "count": 1
           }
          ]
         }
        },
        {
         "name": "Qtd_Acessos_AoSite_UltMes",
         "dtype": "int32",
         "stats": {
          "unique_count": 4,
          "nan_count": 0,
          "min": "36",
          "max": "6037",
          "histogram": [
           {
            "bin_start": 36,
            "bin_end": 636.1,
            "count": 1
           },
           {
            "bin_start": 636.1,
            "bin_end": 1236.2,
            "count": 0
           },
           {
            "bin_start": 1236.2,
            "bin_end": 1836.3000000000002,
            "count": 1
           },
           {
            "bin_start": 1836.3000000000002,
            "bin_end": 2436.4,
            "count": 0
           },
           {
            "bin_start": 2436.4,
            "bin_end": 3036.5,
            "count": 0
           },
           {
            "bin_start": 3036.5,
            "bin_end": 3636.6000000000004,
            "count": 0
           },
           {
            "bin_start": 3636.6000000000004,
            "bin_end": 4236.7,
            "count": 1
           },
           {
            "bin_start": 4236.7,
            "bin_end": 4836.8,
            "count": 0
           },
           {
            "bin_start": 4836.8,
            "bin_end": 5436.900000000001,
            "count": 0
           },
           {
            "bin_start": 5436.900000000001,
            "bin_end": 6037,
            "count": 1
           }
          ]
         }
        },
        {
         "name": "_deepnote_index_column",
         "dtype": "object"
        }
       ],
       "rows": [
        {
         "Qtd_Compras_OnLine": 22,
         "Qtd_Acessos_AoSite_UltMes": 36,
         "_deepnote_index_column": "Abaixo de 20"
        },
        {
         "Qtd_Compras_OnLine": 2764,
         "Qtd_Acessos_AoSite_UltMes": 4229,
         "_deepnote_index_column": "De 20 à 39"
        },
        {
         "Qtd_Compras_OnLine": 4782,
         "Qtd_Acessos_AoSite_UltMes": 6037,
         "_deepnote_index_column": "De 40 à 59"
        },
        {
         "Qtd_Compras_OnLine": 1462,
         "Qtd_Acessos_AoSite_UltMes": 1461,
         "_deepnote_index_column": "De 60 à 79"
        }
       ]
      },
      "text/plain": "              Qtd_Compras_OnLine  Qtd_Acessos_AoSite_UltMes\nFaixa_Etaria                                               \nAbaixo de 20                  22                         36\nDe 20 à 39                  2764                       4229\nDe 40 à 59                  4782                       6037\nDe 60 à 79                  1462                       1461",
      "text/html": "<div>\n<style scoped>\n    .dataframe tbody tr th:only-of-type {\n        vertical-align: middle;\n    }\n\n    .dataframe tbody tr th {\n        vertical-align: top;\n    }\n\n    .dataframe thead th {\n        text-align: right;\n    }\n</style>\n<table border=\"1\" class=\"dataframe\">\n  <thead>\n    <tr style=\"text-align: right;\">\n      <th></th>\n      <th>Qtd_Compras_OnLine</th>\n      <th>Qtd_Acessos_AoSite_UltMes</th>\n    </tr>\n    <tr>\n      <th>Faixa_Etaria</th>\n      <th></th>\n      <th></th>\n    </tr>\n  </thead>\n  <tbody>\n    <tr>\n      <th>Abaixo de 20</th>\n      <td>22</td>\n      <td>36</td>\n    </tr>\n    <tr>\n      <th>De 20 à 39</th>\n      <td>2764</td>\n      <td>4229</td>\n    </tr>\n    <tr>\n      <th>De 40 à 59</th>\n      <td>4782</td>\n      <td>6037</td>\n    </tr>\n    <tr>\n      <th>De 60 à 79</th>\n      <td>1462</td>\n      <td>1461</td>\n    </tr>\n  </tbody>\n</table>\n</div>"
     },
     "metadata": {}
    }
   ]
  },
  {
   "cell_type": "code",
   "metadata": {
    "cell_id": "2d0db197-16ec-4997-baa9-0545e0590299",
    "tags": [],
    "deepnote_to_be_reexecuted": false,
    "source_hash": "9689f061",
    "execution_start": 1643669551602,
    "execution_millis": 305,
    "deepnote_output_heights": [
     1,
     320
    ],
    "deepnote_cell_type": "code"
   },
   "source": "df_compras_30d.plot.bar()",
   "execution_count": null,
   "outputs": [
    {
     "output_type": "execute_result",
     "execution_count": 31,
     "data": {
      "text/plain": "<AxesSubplot:xlabel='Faixa_Etaria'>"
     },
     "metadata": {}
    },
    {
     "data": {
      "text/plain": "<Figure size 432x288 with 1 Axes>",
      "image/png": "[encoded data removed]"
     },
     "metadata": {
      "needs_background": "light",
      "image/png": {
       "width": 381,
       "height": 318
      }
     },
     "output_type": "display_data"
    }
   ]
  },
  {
   "cell_type": "markdown",
   "source": "#### Apresentando o poder de alcance das campanhas (em qual campanha a pessoa costuma aderir) por Faixa Etária e Renda.",
   "metadata": {
    "cell_id": "9cae765a-8f96-4e75-85a5-1b0263eb8e50",
    "tags": [],
    "deepnote_cell_type": "markdown"
   }
  },
  {
   "cell_type": "code",
   "metadata": {
    "cell_id": "6d944ad2-3855-4e38-95b4-513cf207452f",
    "tags": [],
    "deepnote_to_be_reexecuted": false,
    "source_hash": "bdcff818",
    "execution_start": 1643669551910,
    "execution_millis": 75,
    "deepnote_output_heights": [
     1
    ],
    "deepnote_cell_type": "code"
   },
   "source": "# Airton\n# alguém sabe fazer com que os números abaixo sejam representados por %?\n# tipo: A 'oferta_aceita_3aCamp' para 'Abaixo de 20' está como 2. Se temos 7 pessoas nesta faixa etária, então como mostraríamos 28%?\ndf_campanhas = df.groupby(['Faixa_Etaria'])[['Oferta_Aceita_1aCamp', 'Oferta_Aceita_2aCamp', 'Oferta_Aceita_3aCamp',          'Oferta_Aceita_4aCamp',\n    'Oferta_Aceita_5aCamp',]].agg('sum')\ndf_campanhas",
   "execution_count": null,
   "outputs": [
    {
     "output_type": "execute_result",
     "execution_count": 32,
     "data": {
      "application/vnd.deepnote.dataframe.v3+json": {
       "column_count": 5,
       "row_count": 4,
       "columns": [
        {
         "name": "Oferta_Aceita_1aCamp",
         "dtype": "int32",
         "stats": {
          "unique_count": 4,
          "nan_count": 0,
          "min": "0",
          "max": "62",
          "histogram": [
           {
            "bin_start": 0,
            "bin_end": 6.2,
            "count": 1
           },
           {
            "bin_start": 6.2,
            "bin_end": 12.4,
            "count": 0
           },
           {
            "bin_start": 12.4,
            "bin_end": 18.6,
            "count": 0
           },
           {
            "bin_start": 18.6,
            "bin_end": 24.8,
            "count": 0
           },
           {
            "bin_start": 24.8,
            "bin_end": 31,
            "count": 1
           },
           {
            "bin_start": 31,
            "bin_end": 37.2,
            "count": 0
           },
           {
            "bin_start": 37.2,
            "bin_end": 43.4,
            "count": 0
           },
           {
            "bin_start": 43.4,
            "bin_end": 49.6,
            "count": 0
           },
           {
            "bin_start": 49.6,
            "bin_end": 55.800000000000004,
            "count": 1
           },
           {
            "bin_start": 55.800000000000004,
            "bin_end": 62,
            "count": 1
           }
          ]
         }
        },
        {
         "name": "Oferta_Aceita_2aCamp",
         "dtype": "int32",
         "stats": {
          "unique_count": 4,
          "nan_count": 0,
          "min": "0",
          "max": "21",
          "histogram": [
           {
            "bin_start": 0,
            "bin_end": 2.1,
            "count": 2
           },
           {
            "bin_start": 2.1,
            "bin_end": 4.2,
            "count": 0
           },
           {
            "bin_start": 4.2,
            "bin_end": 6.300000000000001,
            "count": 0
           },
           {
            "bin_start": 6.300000000000001,
            "bin_end": 8.4,
            "count": 1
           },
           {
            "bin_start": 8.4,
            "bin_end": 10.5,
            "count": 0
           },
           {
            "bin_start": 10.5,
            "bin_end": 12.600000000000001,
            "count": 0
           },
           {
            "bin_start": 12.600000000000001,
            "bin_end": 14.700000000000001,
            "count": 0
           },
           {
            "bin_start": 14.700000000000001,
            "bin_end": 16.8,
            "count": 0
           },
           {
            "bin_start": 16.8,
            "bin_end": 18.900000000000002,
            "count": 0
           },
           {
            "bin_start": 18.900000000000002,
            "bin_end": 21,
            "count": 1
           }
          ]
         }
        },
        {
         "name": "Oferta_Aceita_3aCamp",
         "dtype": "int32",
         "stats": {
          "unique_count": 4,
          "nan_count": 0,
          "min": "2",
          "max": "72",
          "histogram": [
           {
            "bin_start": 2,
            "bin_end": 9,
            "count": 1
           },
           {
            "bin_start": 9,
            "bin_end": 16,
            "count": 0
           },
           {
            "bin_start": 16,
            "bin_end": 23,
            "count": 1
           },
           {
            "bin_start": 23,
            "bin_end": 30,
            "count": 0
           },
           {
            "bin_start": 30,
            "bin_end": 37,
            "count": 0
           },
           {
            "bin_start": 37,
            "bin_end": 44,
            "count": 0
           },
           {
            "bin_start": 44,
            "bin_end": 51,
            "count": 0
           },
           {
            "bin_start": 51,
            "bin_end": 58,
            "count": 0
           },
           {
            "bin_start": 58,
            "bin_end": 65,
            "count": 0
           },
           {
            "bin_start": 65,
            "bin_end": 72,
            "count": 2
           }
          ]
         }
        },
        {
         "name": "Oferta_Aceita_4aCamp",
         "dtype": "int32",
         "stats": {
          "unique_count": 4,
          "nan_count": 0,
          "min": "0",
          "max": "100",
          "histogram": [
           {
            "bin_start": 0,
            "bin_end": 10,
            "count": 1
           },
           {
            "bin_start": 10,
            "bin_end": 20,
            "count": 0
           },
           {
            "bin_start": 20,
            "bin_end": 30,
            "count": 1
           },
           {
            "bin_start": 30,
            "bin_end": 40,
            "count": 1
           },
           {
            "bin_start": 40,
            "bin_end": 50,
            "count": 0
           },
           {
            "bin_start": 50,
            "bin_end": 60,
            "count": 0
           },
           {
            "bin_start": 60,
            "bin_end": 70,
            "count": 0
           },
           {
            "bin_start": 70,
            "bin_end": 80,
            "count": 0
           },
           {
            "bin_start": 80,
            "bin_end": 90,
            "count": 0
           },
           {
            "bin_start": 90,
            "bin_end": 100,
            "count": 1
           }
          ]
         }
        },
        {
         "name": "Oferta_Aceita_5aCamp",
         "dtype": "int32",
         "stats": {
          "unique_count": 4,
          "nan_count": 0,
          "min": "2",
          "max": "69",
          "histogram": [
           {
            "bin_start": 2,
            "bin_end": 8.7,
            "count": 1
           },
           {
            "bin_start": 8.7,
            "bin_end": 15.4,
            "count": 0
           },
           {
            "bin_start": 15.4,
            "bin_end": 22.1,
            "count": 0
           },
           {
            "bin_start": 22.1,
            "bin_end": 28.8,
            "count": 0
           },
           {
            "bin_start": 28.8,
            "bin_end": 35.5,
            "count": 1
           },
           {
            "bin_start": 35.5,
            "bin_end": 42.2,
            "count": 0
           },
           {
            "bin_start": 42.2,
            "bin_end": 48.9,
            "count": 0
           },
           {
            "bin_start": 48.9,
            "bin_end": 55.6,
            "count": 0
           },
           {
            "bin_start": 55.6,
            "bin_end": 62.300000000000004,
            "count": 1
           },
           {
            "bin_start": 62.300000000000004,
            "bin_end": 69,
            "count": 1
           }
          ]
         }
        },
        {
         "name": "_deepnote_index_column",
         "dtype": "object"
        }
       ],
       "rows": [
        {
         "Oferta_Aceita_1aCamp": 0,
         "Oferta_Aceita_2aCamp": 0,
         "Oferta_Aceita_3aCamp": 2,
         "Oferta_Aceita_4aCamp": 0,
         "Oferta_Aceita_5aCamp": 2,
         "_deepnote_index_column": "Abaixo de 20"
        },
        {
         "Oferta_Aceita_1aCamp": 54,
         "Oferta_Aceita_2aCamp": 7,
         "Oferta_Aceita_3aCamp": 72,
         "Oferta_Aceita_4aCamp": 36,
         "Oferta_Aceita_5aCamp": 60,
         "_deepnote_index_column": "De 20 à 39"
        },
        {
         "Oferta_Aceita_1aCamp": 62,
         "Oferta_Aceita_2aCamp": 21,
         "Oferta_Aceita_3aCamp": 70,
         "Oferta_Aceita_4aCamp": 100,
         "Oferta_Aceita_5aCamp": 69,
         "_deepnote_index_column": "De 40 à 59"
        },
        {
         "Oferta_Aceita_1aCamp": 25,
         "Oferta_Aceita_2aCamp": 2,
         "Oferta_Aceita_3aCamp": 19,
         "Oferta_Aceita_4aCamp": 28,
         "Oferta_Aceita_5aCamp": 30,
         "_deepnote_index_column": "De 60 à 79"
        }
       ]
      },
      "text/plain": "              Oferta_Aceita_1aCamp  Oferta_Aceita_2aCamp  \\\nFaixa_Etaria                                               \nAbaixo de 20                     0                     0   \nDe 20 à 39                      54                     7   \nDe 40 à 59                      62                    21   \nDe 60 à 79                      25                     2   \n\n              Oferta_Aceita_3aCamp  Oferta_Aceita_4aCamp  Oferta_Aceita_5aCamp  \nFaixa_Etaria                                                                    \nAbaixo de 20                     2                     0                     2  \nDe 20 à 39                      72                    36                    60  \nDe 40 à 59                      70                   100                    69  \nDe 60 à 79                      19                    28                    30  ",
      "text/html": "<div>\n<style scoped>\n    .dataframe tbody tr th:only-of-type {\n        vertical-align: middle;\n    }\n\n    .dataframe tbody tr th {\n        vertical-align: top;\n    }\n\n    .dataframe thead th {\n        text-align: right;\n    }\n</style>\n<table border=\"1\" class=\"dataframe\">\n  <thead>\n    <tr style=\"text-align: right;\">\n      <th></th>\n      <th>Oferta_Aceita_1aCamp</th>\n      <th>Oferta_Aceita_2aCamp</th>\n      <th>Oferta_Aceita_3aCamp</th>\n      <th>Oferta_Aceita_4aCamp</th>\n      <th>Oferta_Aceita_5aCamp</th>\n    </tr>\n    <tr>\n      <th>Faixa_Etaria</th>\n      <th></th>\n      <th></th>\n      <th></th>\n      <th></th>\n      <th></th>\n    </tr>\n  </thead>\n  <tbody>\n    <tr>\n      <th>Abaixo de 20</th>\n      <td>0</td>\n      <td>0</td>\n      <td>2</td>\n      <td>0</td>\n      <td>2</td>\n    </tr>\n    <tr>\n      <th>De 20 à 39</th>\n      <td>54</td>\n      <td>7</td>\n      <td>72</td>\n      <td>36</td>\n      <td>60</td>\n    </tr>\n    <tr>\n      <th>De 40 à 59</th>\n      <td>62</td>\n      <td>21</td>\n      <td>70</td>\n      <td>100</td>\n      <td>69</td>\n    </tr>\n    <tr>\n      <th>De 60 à 79</th>\n      <td>25</td>\n      <td>2</td>\n      <td>19</td>\n      <td>28</td>\n      <td>30</td>\n    </tr>\n  </tbody>\n</table>\n</div>"
     },
     "metadata": {}
    }
   ]
  },
  {
   "cell_type": "code",
   "metadata": {
    "cell_id": "cf6ebd29-57a0-4955-939e-bcd4f550c076",
    "tags": [],
    "deepnote_to_be_reexecuted": false,
    "source_hash": "3426b6f5",
    "execution_start": 1643669551992,
    "execution_millis": 330,
    "deepnote_output_heights": [
     1,
     320
    ],
    "deepnote_cell_type": "code"
   },
   "source": "df_campanhas.rename(columns = {coluna:coluna[-6:] for coluna in df_campanhas.columns})[['1aCamp','2aCamp','3aCamp','4aCamp','5aCamp']].plot.bar()",
   "execution_count": null,
   "outputs": [
    {
     "output_type": "execute_result",
     "execution_count": 33,
     "data": {
      "text/plain": "<AxesSubplot:xlabel='Faixa_Etaria'>"
     },
     "metadata": {}
    },
    {
     "data": {
      "text/plain": "<Figure size 432x288 with 1 Axes>",
      "image/png": "[encoded data removed]"
     },
     "metadata": {
      "needs_background": "light",
      "image/png": {
       "width": 375,
       "height": 318
      }
     },
     "output_type": "display_data"
    }
   ]
  },
  {
   "cell_type": "markdown",
   "source": "#### Em média, de quantas campanhas os clientes pariticipam?",
   "metadata": {
    "cell_id": "02a8acf7-b88a-4977-a925-08bf86fdc2a1",
    "tags": [],
    "deepnote_cell_type": "markdown"
   }
  },
  {
   "cell_type": "code",
   "metadata": {
    "cell_id": "2d41447a-f773-4836-8830-458eba659e18",
    "tags": [],
    "deepnote_to_be_reexecuted": false,
    "source_hash": "78d00182",
    "execution_start": 1643669552440,
    "execution_millis": 1115,
    "deepnote_output_heights": [
     136.3125
    ],
    "deepnote_cell_type": "code"
   },
   "source": "df['Total_Ofertas_Aceitas'] = df.apply(lambda linha: linha[['Oferta_Aceita_3aCamp','Oferta_Aceita_4aCamp','Oferta_Aceita_5aCamp','Oferta_Aceita_1aCamp','Oferta_Aceita_2aCamp', 'Oferta_Aceita_UltCamp' ]].sum(), axis=1)\n\n(df['Total_Ofertas_Aceitas'].value_counts()/df.shape[0]).to_frame()",
   "execution_count": null,
   "outputs": [
    {
     "output_type": "execute_result",
     "execution_count": 34,
     "data": {
      "application/vnd.deepnote.dataframe.v3+json": {
       "column_count": 1,
       "row_count": 6,
       "columns": [
        {
         "name": "Total_Ofertas_Aceitas",
         "dtype": "float64",
         "stats": {
          "unique_count": 6,
          "nan_count": 0,
          "min": "0.004522840343735866",
          "max": "0.7272727272727273",
          "histogram": [
           {
            "bin_start": 0.004522840343735866,
            "bin_end": 0.07679782903663501,
            "count": 4
           },
           {
            "bin_start": 0.07679782903663501,
            "bin_end": 0.14907281772953415,
            "count": 0
           },
           {
            "bin_start": 0.14907281772953415,
            "bin_end": 0.2213478064224333,
            "count": 1
           },
           {
            "bin_start": 0.2213478064224333,
            "bin_end": 0.2936227951153324,
            "count": 0
           },
           {
            "bin_start": 0.2936227951153324,
            "bin_end": 0.36589778380823157,
            "count": 0
           },
           {
            "bin_start": 0.36589778380823157,
            "bin_end": 0.4381727725011307,
            "count": 0
           },
           {
            "bin_start": 0.4381727725011307,
            "bin_end": 0.5104477611940298,
            "count": 0
           },
           {
            "bin_start": 0.5104477611940298,
            "bin_end": 0.582722749886929,
            "count": 0
           },
           {
            "bin_start": 0.582722749886929,
            "bin_end": 0.6549977385798281,
            "count": 0
           },
           {
            "bin_start": 0.6549977385798281,
            "bin_end": 0.7272727272727273,
            "count": 1
           }
          ]
         }
        },
        {
         "name": "_deepnote_index_column",
         "dtype": "int64"
        }
       ],
       "rows": [
        {
         "Total_Ofertas_Aceitas": 0.7272727272727273,
         "_deepnote_index_column": 0
        },
        {
         "Total_Ofertas_Aceitas": 0.16644052464947987,
         "_deepnote_index_column": 1
        },
        {
         "Total_Ofertas_Aceitas": 0.06286748077792854,
         "_deepnote_index_column": 2
        },
        {
         "Total_Ofertas_Aceitas": 0.022614201718679332,
         "_deepnote_index_column": 3
        },
        {
         "Total_Ofertas_Aceitas": 0.016282225237449117,
         "_deepnote_index_column": 4
        },
        {
         "Total_Ofertas_Aceitas": 0.004522840343735866,
         "_deepnote_index_column": 5
        }
       ]
      },
      "text/plain": "   Total_Ofertas_Aceitas\n0                   0.73\n1                   0.17\n2                   0.06\n3                   0.02\n4                   0.02\n5                   0.00",
      "text/html": "<div>\n<style scoped>\n    .dataframe tbody tr th:only-of-type {\n        vertical-align: middle;\n    }\n\n    .dataframe tbody tr th {\n        vertical-align: top;\n    }\n\n    .dataframe thead th {\n        text-align: right;\n    }\n</style>\n<table border=\"1\" class=\"dataframe\">\n  <thead>\n    <tr style=\"text-align: right;\">\n      <th></th>\n      <th>Total_Ofertas_Aceitas</th>\n    </tr>\n  </thead>\n  <tbody>\n    <tr>\n      <th>0</th>\n      <td>0.73</td>\n    </tr>\n    <tr>\n      <th>1</th>\n      <td>0.17</td>\n    </tr>\n    <tr>\n      <th>2</th>\n      <td>0.06</td>\n    </tr>\n    <tr>\n      <th>3</th>\n      <td>0.02</td>\n    </tr>\n    <tr>\n      <th>4</th>\n      <td>0.02</td>\n    </tr>\n    <tr>\n      <th>5</th>\n      <td>0.00</td>\n    </tr>\n  </tbody>\n</table>\n</div>"
     },
     "metadata": {}
    }
   ]
  },
  {
   "cell_type": "code",
   "metadata": {
    "cell_id": "331d4dd6-9e82-469e-a4e4-9b0031dda0c6",
    "tags": [],
    "deepnote_to_be_reexecuted": false,
    "source_hash": "dcec1be7",
    "execution_start": 1643669553560,
    "execution_millis": 6,
    "deepnote_output_heights": [
     1
    ],
    "deepnote_cell_type": "code"
   },
   "source": "media_part_camp = (df['Total_Ofertas_Aceitas'].value_counts()/df.shape[0]).to_frame().reset_index().apply(lambda x: x['Total_Ofertas_Aceitas']*x['index'], axis =1 ).sum()\nmedia_part_camp ",
   "execution_count": null,
   "outputs": [
    {
     "output_type": "execute_result",
     "execution_count": 35,
     "data": {
      "text/plain": "0.44776119402985076"
     },
     "metadata": {}
    }
   ]
  },
  {
   "cell_type": "markdown",
   "source": "#### Qual a média de gasto por número de campanhas aceitas? (Apresentação Luis)",
   "metadata": {
    "cell_id": "e993ed49-4de5-4484-ab43-da6d73aaa69a",
    "tags": [],
    "deepnote_cell_type": "markdown"
   }
  },
  {
   "cell_type": "code",
   "metadata": {
    "cell_id": "3eeb46cc-3965-41ae-b529-f2a9df5bd26e",
    "tags": [],
    "deepnote_to_be_reexecuted": false,
    "source_hash": "94ca2cc0",
    "execution_start": 1643669553568,
    "execution_millis": 54,
    "deepnote_cell_type": "code"
   },
   "source": "total_linhas = df[\"Ano_Nasc\"].size\n\nresumo = df.groupby(\"Total_Ofertas_Aceitas\").agg({\"Ano_Nasc\":\"count\", \"Gastos_Em_Prod_Ouro_Ult2Anos\":\"sum\"})\n\nresumo[\"media_consumo_ofertas\"] = resumo[\"Gastos_Em_Prod_Ouro_Ult2Anos\"]/resumo[\"Ano_Nasc\"]\n\nresumo.rename(columns={\"Ano_Nasc\":\"Qtd_Pessoas\"},inplace=True)\n\nresumo",
   "execution_count": null,
   "outputs": [
    {
     "output_type": "execute_result",
     "execution_count": 36,
     "data": {
      "application/vnd.deepnote.dataframe.v3+json": {
       "column_count": 3,
       "row_count": 6,
       "columns": [
        {
         "name": "Qtd_Pessoas",
         "dtype": "int64",
         "stats": {
          "unique_count": 6,
          "nan_count": 0,
          "min": "10",
          "max": "1608",
          "histogram": [
           {
            "bin_start": 10,
            "bin_end": 169.8,
            "count": 4
           },
           {
            "bin_start": 169.8,
            "bin_end": 329.6,
            "count": 0
           },
           {
            "bin_start": 329.6,
            "bin_end": 489.40000000000003,
            "count": 1
           },
           {
            "bin_start": 489.40000000000003,
            "bin_end": 649.2,
            "count": 0
           },
           {
            "bin_start": 649.2,
            "bin_end": 809,
            "count": 0
           },
           {
            "bin_start": 809,
            "bin_end": 968.8000000000001,
            "count": 0
           },
           {
            "bin_start": 968.8000000000001,
            "bin_end": 1128.6000000000001,
            "count": 0
           },
           {
            "bin_start": 1128.6000000000001,
            "bin_end": 1288.4,
            "count": 0
           },
           {
            "bin_start": 1288.4,
            "bin_end": 1448.2,
            "count": 0
           },
           {
            "bin_start": 1448.2,
            "bin_end": 1608,
            "count": 1
           }
          ]
         }
        },
        {
         "name": "Gastos_Em_Prod_Ouro_Ult2Anos",
         "dtype": "float32",
         "stats": {
          "unique_count": 6,
          "nan_count": 0,
          "min": "592.0",
          "max": "60674.0",
          "histogram": [
           {
            "bin_start": 592,
            "bin_end": 6600.2001953125,
            "count": 3
           },
           {
            "bin_start": 6600.2001953125,
            "bin_end": 12608.400390625,
            "count": 1
           },
           {
            "bin_start": 12608.400390625,
            "bin_end": 18616.599609375,
            "count": 0
           },
           {
            "bin_start": 18616.599609375,
            "bin_end": 24624.80078125,
            "count": 1
           },
           {
            "bin_start": 24624.80078125,
            "bin_end": 30633,
            "count": 0
           },
           {
            "bin_start": 30633,
            "bin_end": 36641.19921875,
            "count": 0
           },
           {
            "bin_start": 36641.19921875,
            "bin_end": 42649.3984375,
            "count": 0
           },
           {
            "bin_start": 42649.3984375,
            "bin_end": 48657.6015625,
            "count": 0
           },
           {
            "bin_start": 48657.6015625,
            "bin_end": 54665.80078125,
            "count": 0
           },
           {
            "bin_start": 54665.80078125,
            "bin_end": 60674,
            "count": 1
           }
          ]
         }
        },
        {
         "name": "media_consumo_ofertas",
         "dtype": "float64",
         "stats": {
          "unique_count": 6,
          "nan_count": 0,
          "min": "37.732587064676615",
          "max": "86.72222222222223",
          "histogram": [
           {
            "bin_start": 37.732587064676615,
            "bin_end": 42.631550580431174,
            "count": 1
           },
           {
            "bin_start": 42.631550580431174,
            "bin_end": 47.53051409618574,
            "count": 0
           },
           {
            "bin_start": 47.53051409618574,
            "bin_end": 52.4294776119403,
            "count": 0
           },
           {
            "bin_start": 52.4294776119403,
            "bin_end": 57.32844112769486,
            "count": 2
           },
           {
            "bin_start": 57.32844112769486,
            "bin_end": 62.22740464344942,
            "count": 1
           },
           {
            "bin_start": 62.22740464344942,
            "bin_end": 67.12636815920398,
            "count": 0
           },
           {
            "bin_start": 67.12636815920398,
            "bin_end": 72.02533167495855,
            "count": 0
           },
           {
            "bin_start": 72.02533167495855,
            "bin_end": 76.92429519071311,
            "count": 0
           },
           {
            "bin_start": 76.92429519071311,
            "bin_end": 81.82325870646767,
            "count": 0
           },
           {
            "bin_start": 81.82325870646767,
            "bin_end": 86.72222222222223,
            "count": 2
           }
          ]
         }
        },
        {
         "name": "_deepnote_index_column",
         "dtype": "int64"
        }
       ],
       "rows": [
        {
         "Qtd_Pessoas": 1608,
         "Gastos_Em_Prod_Ouro_Ult2Anos": 60674,
         "media_consumo_ofertas": 37.732587064676615,
         "_deepnote_index_column": 0
        },
        {
         "Qtd_Pessoas": 368,
         "Gastos_Em_Prod_Ouro_Ult2Anos": 20635,
         "media_consumo_ofertas": 56.07336956521739,
         "_deepnote_index_column": 1
        },
        {
         "Qtd_Pessoas": 139,
         "Gastos_Em_Prod_Ouro_Ult2Anos": 7720,
         "media_consumo_ofertas": 55.539568345323744,
         "_deepnote_index_column": 2
        },
        {
         "Qtd_Pessoas": 50,
         "Gastos_Em_Prod_Ouro_Ult2Anos": 4167,
         "media_consumo_ofertas": 83.34,
         "_deepnote_index_column": 3
        },
        {
         "Qtd_Pessoas": 36,
         "Gastos_Em_Prod_Ouro_Ult2Anos": 3122,
         "media_consumo_ofertas": 86.72222222222223,
         "_deepnote_index_column": 4
        },
        {
         "Qtd_Pessoas": 10,
         "Gastos_Em_Prod_Ouro_Ult2Anos": 592,
         "media_consumo_ofertas": 59.2,
         "_deepnote_index_column": 5
        }
       ]
      },
      "text/plain": "                       Qtd_Pessoas  Gastos_Em_Prod_Ouro_Ult2Anos  \\\nTotal_Ofertas_Aceitas                                              \n0                             1608                     60,674.00   \n1                              368                     20,635.00   \n2                              139                      7,720.00   \n3                               50                      4,167.00   \n4                               36                      3,122.00   \n5                               10                        592.00   \n\n                       media_consumo_ofertas  \nTotal_Ofertas_Aceitas                         \n0                                      37.73  \n1                                      56.07  \n2                                      55.54  \n3                                      83.34  \n4                                      86.72  \n5                                      59.20  ",
      "text/html": "<div>\n<style scoped>\n    .dataframe tbody tr th:only-of-type {\n        vertical-align: middle;\n    }\n\n    .dataframe tbody tr th {\n        vertical-align: top;\n    }\n\n    .dataframe thead th {\n        text-align: right;\n    }\n</style>\n<table border=\"1\" class=\"dataframe\">\n  <thead>\n    <tr style=\"text-align: right;\">\n      <th></th>\n      <th>Qtd_Pessoas</th>\n      <th>Gastos_Em_Prod_Ouro_Ult2Anos</th>\n      <th>media_consumo_ofertas</th>\n    </tr>\n    <tr>\n      <th>Total_Ofertas_Aceitas</th>\n      <th></th>\n      <th></th>\n      <th></th>\n    </tr>\n  </thead>\n  <tbody>\n    <tr>\n      <th>0</th>\n      <td>1608</td>\n      <td>60,674.00</td>\n      <td>37.73</td>\n    </tr>\n    <tr>\n      <th>1</th>\n      <td>368</td>\n      <td>20,635.00</td>\n      <td>56.07</td>\n    </tr>\n    <tr>\n      <th>2</th>\n      <td>139</td>\n      <td>7,720.00</td>\n      <td>55.54</td>\n    </tr>\n    <tr>\n      <th>3</th>\n      <td>50</td>\n      <td>4,167.00</td>\n      <td>83.34</td>\n    </tr>\n    <tr>\n      <th>4</th>\n      <td>36</td>\n      <td>3,122.00</td>\n      <td>86.72</td>\n    </tr>\n    <tr>\n      <th>5</th>\n      <td>10</td>\n      <td>592.00</td>\n      <td>59.20</td>\n    </tr>\n  </tbody>\n</table>\n</div>"
     },
     "metadata": {}
    }
   ]
  },
  {
   "cell_type": "markdown",
   "source": "### Tentando descobrir quando as campanhas aconteceram. (Apresentação Luis)",
   "metadata": {
    "cell_id": "3f790f31-4b50-443a-bca9-9453db666185",
    "tags": [],
    "deepnote_cell_type": "markdown"
   }
  },
  {
   "cell_type": "code",
   "metadata": {
    "cell_id": "4dd604ac-6023-43cf-b689-37d6bc8bd178",
    "tags": [],
    "deepnote_to_be_reexecuted": false,
    "source_hash": "c5348e30",
    "execution_start": 1643669553602,
    "execution_millis": 47,
    "deepnote_cell_type": "code"
   },
   "source": "# Lista para armazenar as datas mais recentes de cadastro \n# referente ao grupo de pessoas que aceitou oferta de determinada campanha.\n\ndatas_maximas=[]\n\nindices = range(1,7)\n\n# Colocando na lista a data de cadastro mais recente dos participantes de cada campanha\nfor indice in indices:\n    \n    if indice<6:\n        coluna = \"Oferta_Aceita_\"+str(indice)+\"aCamp\"\n\n    else:\n        coluna = \"Oferta_Aceita_UltCamp\"\n        pass\n    \n    datas_maximas.append(df[df[coluna]==1][\"Dt_Cadastro\"].max())\n        \n\n# Construindo um dataframe para os dados das campanhas\n\ndf_campanhas = pd.DataFrame({\"camp_index\": indices,  \"cadastro_mais_recente\":datas_maximas})\n\ndf_campanhas.set_index(\"camp_index\", inplace=True)\n\ndf_campanhas.sort_values(\"cadastro_mais_recente\", inplace=True)\n\n\n\nprint(f\"Cadastro mais antigo do dataframe original: {df['Dt_Cadastro'].min()}\")\n\nprint(f\"Cadastro mais recente do dataframe original: {df['Dt_Cadastro'].max()}\")\n\nprint(\"Dentre os que aceitaram ofertas de cada campanha, o cadastro mais recente é da data...\")\n\ndf_campanhas",
   "execution_count": null,
   "outputs": [
    {
     "name": "stdout",
     "text": "Cadastro mais antigo do dataframe original: 2012-01-08 00:00:00\nCadastro mais recente do dataframe original: 2014-12-06 00:00:00\nDentre os que aceitaram ofertas de cada campanha, o cadastro mais recente é da data...\n",
     "output_type": "stream"
    },
    {
     "output_type": "execute_result",
     "execution_count": 37,
     "data": {
      "application/vnd.deepnote.dataframe.v3+json": {
       "column_count": 1,
       "row_count": 6,
       "columns": [
        {
         "name": "cadastro_mais_recente",
         "dtype": "datetime64[ns]",
         "stats": {
          "unique_count": 5,
          "nan_count": 0,
          "min": "2014-06-17 00:00:00",
          "max": "2014-12-05 00:00:00",
          "histogram": [
           {
            "bin_start": 1402963200000000000,
            "bin_end": 1404440640000000000,
            "count": 1
           },
           {
            "bin_start": 1404440640000000000,
            "bin_end": 1405918080000000000,
            "count": 0
           },
           {
            "bin_start": 1405918080000000000,
            "bin_end": 1407395520000000000,
            "count": 0
           },
           {
            "bin_start": 1407395520000000000,
            "bin_end": 1408872960000000000,
            "count": 0
           },
           {
            "bin_start": 1408872960000000000,
            "bin_end": 1410350400000000000,
            "count": 0
           },
           {
            "bin_start": 1410350400000000000,
            "bin_end": 1411827840000000000,
            "count": 0
           },
           {
            "bin_start": 1411827840000000000,
            "bin_end": 1413305280000000000,
            "count": 0
           },
           {
            "bin_start": 1413305280000000000,
            "bin_end": 1414782720000000000,
            "count": 0
           },
           {
            "bin_start": 1414782720000000000,
            "bin_end": 1416260160000000000,
            "count": 1
           },
           {
            "bin_start": 1416260160000000000,
            "bin_end": 1417737600000000000,
            "count": 4
           }
          ]
         }
        },
        {
         "name": "_deepnote_index_column",
         "dtype": "int64"
        }
       ],
       "rows": [
        {
         "cadastro_mais_recente": "2014-06-17T00:00:00.000000",
         "_deepnote_index_column": 2
        },
        {
         "cadastro_mais_recente": "2014-11-02T00:00:00.000000",
         "_deepnote_index_column": 3
        },
        {
         "cadastro_mais_recente": "2014-12-02T00:00:00.000000",
         "_deepnote_index_column": 1
        },
        {
         "cadastro_mais_recente": "2014-12-02T00:00:00.000000",
         "_deepnote_index_column": 6
        },
        {
         "cadastro_mais_recente": "2014-12-03T00:00:00.000000",
         "_deepnote_index_column": 4
        },
        {
         "cadastro_mais_recente": "2014-12-05T00:00:00.000000",
         "_deepnote_index_column": 5
        }
       ]
      },
      "text/plain": "           cadastro_mais_recente\ncamp_index                      \n2                     2014-06-17\n3                     2014-11-02\n1                     2014-12-02\n6                     2014-12-02\n4                     2014-12-03\n5                     2014-12-05",
      "text/html": "<div>\n<style scoped>\n    .dataframe tbody tr th:only-of-type {\n        vertical-align: middle;\n    }\n\n    .dataframe tbody tr th {\n        vertical-align: top;\n    }\n\n    .dataframe thead th {\n        text-align: right;\n    }\n</style>\n<table border=\"1\" class=\"dataframe\">\n  <thead>\n    <tr style=\"text-align: right;\">\n      <th></th>\n      <th>cadastro_mais_recente</th>\n    </tr>\n    <tr>\n      <th>camp_index</th>\n      <th></th>\n    </tr>\n  </thead>\n  <tbody>\n    <tr>\n      <th>2</th>\n      <td>2014-06-17</td>\n    </tr>\n    <tr>\n      <th>3</th>\n      <td>2014-11-02</td>\n    </tr>\n    <tr>\n      <th>1</th>\n      <td>2014-12-02</td>\n    </tr>\n    <tr>\n      <th>6</th>\n      <td>2014-12-02</td>\n    </tr>\n    <tr>\n      <th>4</th>\n      <td>2014-12-03</td>\n    </tr>\n    <tr>\n      <th>5</th>\n      <td>2014-12-05</td>\n    </tr>\n  </tbody>\n</table>\n</div>"
     },
     "metadata": {}
    }
   ]
  },
  {
   "cell_type": "markdown",
   "source": "#### 1. Apresente as características do conjunto de dados fornecido, destacando sua visão geral acerca do conjunto de dados e tecendo críticas e comentários.",
   "metadata": {
    "cell_id": "878f99e1-fba5-4da8-b391-1c76a18a1d36",
    "tags": [],
    "deepnote_cell_type": "markdown"
   }
  },
  {
   "cell_type": "markdown",
   "source": "#### 2. Faça uma análise detalhada das variáveis numéricas e categóricas da base de dados, discutindo sua distribuição e outras características relevantes.",
   "metadata": {
    "cell_id": "a0ddfc59-d867-4cb8-b2c4-16cc334a5c3b",
    "tags": [],
    "deepnote_cell_type": "markdown"
   }
  },
  {
   "cell_type": "markdown",
   "source": "#### 3. Limpeza de dados: Considere a avaliação da existência de valores ausentes e de possíveis outliers, discutindindo como estes podem ser tratados e eliminados;",
   "metadata": {
    "cell_id": "f806d658-9062-4482-a61a-fcfb7827875b",
    "tags": [],
    "deepnote_cell_type": "markdown"
   }
  },
  {
   "cell_type": "markdown",
   "source": "#### 4. Feature engineering: Quais variáveis você poderia criar para enriquecer a análise?",
   "metadata": {
    "cell_id": "644c0040-0e4c-4018-870c-2fe15332d675",
    "tags": [],
    "deepnote_cell_type": "markdown"
   }
  },
  {
   "cell_type": "markdown",
   "source": "#### 5. Enriquecimento da base: Inclua qualquer outra informação/análise que achar importante.",
   "metadata": {
    "cell_id": "b57ce688-2d8c-4836-b006-42fd55b47793",
    "tags": [],
    "deepnote_cell_type": "markdown"
   }
  },
  {
   "cell_type": "markdown",
   "source": "#### 6. Que outras bases externas ou internas você buscaria para enriquecer as análises?\n\nUma base com dados das campanhas permitiria associar a taxa de penetração das campanhas com relação a datas comemorativas ou sazonalidade.\n\nUma base de dados com gastos por faixa etária da população em geral com produtos similares, permitira verificar se estamos acima ou abaixo da média dos concorrentes. Poderia ser alguma base de dados de associação comercial, por exemplo.\n\n",
   "metadata": {
    "cell_id": "a5efe462-a7f2-4f95-adbf-2c9cb88d4923",
    "tags": [],
    "deepnote_cell_type": "markdown"
   }
  },
  {
   "cell_type": "markdown",
   "source": "<a style='text-decoration:none;line-height:16px;display:flex;color:#5B5B62;padding:10px;justify-content:end;' href='https://deepnote.com?utm_source=created-in-deepnote-cell&projectId=1f826d52-8bc7-47a7-8f9d-9b5ff7245f3a' target=\"_blank\">\n<img alt='Created in deepnote.com' style='display:inline;max-height:16px;margin:0px;margin-right:7.5px;' src='data:image/svg+xml;base64,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' > </img>\nCreated in <span style='font-weight:600;margin-left:4px;'>Deepnote</span></a>",
   "metadata": {
    "tags": [],
    "created_in_deepnote_cell": true,
    "deepnote_cell_type": "markdown"
   }
  }
 ],
 "nbformat": 4,
 "nbformat_minor": 2,
 "metadata": {
  "orig_nbformat": 2,
  "deepnote": {
   "is_reactive": false
  },
  "deepnote_notebook_id": "9cd0d6b3-881f-4444-9edc-564d0224f91b",
  "deepnote_execution_queue": []
 }
}